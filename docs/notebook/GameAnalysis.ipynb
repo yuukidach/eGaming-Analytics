{
 "cells": [
  {
   "cell_type": "markdown",
   "metadata": {},
   "source": [
    "# Analyze game data\n",
    "## Part I Analyzing game results\n"
   ]
  },
  {
   "cell_type": "code",
   "execution_count": 5,
   "metadata": {},
   "outputs": [
    {
     "name": "stdout",
     "output_type": "stream",
     "text": [
      "(100, 12)\n"
     ]
    },
    {
     "data": {
      "text/html": [
       "<div>\n",
       "<style scoped>\n",
       "    .dataframe tbody tr th:only-of-type {\n",
       "        vertical-align: middle;\n",
       "    }\n",
       "\n",
       "    .dataframe tbody tr th {\n",
       "        vertical-align: top;\n",
       "    }\n",
       "\n",
       "    .dataframe thead th {\n",
       "        text-align: right;\n",
       "    }\n",
       "</style>\n",
       "<table border=\"1\" class=\"dataframe\">\n",
       "  <thead>\n",
       "    <tr style=\"text-align: right;\">\n",
       "      <th></th>\n",
       "      <th>id</th>\n",
       "      <th>name</th>\n",
       "      <th>box_art_url</th>\n",
       "      <th>Live viewers</th>\n",
       "      <th>Live channels</th>\n",
       "      <th>Rank</th>\n",
       "      <th>Avg. viewers, 7 days</th>\n",
       "      <th>Avg. channels, 7 days</th>\n",
       "      <th>Hours watched, 7 days</th>\n",
       "      <th>Peak viewers</th>\n",
       "      <th>Peak channels</th>\n",
       "      <th>Viewers per channel, 7 days</th>\n",
       "    </tr>\n",
       "  </thead>\n",
       "  <tbody>\n",
       "    <tr>\n",
       "      <th>0</th>\n",
       "      <td>509658</td>\n",
       "      <td>Just Chatting</td>\n",
       "      <td>https://static-cdn.jtvnw.net/ttv-boxart/Just%2...</td>\n",
       "      <td>305787</td>\n",
       "      <td>5109</td>\n",
       "      <td># 1</td>\n",
       "      <td>322642</td>\n",
       "      <td>4094</td>\n",
       "      <td>54257694</td>\n",
       "      <td>1018061 2020-11-19</td>\n",
       "      <td>12139 2020-06-11</td>\n",
       "      <td>78.8</td>\n",
       "    </tr>\n",
       "    <tr>\n",
       "      <th>1</th>\n",
       "      <td>27471</td>\n",
       "      <td>Minecraft</td>\n",
       "      <td>https://static-cdn.jtvnw.net/ttv-boxart/Minecr...</td>\n",
       "      <td>207153</td>\n",
       "      <td>4782</td>\n",
       "      <td># 5</td>\n",
       "      <td>102908</td>\n",
       "      <td>3392</td>\n",
       "      <td>17305718</td>\n",
       "      <td>620179 2020-11-16</td>\n",
       "      <td>6146 2020-11-21</td>\n",
       "      <td>30.3</td>\n",
       "    </tr>\n",
       "    <tr>\n",
       "      <th>2</th>\n",
       "      <td>32982</td>\n",
       "      <td>Grand Theft Auto V</td>\n",
       "      <td>https://static-cdn.jtvnw.net/ttv-boxart/Grand%...</td>\n",
       "      <td>198623</td>\n",
       "      <td>2641</td>\n",
       "      <td># 8</td>\n",
       "      <td>78299</td>\n",
       "      <td>2083</td>\n",
       "      <td>13167311</td>\n",
       "      <td>389213 2020-06-05</td>\n",
       "      <td>5831 2020-05-16</td>\n",
       "      <td>37.6</td>\n",
       "    </tr>\n",
       "    <tr>\n",
       "      <th>3</th>\n",
       "      <td>18122</td>\n",
       "      <td>World of Warcraft</td>\n",
       "      <td>https://static-cdn.jtvnw.net/ttv-boxart/World%...</td>\n",
       "      <td>134303</td>\n",
       "      <td>4389</td>\n",
       "      <td># 4</td>\n",
       "      <td>131692</td>\n",
       "      <td>3699</td>\n",
       "      <td>22146218</td>\n",
       "      <td>1135186 2019-08-26</td>\n",
       "      <td>25786 2020-11-24</td>\n",
       "      <td>35.6</td>\n",
       "    </tr>\n",
       "    <tr>\n",
       "      <th>4</th>\n",
       "      <td>511224</td>\n",
       "      <td>Apex Legends</td>\n",
       "      <td>https://static-cdn.jtvnw.net/ttv-boxart/Apex%2...</td>\n",
       "      <td>124198</td>\n",
       "      <td>5410</td>\n",
       "      <td># 13</td>\n",
       "      <td>51471</td>\n",
       "      <td>3692</td>\n",
       "      <td>8655728</td>\n",
       "      <td>674070 2019-02-12</td>\n",
       "      <td>18919 2019-02-12</td>\n",
       "      <td>13.9</td>\n",
       "    </tr>\n",
       "  </tbody>\n",
       "</table>\n",
       "</div>"
      ],
      "text/plain": [
       "       id                name  \\\n",
       "0  509658       Just Chatting   \n",
       "1   27471           Minecraft   \n",
       "2   32982  Grand Theft Auto V   \n",
       "3   18122   World of Warcraft   \n",
       "4  511224        Apex Legends   \n",
       "\n",
       "                                         box_art_url  Live viewers  \\\n",
       "0  https://static-cdn.jtvnw.net/ttv-boxart/Just%2...        305787   \n",
       "1  https://static-cdn.jtvnw.net/ttv-boxart/Minecr...        207153   \n",
       "2  https://static-cdn.jtvnw.net/ttv-boxart/Grand%...        198623   \n",
       "3  https://static-cdn.jtvnw.net/ttv-boxart/World%...        134303   \n",
       "4  https://static-cdn.jtvnw.net/ttv-boxart/Apex%2...        124198   \n",
       "\n",
       "   Live channels  Rank  Avg. viewers, 7 days  Avg. channels, 7 days  \\\n",
       "0           5109   # 1                322642                   4094   \n",
       "1           4782   # 5                102908                   3392   \n",
       "2           2641   # 8                 78299                   2083   \n",
       "3           4389   # 4                131692                   3699   \n",
       "4           5410  # 13                 51471                   3692   \n",
       "\n",
       "   Hours watched, 7 days        Peak viewers     Peak channels  \\\n",
       "0               54257694  1018061 2020-11-19  12139 2020-06-11   \n",
       "1               17305718   620179 2020-11-16   6146 2020-11-21   \n",
       "2               13167311   389213 2020-06-05   5831 2020-05-16   \n",
       "3               22146218  1135186 2019-08-26  25786 2020-11-24   \n",
       "4                8655728   674070 2019-02-12  18919 2019-02-12   \n",
       "\n",
       "   Viewers per channel, 7 days  \n",
       "0                         78.8  \n",
       "1                         30.3  \n",
       "2                         37.6  \n",
       "3                         35.6  \n",
       "4                         13.9  "
      ]
     },
     "execution_count": 5,
     "metadata": {},
     "output_type": "execute_result"
    }
   ],
   "source": [
    "import pandas as pd\n",
    "import os\n",
    "\n",
    "%matplotlib inline\n",
    "\n",
    "dir_pth = '/Users/stephen/Desktop/project/eGaming-Analytics/newdata/'\n",
    "file_pth = os.path.join(dir_pth, 'top_games_1606875965.csv')\n",
    "\n",
    "df = pd.read_csv(file_pth)\n",
    "print(df.shape)\n",
    "df.head()"
   ]
  },
  {
   "cell_type": "markdown",
   "metadata": {},
   "source": [
    "## Delete useless data"
   ]
  },
  {
   "cell_type": "code",
   "execution_count": null,
   "metadata": {},
   "outputs": [],
   "source": [
    "df = df.drop('box_art_url', axis=1)\n",
    "print(df.shape)"
   ]
  },
  {
   "cell_type": "code",
   "execution_count": 6,
   "metadata": {},
   "outputs": [
    {
     "data": {
      "text/plain": [
       "id                             0\n",
       "name                           0\n",
       "box_art_url                    0\n",
       "Live viewers                   0\n",
       "Live channels                  0\n",
       "Rank                           0\n",
       "Avg. viewers, 7 days           0\n",
       "Avg. channels, 7 days          0\n",
       "Hours watched, 7 days          0\n",
       "Peak viewers                   0\n",
       "Peak channels                  0\n",
       "Viewers per channel, 7 days    0\n",
       "dtype: int64"
      ]
     },
     "execution_count": 6,
     "metadata": {},
     "output_type": "execute_result"
    }
   ],
   "source": [
    "df.isnull().sum()"
   ]
  },
  {
   "cell_type": "markdown",
   "metadata": {},
   "source": [
    "## Add labels for each game\n",
    "\n",
    "Define a function to get labels from tag files"
   ]
  },
  {
   "cell_type": "code",
   "execution_count": 7,
   "metadata": {},
   "outputs": [
    {
     "name": "stdout",
     "output_type": "stream",
     "text": [
      "['IRL']\n"
     ]
    }
   ],
   "source": [
    "import glob\n",
    "\n",
    "tag_pth = os.path.join(dir_pth, 'tags')\n",
    "all_tag_files = glob.glob(tag_pth + '/*.csv')\n",
    "\n",
    "def get_tags():\n",
    "    tags = {}\n",
    "    for tag_file in all_tag_files:\n",
    "        try:\n",
    "            df = pd.read_csv(tag_file)\n",
    "        except:\n",
    "            continue\n",
    "        ids = df['id'].values\n",
    "        tag = tag_file.split('/')[-1].split('.')[0]\n",
    "        tags[tag] = ids\n",
    "    return tags\n",
    "\n",
    "tags = get_tags()\n",
    "\n",
    "def find_label(game_id):\n",
    "    labels = []\n",
    "    \n",
    "    for key, val in tags.items():\n",
    "        if game_id in val:\n",
    "            labels.append(key)\n",
    "    return labels\n",
    "            \n",
    "\n",
    "print(find_label(509658))"
   ]
  },
  {
   "cell_type": "code",
   "execution_count": 8,
   "metadata": {},
   "outputs": [
    {
     "data": {
      "text/html": [
       "<div>\n",
       "<style scoped>\n",
       "    .dataframe tbody tr th:only-of-type {\n",
       "        vertical-align: middle;\n",
       "    }\n",
       "\n",
       "    .dataframe tbody tr th {\n",
       "        vertical-align: top;\n",
       "    }\n",
       "\n",
       "    .dataframe thead th {\n",
       "        text-align: right;\n",
       "    }\n",
       "</style>\n",
       "<table border=\"1\" class=\"dataframe\">\n",
       "  <thead>\n",
       "    <tr style=\"text-align: right;\">\n",
       "      <th></th>\n",
       "      <th>id</th>\n",
       "      <th>name</th>\n",
       "      <th>box_art_url</th>\n",
       "      <th>Live viewers</th>\n",
       "      <th>Live channels</th>\n",
       "      <th>Rank</th>\n",
       "      <th>Avg. viewers, 7 days</th>\n",
       "      <th>Avg. channels, 7 days</th>\n",
       "      <th>Hours watched, 7 days</th>\n",
       "      <th>Peak viewers</th>\n",
       "      <th>Peak channels</th>\n",
       "      <th>Viewers per channel, 7 days</th>\n",
       "      <th>label</th>\n",
       "    </tr>\n",
       "  </thead>\n",
       "  <tbody>\n",
       "    <tr>\n",
       "      <th>0</th>\n",
       "      <td>509658</td>\n",
       "      <td>Just Chatting</td>\n",
       "      <td>https://static-cdn.jtvnw.net/ttv-boxart/Just%2...</td>\n",
       "      <td>305787</td>\n",
       "      <td>5109</td>\n",
       "      <td># 1</td>\n",
       "      <td>322642</td>\n",
       "      <td>4094</td>\n",
       "      <td>54257694</td>\n",
       "      <td>1018061 2020-11-19</td>\n",
       "      <td>12139 2020-06-11</td>\n",
       "      <td>78.8</td>\n",
       "      <td>[IRL]</td>\n",
       "    </tr>\n",
       "    <tr>\n",
       "      <th>1</th>\n",
       "      <td>27471</td>\n",
       "      <td>Minecraft</td>\n",
       "      <td>https://static-cdn.jtvnw.net/ttv-boxart/Minecr...</td>\n",
       "      <td>207153</td>\n",
       "      <td>4782</td>\n",
       "      <td># 5</td>\n",
       "      <td>102908</td>\n",
       "      <td>3392</td>\n",
       "      <td>17305718</td>\n",
       "      <td>620179 2020-11-16</td>\n",
       "      <td>6146 2020-11-21</td>\n",
       "      <td>30.3</td>\n",
       "      <td>[MMO, AdventureGame, Survival]</td>\n",
       "    </tr>\n",
       "    <tr>\n",
       "      <th>2</th>\n",
       "      <td>32982</td>\n",
       "      <td>Grand Theft Auto V</td>\n",
       "      <td>https://static-cdn.jtvnw.net/ttv-boxart/Grand%...</td>\n",
       "      <td>198623</td>\n",
       "      <td>2641</td>\n",
       "      <td># 8</td>\n",
       "      <td>78299</td>\n",
       "      <td>2083</td>\n",
       "      <td>13167311</td>\n",
       "      <td>389213 2020-06-05</td>\n",
       "      <td>5831 2020-05-16</td>\n",
       "      <td>37.6</td>\n",
       "      <td>[DrivingRacingGame]</td>\n",
       "    </tr>\n",
       "    <tr>\n",
       "      <th>3</th>\n",
       "      <td>18122</td>\n",
       "      <td>World of Warcraft</td>\n",
       "      <td>https://static-cdn.jtvnw.net/ttv-boxart/World%...</td>\n",
       "      <td>134303</td>\n",
       "      <td>4389</td>\n",
       "      <td># 4</td>\n",
       "      <td>131692</td>\n",
       "      <td>3699</td>\n",
       "      <td>22146218</td>\n",
       "      <td>1135186 2019-08-26</td>\n",
       "      <td>25786 2020-11-24</td>\n",
       "      <td>35.6</td>\n",
       "      <td>[RPG, MMO]</td>\n",
       "    </tr>\n",
       "    <tr>\n",
       "      <th>4</th>\n",
       "      <td>511224</td>\n",
       "      <td>Apex Legends</td>\n",
       "      <td>https://static-cdn.jtvnw.net/ttv-boxart/Apex%2...</td>\n",
       "      <td>124198</td>\n",
       "      <td>5410</td>\n",
       "      <td># 13</td>\n",
       "      <td>51471</td>\n",
       "      <td>3692</td>\n",
       "      <td>8655728</td>\n",
       "      <td>674070 2019-02-12</td>\n",
       "      <td>18919 2019-02-12</td>\n",
       "      <td>13.9</td>\n",
       "      <td>[FPS]</td>\n",
       "    </tr>\n",
       "  </tbody>\n",
       "</table>\n",
       "</div>"
      ],
      "text/plain": [
       "       id                name  \\\n",
       "0  509658       Just Chatting   \n",
       "1   27471           Minecraft   \n",
       "2   32982  Grand Theft Auto V   \n",
       "3   18122   World of Warcraft   \n",
       "4  511224        Apex Legends   \n",
       "\n",
       "                                         box_art_url  Live viewers  \\\n",
       "0  https://static-cdn.jtvnw.net/ttv-boxart/Just%2...        305787   \n",
       "1  https://static-cdn.jtvnw.net/ttv-boxart/Minecr...        207153   \n",
       "2  https://static-cdn.jtvnw.net/ttv-boxart/Grand%...        198623   \n",
       "3  https://static-cdn.jtvnw.net/ttv-boxart/World%...        134303   \n",
       "4  https://static-cdn.jtvnw.net/ttv-boxart/Apex%2...        124198   \n",
       "\n",
       "   Live channels  Rank  Avg. viewers, 7 days  Avg. channels, 7 days  \\\n",
       "0           5109   # 1                322642                   4094   \n",
       "1           4782   # 5                102908                   3392   \n",
       "2           2641   # 8                 78299                   2083   \n",
       "3           4389   # 4                131692                   3699   \n",
       "4           5410  # 13                 51471                   3692   \n",
       "\n",
       "   Hours watched, 7 days        Peak viewers     Peak channels  \\\n",
       "0               54257694  1018061 2020-11-19  12139 2020-06-11   \n",
       "1               17305718   620179 2020-11-16   6146 2020-11-21   \n",
       "2               13167311   389213 2020-06-05   5831 2020-05-16   \n",
       "3               22146218  1135186 2019-08-26  25786 2020-11-24   \n",
       "4                8655728   674070 2019-02-12  18919 2019-02-12   \n",
       "\n",
       "   Viewers per channel, 7 days                           label  \n",
       "0                         78.8                           [IRL]  \n",
       "1                         30.3  [MMO, AdventureGame, Survival]  \n",
       "2                         37.6             [DrivingRacingGame]  \n",
       "3                         35.6                      [RPG, MMO]  \n",
       "4                         13.9                           [FPS]  "
      ]
     },
     "execution_count": 8,
     "metadata": {},
     "output_type": "execute_result"
    }
   ],
   "source": [
    "ids = df['id'].values\n",
    "labels = [find_label(id) for id in ids]\n",
    "df['label'] = labels\n",
    "\n",
    "df.head()"
   ]
  },
  {
   "cell_type": "markdown",
   "metadata": {},
   "source": [
    "## Check if there is an item with empty label"
   ]
  },
  {
   "cell_type": "code",
   "execution_count": 9,
   "metadata": {},
   "outputs": [
    {
     "name": "stdout",
     "output_type": "stream",
     "text": [
      "Pokémon HeartGold/SoulSilver\n",
      "Chess.com\n",
      "(98, 13)\n"
     ]
    }
   ],
   "source": [
    "idxes = []\n",
    "\n",
    "for idx, row in df.iterrows():\n",
    "    label = row['label']\n",
    "    if not label:\n",
    "        print(row['name'])\n",
    "        idxes.append(idx)\n",
    "\n",
    "df = df.drop(idxes)\n",
    "\n",
    "print(df.shape)"
   ]
  },
  {
   "cell_type": "code",
   "execution_count": 12,
   "metadata": {},
   "outputs": [
    {
     "data": {
      "text/html": [
       "        <script type=\"text/javascript\">\n",
       "        window.PlotlyConfig = {MathJaxConfig: 'local'};\n",
       "        if (window.MathJax) {MathJax.Hub.Config({SVG: {font: \"STIX-Web\"}});}\n",
       "        if (typeof require !== 'undefined') {\n",
       "        require.undef(\"plotly\");\n",
       "        requirejs.config({\n",
       "            paths: {\n",
       "                'plotly': ['https://cdn.plot.ly/plotly-latest.min']\n",
       "            }\n",
       "        });\n",
       "        require(['plotly'], function(Plotly) {\n",
       "            window._Plotly = Plotly;\n",
       "        });\n",
       "        }\n",
       "        </script>\n",
       "        "
      ]
     },
     "metadata": {},
     "output_type": "display_data"
    },
    {
     "data": {
      "application/vnd.plotly.v1+json": {
       "config": {
        "linkText": "Export to plot.ly",
        "plotlyServerURL": "https://plot.ly",
        "showLink": false
       },
       "data": [
        {
         "labels": [
          "IRL",
          "MMO",
          "AdventureGame",
          "Survival",
          "DrivingRacingGame",
          "RPG",
          "FPS",
          "MOBA",
          "Shooter",
          "OpenWorld",
          "Strategy",
          "Horror",
          "Action",
          "Stealth",
          "Creative",
          "IndieGame",
          "Metroidvania",
          "Platformer",
          "Simulation",
          "SportsGame",
          "CardBoardGame",
          "Puzzle",
          "GamblingGame",
          "MobileGame",
          "GameOverlay",
          "Fighting",
          "Party",
          "RTS",
          "Mystery",
          "Roguelike"
         ],
         "name": "Number of Games",
         "type": "pie",
         "values": [
          8,
          7,
          9,
          7,
          3,
          12,
          10,
          5,
          3,
          13,
          6,
          2,
          15,
          3,
          4,
          2,
          1,
          3,
          8,
          3,
          5,
          1,
          1,
          1,
          2,
          2,
          3,
          2,
          2,
          1
         ]
        }
       ],
       "layout": {
        "template": {
         "data": {
          "bar": [
           {
            "error_x": {
             "color": "#2a3f5f"
            },
            "error_y": {
             "color": "#2a3f5f"
            },
            "marker": {
             "line": {
              "color": "#E5ECF6",
              "width": 0.5
             }
            },
            "type": "bar"
           }
          ],
          "barpolar": [
           {
            "marker": {
             "line": {
              "color": "#E5ECF6",
              "width": 0.5
             }
            },
            "type": "barpolar"
           }
          ],
          "carpet": [
           {
            "aaxis": {
             "endlinecolor": "#2a3f5f",
             "gridcolor": "white",
             "linecolor": "white",
             "minorgridcolor": "white",
             "startlinecolor": "#2a3f5f"
            },
            "baxis": {
             "endlinecolor": "#2a3f5f",
             "gridcolor": "white",
             "linecolor": "white",
             "minorgridcolor": "white",
             "startlinecolor": "#2a3f5f"
            },
            "type": "carpet"
           }
          ],
          "choropleth": [
           {
            "colorbar": {
             "outlinewidth": 0,
             "ticks": ""
            },
            "type": "choropleth"
           }
          ],
          "contour": [
           {
            "colorbar": {
             "outlinewidth": 0,
             "ticks": ""
            },
            "colorscale": [
             [
              0,
              "#0d0887"
             ],
             [
              0.1111111111111111,
              "#46039f"
             ],
             [
              0.2222222222222222,
              "#7201a8"
             ],
             [
              0.3333333333333333,
              "#9c179e"
             ],
             [
              0.4444444444444444,
              "#bd3786"
             ],
             [
              0.5555555555555556,
              "#d8576b"
             ],
             [
              0.6666666666666666,
              "#ed7953"
             ],
             [
              0.7777777777777778,
              "#fb9f3a"
             ],
             [
              0.8888888888888888,
              "#fdca26"
             ],
             [
              1,
              "#f0f921"
             ]
            ],
            "type": "contour"
           }
          ],
          "contourcarpet": [
           {
            "colorbar": {
             "outlinewidth": 0,
             "ticks": ""
            },
            "type": "contourcarpet"
           }
          ],
          "heatmap": [
           {
            "colorbar": {
             "outlinewidth": 0,
             "ticks": ""
            },
            "colorscale": [
             [
              0,
              "#0d0887"
             ],
             [
              0.1111111111111111,
              "#46039f"
             ],
             [
              0.2222222222222222,
              "#7201a8"
             ],
             [
              0.3333333333333333,
              "#9c179e"
             ],
             [
              0.4444444444444444,
              "#bd3786"
             ],
             [
              0.5555555555555556,
              "#d8576b"
             ],
             [
              0.6666666666666666,
              "#ed7953"
             ],
             [
              0.7777777777777778,
              "#fb9f3a"
             ],
             [
              0.8888888888888888,
              "#fdca26"
             ],
             [
              1,
              "#f0f921"
             ]
            ],
            "type": "heatmap"
           }
          ],
          "heatmapgl": [
           {
            "colorbar": {
             "outlinewidth": 0,
             "ticks": ""
            },
            "colorscale": [
             [
              0,
              "#0d0887"
             ],
             [
              0.1111111111111111,
              "#46039f"
             ],
             [
              0.2222222222222222,
              "#7201a8"
             ],
             [
              0.3333333333333333,
              "#9c179e"
             ],
             [
              0.4444444444444444,
              "#bd3786"
             ],
             [
              0.5555555555555556,
              "#d8576b"
             ],
             [
              0.6666666666666666,
              "#ed7953"
             ],
             [
              0.7777777777777778,
              "#fb9f3a"
             ],
             [
              0.8888888888888888,
              "#fdca26"
             ],
             [
              1,
              "#f0f921"
             ]
            ],
            "type": "heatmapgl"
           }
          ],
          "histogram": [
           {
            "marker": {
             "colorbar": {
              "outlinewidth": 0,
              "ticks": ""
             }
            },
            "type": "histogram"
           }
          ],
          "histogram2d": [
           {
            "colorbar": {
             "outlinewidth": 0,
             "ticks": ""
            },
            "colorscale": [
             [
              0,
              "#0d0887"
             ],
             [
              0.1111111111111111,
              "#46039f"
             ],
             [
              0.2222222222222222,
              "#7201a8"
             ],
             [
              0.3333333333333333,
              "#9c179e"
             ],
             [
              0.4444444444444444,
              "#bd3786"
             ],
             [
              0.5555555555555556,
              "#d8576b"
             ],
             [
              0.6666666666666666,
              "#ed7953"
             ],
             [
              0.7777777777777778,
              "#fb9f3a"
             ],
             [
              0.8888888888888888,
              "#fdca26"
             ],
             [
              1,
              "#f0f921"
             ]
            ],
            "type": "histogram2d"
           }
          ],
          "histogram2dcontour": [
           {
            "colorbar": {
             "outlinewidth": 0,
             "ticks": ""
            },
            "colorscale": [
             [
              0,
              "#0d0887"
             ],
             [
              0.1111111111111111,
              "#46039f"
             ],
             [
              0.2222222222222222,
              "#7201a8"
             ],
             [
              0.3333333333333333,
              "#9c179e"
             ],
             [
              0.4444444444444444,
              "#bd3786"
             ],
             [
              0.5555555555555556,
              "#d8576b"
             ],
             [
              0.6666666666666666,
              "#ed7953"
             ],
             [
              0.7777777777777778,
              "#fb9f3a"
             ],
             [
              0.8888888888888888,
              "#fdca26"
             ],
             [
              1,
              "#f0f921"
             ]
            ],
            "type": "histogram2dcontour"
           }
          ],
          "mesh3d": [
           {
            "colorbar": {
             "outlinewidth": 0,
             "ticks": ""
            },
            "type": "mesh3d"
           }
          ],
          "parcoords": [
           {
            "line": {
             "colorbar": {
              "outlinewidth": 0,
              "ticks": ""
             }
            },
            "type": "parcoords"
           }
          ],
          "pie": [
           {
            "automargin": true,
            "type": "pie"
           }
          ],
          "scatter": [
           {
            "marker": {
             "colorbar": {
              "outlinewidth": 0,
              "ticks": ""
             }
            },
            "type": "scatter"
           }
          ],
          "scatter3d": [
           {
            "line": {
             "colorbar": {
              "outlinewidth": 0,
              "ticks": ""
             }
            },
            "marker": {
             "colorbar": {
              "outlinewidth": 0,
              "ticks": ""
             }
            },
            "type": "scatter3d"
           }
          ],
          "scattercarpet": [
           {
            "marker": {
             "colorbar": {
              "outlinewidth": 0,
              "ticks": ""
             }
            },
            "type": "scattercarpet"
           }
          ],
          "scattergeo": [
           {
            "marker": {
             "colorbar": {
              "outlinewidth": 0,
              "ticks": ""
             }
            },
            "type": "scattergeo"
           }
          ],
          "scattergl": [
           {
            "marker": {
             "colorbar": {
              "outlinewidth": 0,
              "ticks": ""
             }
            },
            "type": "scattergl"
           }
          ],
          "scattermapbox": [
           {
            "marker": {
             "colorbar": {
              "outlinewidth": 0,
              "ticks": ""
             }
            },
            "type": "scattermapbox"
           }
          ],
          "scatterpolar": [
           {
            "marker": {
             "colorbar": {
              "outlinewidth": 0,
              "ticks": ""
             }
            },
            "type": "scatterpolar"
           }
          ],
          "scatterpolargl": [
           {
            "marker": {
             "colorbar": {
              "outlinewidth": 0,
              "ticks": ""
             }
            },
            "type": "scatterpolargl"
           }
          ],
          "scatterternary": [
           {
            "marker": {
             "colorbar": {
              "outlinewidth": 0,
              "ticks": ""
             }
            },
            "type": "scatterternary"
           }
          ],
          "surface": [
           {
            "colorbar": {
             "outlinewidth": 0,
             "ticks": ""
            },
            "colorscale": [
             [
              0,
              "#0d0887"
             ],
             [
              0.1111111111111111,
              "#46039f"
             ],
             [
              0.2222222222222222,
              "#7201a8"
             ],
             [
              0.3333333333333333,
              "#9c179e"
             ],
             [
              0.4444444444444444,
              "#bd3786"
             ],
             [
              0.5555555555555556,
              "#d8576b"
             ],
             [
              0.6666666666666666,
              "#ed7953"
             ],
             [
              0.7777777777777778,
              "#fb9f3a"
             ],
             [
              0.8888888888888888,
              "#fdca26"
             ],
             [
              1,
              "#f0f921"
             ]
            ],
            "type": "surface"
           }
          ],
          "table": [
           {
            "cells": {
             "fill": {
              "color": "#EBF0F8"
             },
             "line": {
              "color": "white"
             }
            },
            "header": {
             "fill": {
              "color": "#C8D4E3"
             },
             "line": {
              "color": "white"
             }
            },
            "type": "table"
           }
          ]
         },
         "layout": {
          "annotationdefaults": {
           "arrowcolor": "#2a3f5f",
           "arrowhead": 0,
           "arrowwidth": 1
          },
          "coloraxis": {
           "colorbar": {
            "outlinewidth": 0,
            "ticks": ""
           }
          },
          "colorscale": {
           "diverging": [
            [
             0,
             "#8e0152"
            ],
            [
             0.1,
             "#c51b7d"
            ],
            [
             0.2,
             "#de77ae"
            ],
            [
             0.3,
             "#f1b6da"
            ],
            [
             0.4,
             "#fde0ef"
            ],
            [
             0.5,
             "#f7f7f7"
            ],
            [
             0.6,
             "#e6f5d0"
            ],
            [
             0.7,
             "#b8e186"
            ],
            [
             0.8,
             "#7fbc41"
            ],
            [
             0.9,
             "#4d9221"
            ],
            [
             1,
             "#276419"
            ]
           ],
           "sequential": [
            [
             0,
             "#0d0887"
            ],
            [
             0.1111111111111111,
             "#46039f"
            ],
            [
             0.2222222222222222,
             "#7201a8"
            ],
            [
             0.3333333333333333,
             "#9c179e"
            ],
            [
             0.4444444444444444,
             "#bd3786"
            ],
            [
             0.5555555555555556,
             "#d8576b"
            ],
            [
             0.6666666666666666,
             "#ed7953"
            ],
            [
             0.7777777777777778,
             "#fb9f3a"
            ],
            [
             0.8888888888888888,
             "#fdca26"
            ],
            [
             1,
             "#f0f921"
            ]
           ],
           "sequentialminus": [
            [
             0,
             "#0d0887"
            ],
            [
             0.1111111111111111,
             "#46039f"
            ],
            [
             0.2222222222222222,
             "#7201a8"
            ],
            [
             0.3333333333333333,
             "#9c179e"
            ],
            [
             0.4444444444444444,
             "#bd3786"
            ],
            [
             0.5555555555555556,
             "#d8576b"
            ],
            [
             0.6666666666666666,
             "#ed7953"
            ],
            [
             0.7777777777777778,
             "#fb9f3a"
            ],
            [
             0.8888888888888888,
             "#fdca26"
            ],
            [
             1,
             "#f0f921"
            ]
           ]
          },
          "colorway": [
           "#636efa",
           "#EF553B",
           "#00cc96",
           "#ab63fa",
           "#FFA15A",
           "#19d3f3",
           "#FF6692",
           "#B6E880",
           "#FF97FF",
           "#FECB52"
          ],
          "font": {
           "color": "#2a3f5f"
          },
          "geo": {
           "bgcolor": "white",
           "lakecolor": "white",
           "landcolor": "#E5ECF6",
           "showlakes": true,
           "showland": true,
           "subunitcolor": "white"
          },
          "hoverlabel": {
           "align": "left"
          },
          "hovermode": "closest",
          "mapbox": {
           "style": "light"
          },
          "paper_bgcolor": "white",
          "plot_bgcolor": "#E5ECF6",
          "polar": {
           "angularaxis": {
            "gridcolor": "white",
            "linecolor": "white",
            "ticks": ""
           },
           "bgcolor": "#E5ECF6",
           "radialaxis": {
            "gridcolor": "white",
            "linecolor": "white",
            "ticks": ""
           }
          },
          "scene": {
           "xaxis": {
            "backgroundcolor": "#E5ECF6",
            "gridcolor": "white",
            "gridwidth": 2,
            "linecolor": "white",
            "showbackground": true,
            "ticks": "",
            "zerolinecolor": "white"
           },
           "yaxis": {
            "backgroundcolor": "#E5ECF6",
            "gridcolor": "white",
            "gridwidth": 2,
            "linecolor": "white",
            "showbackground": true,
            "ticks": "",
            "zerolinecolor": "white"
           },
           "zaxis": {
            "backgroundcolor": "#E5ECF6",
            "gridcolor": "white",
            "gridwidth": 2,
            "linecolor": "white",
            "showbackground": true,
            "ticks": "",
            "zerolinecolor": "white"
           }
          },
          "shapedefaults": {
           "line": {
            "color": "#2a3f5f"
           }
          },
          "ternary": {
           "aaxis": {
            "gridcolor": "white",
            "linecolor": "white",
            "ticks": ""
           },
           "baxis": {
            "gridcolor": "white",
            "linecolor": "white",
            "ticks": ""
           },
           "bgcolor": "#E5ECF6",
           "caxis": {
            "gridcolor": "white",
            "linecolor": "white",
            "ticks": ""
           }
          },
          "title": {
           "x": 0.05
          },
          "xaxis": {
           "automargin": true,
           "gridcolor": "white",
           "linecolor": "white",
           "ticks": "",
           "title": {
            "standoff": 15
           },
           "zerolinecolor": "white",
           "zerolinewidth": 2
          },
          "yaxis": {
           "automargin": true,
           "gridcolor": "white",
           "linecolor": "white",
           "ticks": "",
           "title": {
            "standoff": 15
           },
           "zerolinecolor": "white",
           "zerolinewidth": 2
          }
         }
        },
        "title": {
         "text": "Number of Games per Tag"
        },
        "yaxis": {
         "title": {
          "text": "Number of Games"
         }
        }
       }
      },
      "text/html": [
       "<div>                            <div id=\"2000f05f-c127-4862-93b8-c4f8cbb00628\" class=\"plotly-graph-div\" style=\"height:525px; width:100%;\"></div>            <script type=\"text/javascript\">                require([\"plotly\"], function(Plotly) {                    window.PLOTLYENV=window.PLOTLYENV || {};                                    if (document.getElementById(\"2000f05f-c127-4862-93b8-c4f8cbb00628\")) {                    Plotly.newPlot(                        \"2000f05f-c127-4862-93b8-c4f8cbb00628\",                        [{\"labels\": [\"IRL\", \"MMO\", \"AdventureGame\", \"Survival\", \"DrivingRacingGame\", \"RPG\", \"FPS\", \"MOBA\", \"Shooter\", \"OpenWorld\", \"Strategy\", \"Horror\", \"Action\", \"Stealth\", \"Creative\", \"IndieGame\", \"Metroidvania\", \"Platformer\", \"Simulation\", \"SportsGame\", \"CardBoardGame\", \"Puzzle\", \"GamblingGame\", \"MobileGame\", \"GameOverlay\", \"Fighting\", \"Party\", \"RTS\", \"Mystery\", \"Roguelike\"], \"name\": \"Number of Games\", \"type\": \"pie\", \"values\": [8, 7, 9, 7, 3, 12, 10, 5, 3, 13, 6, 2, 15, 3, 4, 2, 1, 3, 8, 3, 5, 1, 1, 1, 2, 2, 3, 2, 2, 1]}],                        {\"template\": {\"data\": {\"bar\": [{\"error_x\": {\"color\": \"#2a3f5f\"}, \"error_y\": {\"color\": \"#2a3f5f\"}, \"marker\": {\"line\": {\"color\": \"#E5ECF6\", \"width\": 0.5}}, \"type\": \"bar\"}], \"barpolar\": [{\"marker\": {\"line\": {\"color\": \"#E5ECF6\", \"width\": 0.5}}, \"type\": \"barpolar\"}], \"carpet\": [{\"aaxis\": {\"endlinecolor\": \"#2a3f5f\", \"gridcolor\": \"white\", \"linecolor\": \"white\", \"minorgridcolor\": \"white\", \"startlinecolor\": \"#2a3f5f\"}, \"baxis\": {\"endlinecolor\": \"#2a3f5f\", \"gridcolor\": \"white\", \"linecolor\": \"white\", \"minorgridcolor\": \"white\", \"startlinecolor\": \"#2a3f5f\"}, \"type\": \"carpet\"}], \"choropleth\": [{\"colorbar\": {\"outlinewidth\": 0, \"ticks\": \"\"}, \"type\": \"choropleth\"}], \"contour\": [{\"colorbar\": {\"outlinewidth\": 0, \"ticks\": \"\"}, \"colorscale\": [[0.0, \"#0d0887\"], [0.1111111111111111, \"#46039f\"], [0.2222222222222222, \"#7201a8\"], [0.3333333333333333, \"#9c179e\"], [0.4444444444444444, \"#bd3786\"], [0.5555555555555556, \"#d8576b\"], [0.6666666666666666, \"#ed7953\"], [0.7777777777777778, \"#fb9f3a\"], [0.8888888888888888, \"#fdca26\"], [1.0, \"#f0f921\"]], \"type\": \"contour\"}], \"contourcarpet\": [{\"colorbar\": {\"outlinewidth\": 0, \"ticks\": \"\"}, \"type\": \"contourcarpet\"}], \"heatmap\": [{\"colorbar\": {\"outlinewidth\": 0, \"ticks\": \"\"}, \"colorscale\": [[0.0, \"#0d0887\"], [0.1111111111111111, \"#46039f\"], [0.2222222222222222, \"#7201a8\"], [0.3333333333333333, \"#9c179e\"], [0.4444444444444444, \"#bd3786\"], [0.5555555555555556, \"#d8576b\"], [0.6666666666666666, \"#ed7953\"], [0.7777777777777778, \"#fb9f3a\"], [0.8888888888888888, \"#fdca26\"], [1.0, \"#f0f921\"]], \"type\": \"heatmap\"}], \"heatmapgl\": [{\"colorbar\": {\"outlinewidth\": 0, \"ticks\": \"\"}, \"colorscale\": [[0.0, \"#0d0887\"], [0.1111111111111111, \"#46039f\"], [0.2222222222222222, \"#7201a8\"], [0.3333333333333333, \"#9c179e\"], [0.4444444444444444, \"#bd3786\"], [0.5555555555555556, \"#d8576b\"], [0.6666666666666666, \"#ed7953\"], [0.7777777777777778, \"#fb9f3a\"], [0.8888888888888888, \"#fdca26\"], [1.0, \"#f0f921\"]], \"type\": \"heatmapgl\"}], \"histogram\": [{\"marker\": {\"colorbar\": {\"outlinewidth\": 0, \"ticks\": \"\"}}, \"type\": \"histogram\"}], \"histogram2d\": [{\"colorbar\": {\"outlinewidth\": 0, \"ticks\": \"\"}, \"colorscale\": [[0.0, \"#0d0887\"], [0.1111111111111111, \"#46039f\"], [0.2222222222222222, \"#7201a8\"], [0.3333333333333333, \"#9c179e\"], [0.4444444444444444, \"#bd3786\"], [0.5555555555555556, \"#d8576b\"], [0.6666666666666666, \"#ed7953\"], [0.7777777777777778, \"#fb9f3a\"], [0.8888888888888888, \"#fdca26\"], [1.0, \"#f0f921\"]], \"type\": \"histogram2d\"}], \"histogram2dcontour\": [{\"colorbar\": {\"outlinewidth\": 0, \"ticks\": \"\"}, \"colorscale\": [[0.0, \"#0d0887\"], [0.1111111111111111, \"#46039f\"], [0.2222222222222222, \"#7201a8\"], [0.3333333333333333, \"#9c179e\"], [0.4444444444444444, \"#bd3786\"], [0.5555555555555556, \"#d8576b\"], [0.6666666666666666, \"#ed7953\"], [0.7777777777777778, \"#fb9f3a\"], [0.8888888888888888, \"#fdca26\"], [1.0, \"#f0f921\"]], \"type\": \"histogram2dcontour\"}], \"mesh3d\": [{\"colorbar\": {\"outlinewidth\": 0, \"ticks\": \"\"}, \"type\": \"mesh3d\"}], \"parcoords\": [{\"line\": {\"colorbar\": {\"outlinewidth\": 0, \"ticks\": \"\"}}, \"type\": \"parcoords\"}], \"pie\": [{\"automargin\": true, \"type\": \"pie\"}], \"scatter\": [{\"marker\": {\"colorbar\": {\"outlinewidth\": 0, \"ticks\": \"\"}}, \"type\": \"scatter\"}], \"scatter3d\": [{\"line\": {\"colorbar\": {\"outlinewidth\": 0, \"ticks\": \"\"}}, \"marker\": {\"colorbar\": {\"outlinewidth\": 0, \"ticks\": \"\"}}, \"type\": \"scatter3d\"}], \"scattercarpet\": [{\"marker\": {\"colorbar\": {\"outlinewidth\": 0, \"ticks\": \"\"}}, \"type\": \"scattercarpet\"}], \"scattergeo\": [{\"marker\": {\"colorbar\": {\"outlinewidth\": 0, \"ticks\": \"\"}}, \"type\": \"scattergeo\"}], \"scattergl\": [{\"marker\": {\"colorbar\": {\"outlinewidth\": 0, \"ticks\": \"\"}}, \"type\": \"scattergl\"}], \"scattermapbox\": [{\"marker\": {\"colorbar\": {\"outlinewidth\": 0, \"ticks\": \"\"}}, \"type\": \"scattermapbox\"}], \"scatterpolar\": [{\"marker\": {\"colorbar\": {\"outlinewidth\": 0, \"ticks\": \"\"}}, \"type\": \"scatterpolar\"}], \"scatterpolargl\": [{\"marker\": {\"colorbar\": {\"outlinewidth\": 0, \"ticks\": \"\"}}, \"type\": \"scatterpolargl\"}], \"scatterternary\": [{\"marker\": {\"colorbar\": {\"outlinewidth\": 0, \"ticks\": \"\"}}, \"type\": \"scatterternary\"}], \"surface\": [{\"colorbar\": {\"outlinewidth\": 0, \"ticks\": \"\"}, \"colorscale\": [[0.0, \"#0d0887\"], [0.1111111111111111, \"#46039f\"], [0.2222222222222222, \"#7201a8\"], [0.3333333333333333, \"#9c179e\"], [0.4444444444444444, \"#bd3786\"], [0.5555555555555556, \"#d8576b\"], [0.6666666666666666, \"#ed7953\"], [0.7777777777777778, \"#fb9f3a\"], [0.8888888888888888, \"#fdca26\"], [1.0, \"#f0f921\"]], \"type\": \"surface\"}], \"table\": [{\"cells\": {\"fill\": {\"color\": \"#EBF0F8\"}, \"line\": {\"color\": \"white\"}}, \"header\": {\"fill\": {\"color\": \"#C8D4E3\"}, \"line\": {\"color\": \"white\"}}, \"type\": \"table\"}]}, \"layout\": {\"annotationdefaults\": {\"arrowcolor\": \"#2a3f5f\", \"arrowhead\": 0, \"arrowwidth\": 1}, \"coloraxis\": {\"colorbar\": {\"outlinewidth\": 0, \"ticks\": \"\"}}, \"colorscale\": {\"diverging\": [[0, \"#8e0152\"], [0.1, \"#c51b7d\"], [0.2, \"#de77ae\"], [0.3, \"#f1b6da\"], [0.4, \"#fde0ef\"], [0.5, \"#f7f7f7\"], [0.6, \"#e6f5d0\"], [0.7, \"#b8e186\"], [0.8, \"#7fbc41\"], [0.9, \"#4d9221\"], [1, \"#276419\"]], \"sequential\": [[0.0, \"#0d0887\"], [0.1111111111111111, \"#46039f\"], [0.2222222222222222, \"#7201a8\"], [0.3333333333333333, \"#9c179e\"], [0.4444444444444444, \"#bd3786\"], [0.5555555555555556, \"#d8576b\"], [0.6666666666666666, \"#ed7953\"], [0.7777777777777778, \"#fb9f3a\"], [0.8888888888888888, \"#fdca26\"], [1.0, \"#f0f921\"]], \"sequentialminus\": [[0.0, \"#0d0887\"], [0.1111111111111111, \"#46039f\"], [0.2222222222222222, \"#7201a8\"], [0.3333333333333333, \"#9c179e\"], [0.4444444444444444, \"#bd3786\"], [0.5555555555555556, \"#d8576b\"], [0.6666666666666666, \"#ed7953\"], [0.7777777777777778, \"#fb9f3a\"], [0.8888888888888888, \"#fdca26\"], [1.0, \"#f0f921\"]]}, \"colorway\": [\"#636efa\", \"#EF553B\", \"#00cc96\", \"#ab63fa\", \"#FFA15A\", \"#19d3f3\", \"#FF6692\", \"#B6E880\", \"#FF97FF\", \"#FECB52\"], \"font\": {\"color\": \"#2a3f5f\"}, \"geo\": {\"bgcolor\": \"white\", \"lakecolor\": \"white\", \"landcolor\": \"#E5ECF6\", \"showlakes\": true, \"showland\": true, \"subunitcolor\": \"white\"}, \"hoverlabel\": {\"align\": \"left\"}, \"hovermode\": \"closest\", \"mapbox\": {\"style\": \"light\"}, \"paper_bgcolor\": \"white\", \"plot_bgcolor\": \"#E5ECF6\", \"polar\": {\"angularaxis\": {\"gridcolor\": \"white\", \"linecolor\": \"white\", \"ticks\": \"\"}, \"bgcolor\": \"#E5ECF6\", \"radialaxis\": {\"gridcolor\": \"white\", \"linecolor\": \"white\", \"ticks\": \"\"}}, \"scene\": {\"xaxis\": {\"backgroundcolor\": \"#E5ECF6\", \"gridcolor\": \"white\", \"gridwidth\": 2, \"linecolor\": \"white\", \"showbackground\": true, \"ticks\": \"\", \"zerolinecolor\": \"white\"}, \"yaxis\": {\"backgroundcolor\": \"#E5ECF6\", \"gridcolor\": \"white\", \"gridwidth\": 2, \"linecolor\": \"white\", \"showbackground\": true, \"ticks\": \"\", \"zerolinecolor\": \"white\"}, \"zaxis\": {\"backgroundcolor\": \"#E5ECF6\", \"gridcolor\": \"white\", \"gridwidth\": 2, \"linecolor\": \"white\", \"showbackground\": true, \"ticks\": \"\", \"zerolinecolor\": \"white\"}}, \"shapedefaults\": {\"line\": {\"color\": \"#2a3f5f\"}}, \"ternary\": {\"aaxis\": {\"gridcolor\": \"white\", \"linecolor\": \"white\", \"ticks\": \"\"}, \"baxis\": {\"gridcolor\": \"white\", \"linecolor\": \"white\", \"ticks\": \"\"}, \"bgcolor\": \"#E5ECF6\", \"caxis\": {\"gridcolor\": \"white\", \"linecolor\": \"white\", \"ticks\": \"\"}}, \"title\": {\"x\": 0.05}, \"xaxis\": {\"automargin\": true, \"gridcolor\": \"white\", \"linecolor\": \"white\", \"ticks\": \"\", \"title\": {\"standoff\": 15}, \"zerolinecolor\": \"white\", \"zerolinewidth\": 2}, \"yaxis\": {\"automargin\": true, \"gridcolor\": \"white\", \"linecolor\": \"white\", \"ticks\": \"\", \"title\": {\"standoff\": 15}, \"zerolinecolor\": \"white\", \"zerolinewidth\": 2}}}, \"title\": {\"text\": \"Number of Games per Tag\"}, \"yaxis\": {\"title\": {\"text\": \"Number of Games\"}}},                        {\"responsive\": true}                    ).then(function(){\n",
       "                            \n",
       "var gd = document.getElementById('2000f05f-c127-4862-93b8-c4f8cbb00628');\n",
       "var x = new MutationObserver(function (mutations, observer) {{\n",
       "        var display = window.getComputedStyle(gd).display;\n",
       "        if (!display || display === 'none') {{\n",
       "            console.log([gd, 'removed!']);\n",
       "            Plotly.purge(gd);\n",
       "            observer.disconnect();\n",
       "        }}\n",
       "}});\n",
       "\n",
       "// Listen for the removal of the full notebook cells\n",
       "var notebookContainer = gd.closest('#notebook-container');\n",
       "if (notebookContainer) {{\n",
       "    x.observe(notebookContainer, {childList: true});\n",
       "}}\n",
       "\n",
       "// Listen for the clearing of the current output cell\n",
       "var outputEl = gd.closest('.output');\n",
       "if (outputEl) {{\n",
       "    x.observe(outputEl, {childList: true});\n",
       "}}\n",
       "\n",
       "                        })                };                });            </script>        </div>"
      ]
     },
     "metadata": {},
     "output_type": "display_data"
    }
   ],
   "source": [
    "import plotly.offline as pyo\n",
    "import plotly.graph_objs as go\n",
    "\n",
    "pyo.init_notebook_mode(connected=True)\n",
    "\n",
    "cat = {}\n",
    "for _, row in df.iterrows():\n",
    "    label = row['label']\n",
    "    for tag in label:\n",
    "        if tag in cat:\n",
    "            cat[tag].append(row['id'])\n",
    "        else:\n",
    "            cat[tag] = [row['id']]\n",
    "\n",
    "def draw_number_of_each_tag():\n",
    "    data = {'tag': [], 'num': []}\n",
    "    for key in cat.keys():\n",
    "        data['tag'].append(key)\n",
    "        data['num'].append(len(cat[key]))\n",
    "    trace = go.Pie(\n",
    "        labels=data['tag'],\n",
    "        values=data['num'],\n",
    "        name='Number of Games'\n",
    "    )\n",
    "    fig=go.Figure(data=[trace])\n",
    "    fig.update_layout(\n",
    "        title='Number of Games per Tag',\n",
    "        yaxis_title='Number of Games',\n",
    "    )\n",
    "    pyo.iplot(fig, filename='stacked-bar')\n",
    "\n",
    "draw_number_of_each_tag()"
   ]
  },
  {
   "cell_type": "code",
   "execution_count": 13,
   "metadata": {},
   "outputs": [
    {
     "data": {
      "application/vnd.plotly.v1+json": {
       "config": {
        "linkText": "Export to plot.ly",
        "plotlyServerURL": "https://plot.ly",
        "showLink": false
       },
       "data": [
        {
         "name": "Number of Games",
         "type": "bar",
         "x": [
          "IRL",
          "MMO",
          "AdventureGame",
          "Survival",
          "DrivingRacingGame",
          "RPG",
          "FPS",
          "MOBA",
          "Shooter",
          "OpenWorld",
          "Strategy",
          "Horror",
          "Action",
          "Stealth",
          "Creative",
          "IndieGame",
          "Metroidvania",
          "Platformer",
          "Simulation",
          "SportsGame",
          "CardBoardGame",
          "Puzzle",
          "GamblingGame",
          "MobileGame",
          "GameOverlay",
          "Fighting",
          "Party",
          "RTS",
          "Mystery",
          "Roguelike"
         ],
         "y": [
          393861,
          254661,
          135771,
          357496,
          111154,
          184264,
          315745,
          224736,
          190237,
          205854,
          139086,
          42965,
          95482,
          28769,
          48663,
          2967,
          1545,
          4965,
          45635,
          92994,
          63566,
          15754,
          20266,
          13929,
          7059,
          6249,
          6624,
          9494,
          2631,
          2045
         ]
        }
       ],
       "layout": {
        "template": {
         "data": {
          "bar": [
           {
            "error_x": {
             "color": "#2a3f5f"
            },
            "error_y": {
             "color": "#2a3f5f"
            },
            "marker": {
             "line": {
              "color": "#E5ECF6",
              "width": 0.5
             }
            },
            "type": "bar"
           }
          ],
          "barpolar": [
           {
            "marker": {
             "line": {
              "color": "#E5ECF6",
              "width": 0.5
             }
            },
            "type": "barpolar"
           }
          ],
          "carpet": [
           {
            "aaxis": {
             "endlinecolor": "#2a3f5f",
             "gridcolor": "white",
             "linecolor": "white",
             "minorgridcolor": "white",
             "startlinecolor": "#2a3f5f"
            },
            "baxis": {
             "endlinecolor": "#2a3f5f",
             "gridcolor": "white",
             "linecolor": "white",
             "minorgridcolor": "white",
             "startlinecolor": "#2a3f5f"
            },
            "type": "carpet"
           }
          ],
          "choropleth": [
           {
            "colorbar": {
             "outlinewidth": 0,
             "ticks": ""
            },
            "type": "choropleth"
           }
          ],
          "contour": [
           {
            "colorbar": {
             "outlinewidth": 0,
             "ticks": ""
            },
            "colorscale": [
             [
              0,
              "#0d0887"
             ],
             [
              0.1111111111111111,
              "#46039f"
             ],
             [
              0.2222222222222222,
              "#7201a8"
             ],
             [
              0.3333333333333333,
              "#9c179e"
             ],
             [
              0.4444444444444444,
              "#bd3786"
             ],
             [
              0.5555555555555556,
              "#d8576b"
             ],
             [
              0.6666666666666666,
              "#ed7953"
             ],
             [
              0.7777777777777778,
              "#fb9f3a"
             ],
             [
              0.8888888888888888,
              "#fdca26"
             ],
             [
              1,
              "#f0f921"
             ]
            ],
            "type": "contour"
           }
          ],
          "contourcarpet": [
           {
            "colorbar": {
             "outlinewidth": 0,
             "ticks": ""
            },
            "type": "contourcarpet"
           }
          ],
          "heatmap": [
           {
            "colorbar": {
             "outlinewidth": 0,
             "ticks": ""
            },
            "colorscale": [
             [
              0,
              "#0d0887"
             ],
             [
              0.1111111111111111,
              "#46039f"
             ],
             [
              0.2222222222222222,
              "#7201a8"
             ],
             [
              0.3333333333333333,
              "#9c179e"
             ],
             [
              0.4444444444444444,
              "#bd3786"
             ],
             [
              0.5555555555555556,
              "#d8576b"
             ],
             [
              0.6666666666666666,
              "#ed7953"
             ],
             [
              0.7777777777777778,
              "#fb9f3a"
             ],
             [
              0.8888888888888888,
              "#fdca26"
             ],
             [
              1,
              "#f0f921"
             ]
            ],
            "type": "heatmap"
           }
          ],
          "heatmapgl": [
           {
            "colorbar": {
             "outlinewidth": 0,
             "ticks": ""
            },
            "colorscale": [
             [
              0,
              "#0d0887"
             ],
             [
              0.1111111111111111,
              "#46039f"
             ],
             [
              0.2222222222222222,
              "#7201a8"
             ],
             [
              0.3333333333333333,
              "#9c179e"
             ],
             [
              0.4444444444444444,
              "#bd3786"
             ],
             [
              0.5555555555555556,
              "#d8576b"
             ],
             [
              0.6666666666666666,
              "#ed7953"
             ],
             [
              0.7777777777777778,
              "#fb9f3a"
             ],
             [
              0.8888888888888888,
              "#fdca26"
             ],
             [
              1,
              "#f0f921"
             ]
            ],
            "type": "heatmapgl"
           }
          ],
          "histogram": [
           {
            "marker": {
             "colorbar": {
              "outlinewidth": 0,
              "ticks": ""
             }
            },
            "type": "histogram"
           }
          ],
          "histogram2d": [
           {
            "colorbar": {
             "outlinewidth": 0,
             "ticks": ""
            },
            "colorscale": [
             [
              0,
              "#0d0887"
             ],
             [
              0.1111111111111111,
              "#46039f"
             ],
             [
              0.2222222222222222,
              "#7201a8"
             ],
             [
              0.3333333333333333,
              "#9c179e"
             ],
             [
              0.4444444444444444,
              "#bd3786"
             ],
             [
              0.5555555555555556,
              "#d8576b"
             ],
             [
              0.6666666666666666,
              "#ed7953"
             ],
             [
              0.7777777777777778,
              "#fb9f3a"
             ],
             [
              0.8888888888888888,
              "#fdca26"
             ],
             [
              1,
              "#f0f921"
             ]
            ],
            "type": "histogram2d"
           }
          ],
          "histogram2dcontour": [
           {
            "colorbar": {
             "outlinewidth": 0,
             "ticks": ""
            },
            "colorscale": [
             [
              0,
              "#0d0887"
             ],
             [
              0.1111111111111111,
              "#46039f"
             ],
             [
              0.2222222222222222,
              "#7201a8"
             ],
             [
              0.3333333333333333,
              "#9c179e"
             ],
             [
              0.4444444444444444,
              "#bd3786"
             ],
             [
              0.5555555555555556,
              "#d8576b"
             ],
             [
              0.6666666666666666,
              "#ed7953"
             ],
             [
              0.7777777777777778,
              "#fb9f3a"
             ],
             [
              0.8888888888888888,
              "#fdca26"
             ],
             [
              1,
              "#f0f921"
             ]
            ],
            "type": "histogram2dcontour"
           }
          ],
          "mesh3d": [
           {
            "colorbar": {
             "outlinewidth": 0,
             "ticks": ""
            },
            "type": "mesh3d"
           }
          ],
          "parcoords": [
           {
            "line": {
             "colorbar": {
              "outlinewidth": 0,
              "ticks": ""
             }
            },
            "type": "parcoords"
           }
          ],
          "pie": [
           {
            "automargin": true,
            "type": "pie"
           }
          ],
          "scatter": [
           {
            "marker": {
             "colorbar": {
              "outlinewidth": 0,
              "ticks": ""
             }
            },
            "type": "scatter"
           }
          ],
          "scatter3d": [
           {
            "line": {
             "colorbar": {
              "outlinewidth": 0,
              "ticks": ""
             }
            },
            "marker": {
             "colorbar": {
              "outlinewidth": 0,
              "ticks": ""
             }
            },
            "type": "scatter3d"
           }
          ],
          "scattercarpet": [
           {
            "marker": {
             "colorbar": {
              "outlinewidth": 0,
              "ticks": ""
             }
            },
            "type": "scattercarpet"
           }
          ],
          "scattergeo": [
           {
            "marker": {
             "colorbar": {
              "outlinewidth": 0,
              "ticks": ""
             }
            },
            "type": "scattergeo"
           }
          ],
          "scattergl": [
           {
            "marker": {
             "colorbar": {
              "outlinewidth": 0,
              "ticks": ""
             }
            },
            "type": "scattergl"
           }
          ],
          "scattermapbox": [
           {
            "marker": {
             "colorbar": {
              "outlinewidth": 0,
              "ticks": ""
             }
            },
            "type": "scattermapbox"
           }
          ],
          "scatterpolar": [
           {
            "marker": {
             "colorbar": {
              "outlinewidth": 0,
              "ticks": ""
             }
            },
            "type": "scatterpolar"
           }
          ],
          "scatterpolargl": [
           {
            "marker": {
             "colorbar": {
              "outlinewidth": 0,
              "ticks": ""
             }
            },
            "type": "scatterpolargl"
           }
          ],
          "scatterternary": [
           {
            "marker": {
             "colorbar": {
              "outlinewidth": 0,
              "ticks": ""
             }
            },
            "type": "scatterternary"
           }
          ],
          "surface": [
           {
            "colorbar": {
             "outlinewidth": 0,
             "ticks": ""
            },
            "colorscale": [
             [
              0,
              "#0d0887"
             ],
             [
              0.1111111111111111,
              "#46039f"
             ],
             [
              0.2222222222222222,
              "#7201a8"
             ],
             [
              0.3333333333333333,
              "#9c179e"
             ],
             [
              0.4444444444444444,
              "#bd3786"
             ],
             [
              0.5555555555555556,
              "#d8576b"
             ],
             [
              0.6666666666666666,
              "#ed7953"
             ],
             [
              0.7777777777777778,
              "#fb9f3a"
             ],
             [
              0.8888888888888888,
              "#fdca26"
             ],
             [
              1,
              "#f0f921"
             ]
            ],
            "type": "surface"
           }
          ],
          "table": [
           {
            "cells": {
             "fill": {
              "color": "#EBF0F8"
             },
             "line": {
              "color": "white"
             }
            },
            "header": {
             "fill": {
              "color": "#C8D4E3"
             },
             "line": {
              "color": "white"
             }
            },
            "type": "table"
           }
          ]
         },
         "layout": {
          "annotationdefaults": {
           "arrowcolor": "#2a3f5f",
           "arrowhead": 0,
           "arrowwidth": 1
          },
          "coloraxis": {
           "colorbar": {
            "outlinewidth": 0,
            "ticks": ""
           }
          },
          "colorscale": {
           "diverging": [
            [
             0,
             "#8e0152"
            ],
            [
             0.1,
             "#c51b7d"
            ],
            [
             0.2,
             "#de77ae"
            ],
            [
             0.3,
             "#f1b6da"
            ],
            [
             0.4,
             "#fde0ef"
            ],
            [
             0.5,
             "#f7f7f7"
            ],
            [
             0.6,
             "#e6f5d0"
            ],
            [
             0.7,
             "#b8e186"
            ],
            [
             0.8,
             "#7fbc41"
            ],
            [
             0.9,
             "#4d9221"
            ],
            [
             1,
             "#276419"
            ]
           ],
           "sequential": [
            [
             0,
             "#0d0887"
            ],
            [
             0.1111111111111111,
             "#46039f"
            ],
            [
             0.2222222222222222,
             "#7201a8"
            ],
            [
             0.3333333333333333,
             "#9c179e"
            ],
            [
             0.4444444444444444,
             "#bd3786"
            ],
            [
             0.5555555555555556,
             "#d8576b"
            ],
            [
             0.6666666666666666,
             "#ed7953"
            ],
            [
             0.7777777777777778,
             "#fb9f3a"
            ],
            [
             0.8888888888888888,
             "#fdca26"
            ],
            [
             1,
             "#f0f921"
            ]
           ],
           "sequentialminus": [
            [
             0,
             "#0d0887"
            ],
            [
             0.1111111111111111,
             "#46039f"
            ],
            [
             0.2222222222222222,
             "#7201a8"
            ],
            [
             0.3333333333333333,
             "#9c179e"
            ],
            [
             0.4444444444444444,
             "#bd3786"
            ],
            [
             0.5555555555555556,
             "#d8576b"
            ],
            [
             0.6666666666666666,
             "#ed7953"
            ],
            [
             0.7777777777777778,
             "#fb9f3a"
            ],
            [
             0.8888888888888888,
             "#fdca26"
            ],
            [
             1,
             "#f0f921"
            ]
           ]
          },
          "colorway": [
           "#636efa",
           "#EF553B",
           "#00cc96",
           "#ab63fa",
           "#FFA15A",
           "#19d3f3",
           "#FF6692",
           "#B6E880",
           "#FF97FF",
           "#FECB52"
          ],
          "font": {
           "color": "#2a3f5f"
          },
          "geo": {
           "bgcolor": "white",
           "lakecolor": "white",
           "landcolor": "#E5ECF6",
           "showlakes": true,
           "showland": true,
           "subunitcolor": "white"
          },
          "hoverlabel": {
           "align": "left"
          },
          "hovermode": "closest",
          "mapbox": {
           "style": "light"
          },
          "paper_bgcolor": "white",
          "plot_bgcolor": "#E5ECF6",
          "polar": {
           "angularaxis": {
            "gridcolor": "white",
            "linecolor": "white",
            "ticks": ""
           },
           "bgcolor": "#E5ECF6",
           "radialaxis": {
            "gridcolor": "white",
            "linecolor": "white",
            "ticks": ""
           }
          },
          "scene": {
           "xaxis": {
            "backgroundcolor": "#E5ECF6",
            "gridcolor": "white",
            "gridwidth": 2,
            "linecolor": "white",
            "showbackground": true,
            "ticks": "",
            "zerolinecolor": "white"
           },
           "yaxis": {
            "backgroundcolor": "#E5ECF6",
            "gridcolor": "white",
            "gridwidth": 2,
            "linecolor": "white",
            "showbackground": true,
            "ticks": "",
            "zerolinecolor": "white"
           },
           "zaxis": {
            "backgroundcolor": "#E5ECF6",
            "gridcolor": "white",
            "gridwidth": 2,
            "linecolor": "white",
            "showbackground": true,
            "ticks": "",
            "zerolinecolor": "white"
           }
          },
          "shapedefaults": {
           "line": {
            "color": "#2a3f5f"
           }
          },
          "ternary": {
           "aaxis": {
            "gridcolor": "white",
            "linecolor": "white",
            "ticks": ""
           },
           "baxis": {
            "gridcolor": "white",
            "linecolor": "white",
            "ticks": ""
           },
           "bgcolor": "#E5ECF6",
           "caxis": {
            "gridcolor": "white",
            "linecolor": "white",
            "ticks": ""
           }
          },
          "title": {
           "x": 0.05
          },
          "xaxis": {
           "automargin": true,
           "gridcolor": "white",
           "linecolor": "white",
           "ticks": "",
           "title": {
            "standoff": 15
           },
           "zerolinecolor": "white",
           "zerolinewidth": 2
          },
          "yaxis": {
           "automargin": true,
           "gridcolor": "white",
           "linecolor": "white",
           "ticks": "",
           "title": {
            "standoff": 15
           },
           "zerolinecolor": "white",
           "zerolinewidth": 2
          }
         }
        },
        "title": {
         "text": "Total Viewers in 7 Days"
        },
        "yaxis": {
         "title": {
          "text": "Total Viewers"
         }
        }
       }
      },
      "text/html": [
       "<div>                            <div id=\"c5174632-273e-4f84-a5d1-42c6754fce6e\" class=\"plotly-graph-div\" style=\"height:525px; width:100%;\"></div>            <script type=\"text/javascript\">                require([\"plotly\"], function(Plotly) {                    window.PLOTLYENV=window.PLOTLYENV || {};                                    if (document.getElementById(\"c5174632-273e-4f84-a5d1-42c6754fce6e\")) {                    Plotly.newPlot(                        \"c5174632-273e-4f84-a5d1-42c6754fce6e\",                        [{\"name\": \"Number of Games\", \"type\": \"bar\", \"x\": [\"IRL\", \"MMO\", \"AdventureGame\", \"Survival\", \"DrivingRacingGame\", \"RPG\", \"FPS\", \"MOBA\", \"Shooter\", \"OpenWorld\", \"Strategy\", \"Horror\", \"Action\", \"Stealth\", \"Creative\", \"IndieGame\", \"Metroidvania\", \"Platformer\", \"Simulation\", \"SportsGame\", \"CardBoardGame\", \"Puzzle\", \"GamblingGame\", \"MobileGame\", \"GameOverlay\", \"Fighting\", \"Party\", \"RTS\", \"Mystery\", \"Roguelike\"], \"y\": [393861, 254661, 135771, 357496, 111154, 184264, 315745, 224736, 190237, 205854, 139086, 42965, 95482, 28769, 48663, 2967, 1545, 4965, 45635, 92994, 63566, 15754, 20266, 13929, 7059, 6249, 6624, 9494, 2631, 2045]}],                        {\"template\": {\"data\": {\"bar\": [{\"error_x\": {\"color\": \"#2a3f5f\"}, \"error_y\": {\"color\": \"#2a3f5f\"}, \"marker\": {\"line\": {\"color\": \"#E5ECF6\", \"width\": 0.5}}, \"type\": \"bar\"}], \"barpolar\": [{\"marker\": {\"line\": {\"color\": \"#E5ECF6\", \"width\": 0.5}}, \"type\": \"barpolar\"}], \"carpet\": [{\"aaxis\": {\"endlinecolor\": \"#2a3f5f\", \"gridcolor\": \"white\", \"linecolor\": \"white\", \"minorgridcolor\": \"white\", \"startlinecolor\": \"#2a3f5f\"}, \"baxis\": {\"endlinecolor\": \"#2a3f5f\", \"gridcolor\": \"white\", \"linecolor\": \"white\", \"minorgridcolor\": \"white\", \"startlinecolor\": \"#2a3f5f\"}, \"type\": \"carpet\"}], \"choropleth\": [{\"colorbar\": {\"outlinewidth\": 0, \"ticks\": \"\"}, \"type\": \"choropleth\"}], \"contour\": [{\"colorbar\": {\"outlinewidth\": 0, \"ticks\": \"\"}, \"colorscale\": [[0.0, \"#0d0887\"], [0.1111111111111111, \"#46039f\"], [0.2222222222222222, \"#7201a8\"], [0.3333333333333333, \"#9c179e\"], [0.4444444444444444, \"#bd3786\"], [0.5555555555555556, \"#d8576b\"], [0.6666666666666666, \"#ed7953\"], [0.7777777777777778, \"#fb9f3a\"], [0.8888888888888888, \"#fdca26\"], [1.0, \"#f0f921\"]], \"type\": \"contour\"}], \"contourcarpet\": [{\"colorbar\": {\"outlinewidth\": 0, \"ticks\": \"\"}, \"type\": \"contourcarpet\"}], \"heatmap\": [{\"colorbar\": {\"outlinewidth\": 0, \"ticks\": \"\"}, \"colorscale\": [[0.0, \"#0d0887\"], [0.1111111111111111, \"#46039f\"], [0.2222222222222222, \"#7201a8\"], [0.3333333333333333, \"#9c179e\"], [0.4444444444444444, \"#bd3786\"], [0.5555555555555556, \"#d8576b\"], [0.6666666666666666, \"#ed7953\"], [0.7777777777777778, \"#fb9f3a\"], [0.8888888888888888, \"#fdca26\"], [1.0, \"#f0f921\"]], \"type\": \"heatmap\"}], \"heatmapgl\": [{\"colorbar\": {\"outlinewidth\": 0, \"ticks\": \"\"}, \"colorscale\": [[0.0, \"#0d0887\"], [0.1111111111111111, \"#46039f\"], [0.2222222222222222, \"#7201a8\"], [0.3333333333333333, \"#9c179e\"], [0.4444444444444444, \"#bd3786\"], [0.5555555555555556, \"#d8576b\"], [0.6666666666666666, \"#ed7953\"], [0.7777777777777778, \"#fb9f3a\"], [0.8888888888888888, \"#fdca26\"], [1.0, \"#f0f921\"]], \"type\": \"heatmapgl\"}], \"histogram\": [{\"marker\": {\"colorbar\": {\"outlinewidth\": 0, \"ticks\": \"\"}}, \"type\": \"histogram\"}], \"histogram2d\": [{\"colorbar\": {\"outlinewidth\": 0, \"ticks\": \"\"}, \"colorscale\": [[0.0, \"#0d0887\"], [0.1111111111111111, \"#46039f\"], [0.2222222222222222, \"#7201a8\"], [0.3333333333333333, \"#9c179e\"], [0.4444444444444444, \"#bd3786\"], [0.5555555555555556, \"#d8576b\"], [0.6666666666666666, \"#ed7953\"], [0.7777777777777778, \"#fb9f3a\"], [0.8888888888888888, \"#fdca26\"], [1.0, \"#f0f921\"]], \"type\": \"histogram2d\"}], \"histogram2dcontour\": [{\"colorbar\": {\"outlinewidth\": 0, \"ticks\": \"\"}, \"colorscale\": [[0.0, \"#0d0887\"], [0.1111111111111111, \"#46039f\"], [0.2222222222222222, \"#7201a8\"], [0.3333333333333333, \"#9c179e\"], [0.4444444444444444, \"#bd3786\"], [0.5555555555555556, \"#d8576b\"], [0.6666666666666666, \"#ed7953\"], [0.7777777777777778, \"#fb9f3a\"], [0.8888888888888888, \"#fdca26\"], [1.0, \"#f0f921\"]], \"type\": \"histogram2dcontour\"}], \"mesh3d\": [{\"colorbar\": {\"outlinewidth\": 0, \"ticks\": \"\"}, \"type\": \"mesh3d\"}], \"parcoords\": [{\"line\": {\"colorbar\": {\"outlinewidth\": 0, \"ticks\": \"\"}}, \"type\": \"parcoords\"}], \"pie\": [{\"automargin\": true, \"type\": \"pie\"}], \"scatter\": [{\"marker\": {\"colorbar\": {\"outlinewidth\": 0, \"ticks\": \"\"}}, \"type\": \"scatter\"}], \"scatter3d\": [{\"line\": {\"colorbar\": {\"outlinewidth\": 0, \"ticks\": \"\"}}, \"marker\": {\"colorbar\": {\"outlinewidth\": 0, \"ticks\": \"\"}}, \"type\": \"scatter3d\"}], \"scattercarpet\": [{\"marker\": {\"colorbar\": {\"outlinewidth\": 0, \"ticks\": \"\"}}, \"type\": \"scattercarpet\"}], \"scattergeo\": [{\"marker\": {\"colorbar\": {\"outlinewidth\": 0, \"ticks\": \"\"}}, \"type\": \"scattergeo\"}], \"scattergl\": [{\"marker\": {\"colorbar\": {\"outlinewidth\": 0, \"ticks\": \"\"}}, \"type\": \"scattergl\"}], \"scattermapbox\": [{\"marker\": {\"colorbar\": {\"outlinewidth\": 0, \"ticks\": \"\"}}, \"type\": \"scattermapbox\"}], \"scatterpolar\": [{\"marker\": {\"colorbar\": {\"outlinewidth\": 0, \"ticks\": \"\"}}, \"type\": \"scatterpolar\"}], \"scatterpolargl\": [{\"marker\": {\"colorbar\": {\"outlinewidth\": 0, \"ticks\": \"\"}}, \"type\": \"scatterpolargl\"}], \"scatterternary\": [{\"marker\": {\"colorbar\": {\"outlinewidth\": 0, \"ticks\": \"\"}}, \"type\": \"scatterternary\"}], \"surface\": [{\"colorbar\": {\"outlinewidth\": 0, \"ticks\": \"\"}, \"colorscale\": [[0.0, \"#0d0887\"], [0.1111111111111111, \"#46039f\"], [0.2222222222222222, \"#7201a8\"], [0.3333333333333333, \"#9c179e\"], [0.4444444444444444, \"#bd3786\"], [0.5555555555555556, \"#d8576b\"], [0.6666666666666666, \"#ed7953\"], [0.7777777777777778, \"#fb9f3a\"], [0.8888888888888888, \"#fdca26\"], [1.0, \"#f0f921\"]], \"type\": \"surface\"}], \"table\": [{\"cells\": {\"fill\": {\"color\": \"#EBF0F8\"}, \"line\": {\"color\": \"white\"}}, \"header\": {\"fill\": {\"color\": \"#C8D4E3\"}, \"line\": {\"color\": \"white\"}}, \"type\": \"table\"}]}, \"layout\": {\"annotationdefaults\": {\"arrowcolor\": \"#2a3f5f\", \"arrowhead\": 0, \"arrowwidth\": 1}, \"coloraxis\": {\"colorbar\": {\"outlinewidth\": 0, \"ticks\": \"\"}}, \"colorscale\": {\"diverging\": [[0, \"#8e0152\"], [0.1, \"#c51b7d\"], [0.2, \"#de77ae\"], [0.3, \"#f1b6da\"], [0.4, \"#fde0ef\"], [0.5, \"#f7f7f7\"], [0.6, \"#e6f5d0\"], [0.7, \"#b8e186\"], [0.8, \"#7fbc41\"], [0.9, \"#4d9221\"], [1, \"#276419\"]], \"sequential\": [[0.0, \"#0d0887\"], [0.1111111111111111, \"#46039f\"], [0.2222222222222222, \"#7201a8\"], [0.3333333333333333, \"#9c179e\"], [0.4444444444444444, \"#bd3786\"], [0.5555555555555556, \"#d8576b\"], [0.6666666666666666, \"#ed7953\"], [0.7777777777777778, \"#fb9f3a\"], [0.8888888888888888, \"#fdca26\"], [1.0, \"#f0f921\"]], \"sequentialminus\": [[0.0, \"#0d0887\"], [0.1111111111111111, \"#46039f\"], [0.2222222222222222, \"#7201a8\"], [0.3333333333333333, \"#9c179e\"], [0.4444444444444444, \"#bd3786\"], [0.5555555555555556, \"#d8576b\"], [0.6666666666666666, \"#ed7953\"], [0.7777777777777778, \"#fb9f3a\"], [0.8888888888888888, \"#fdca26\"], [1.0, \"#f0f921\"]]}, \"colorway\": [\"#636efa\", \"#EF553B\", \"#00cc96\", \"#ab63fa\", \"#FFA15A\", \"#19d3f3\", \"#FF6692\", \"#B6E880\", \"#FF97FF\", \"#FECB52\"], \"font\": {\"color\": \"#2a3f5f\"}, \"geo\": {\"bgcolor\": \"white\", \"lakecolor\": \"white\", \"landcolor\": \"#E5ECF6\", \"showlakes\": true, \"showland\": true, \"subunitcolor\": \"white\"}, \"hoverlabel\": {\"align\": \"left\"}, \"hovermode\": \"closest\", \"mapbox\": {\"style\": \"light\"}, \"paper_bgcolor\": \"white\", \"plot_bgcolor\": \"#E5ECF6\", \"polar\": {\"angularaxis\": {\"gridcolor\": \"white\", \"linecolor\": \"white\", \"ticks\": \"\"}, \"bgcolor\": \"#E5ECF6\", \"radialaxis\": {\"gridcolor\": \"white\", \"linecolor\": \"white\", \"ticks\": \"\"}}, \"scene\": {\"xaxis\": {\"backgroundcolor\": \"#E5ECF6\", \"gridcolor\": \"white\", \"gridwidth\": 2, \"linecolor\": \"white\", \"showbackground\": true, \"ticks\": \"\", \"zerolinecolor\": \"white\"}, \"yaxis\": {\"backgroundcolor\": \"#E5ECF6\", \"gridcolor\": \"white\", \"gridwidth\": 2, \"linecolor\": \"white\", \"showbackground\": true, \"ticks\": \"\", \"zerolinecolor\": \"white\"}, \"zaxis\": {\"backgroundcolor\": \"#E5ECF6\", \"gridcolor\": \"white\", \"gridwidth\": 2, \"linecolor\": \"white\", \"showbackground\": true, \"ticks\": \"\", \"zerolinecolor\": \"white\"}}, \"shapedefaults\": {\"line\": {\"color\": \"#2a3f5f\"}}, \"ternary\": {\"aaxis\": {\"gridcolor\": \"white\", \"linecolor\": \"white\", \"ticks\": \"\"}, \"baxis\": {\"gridcolor\": \"white\", \"linecolor\": \"white\", \"ticks\": \"\"}, \"bgcolor\": \"#E5ECF6\", \"caxis\": {\"gridcolor\": \"white\", \"linecolor\": \"white\", \"ticks\": \"\"}}, \"title\": {\"x\": 0.05}, \"xaxis\": {\"automargin\": true, \"gridcolor\": \"white\", \"linecolor\": \"white\", \"ticks\": \"\", \"title\": {\"standoff\": 15}, \"zerolinecolor\": \"white\", \"zerolinewidth\": 2}, \"yaxis\": {\"automargin\": true, \"gridcolor\": \"white\", \"linecolor\": \"white\", \"ticks\": \"\", \"title\": {\"standoff\": 15}, \"zerolinecolor\": \"white\", \"zerolinewidth\": 2}}}, \"title\": {\"text\": \"Total Viewers in 7 Days\"}, \"yaxis\": {\"title\": {\"text\": \"Total Viewers\"}}},                        {\"responsive\": true}                    ).then(function(){\n",
       "                            \n",
       "var gd = document.getElementById('c5174632-273e-4f84-a5d1-42c6754fce6e');\n",
       "var x = new MutationObserver(function (mutations, observer) {{\n",
       "        var display = window.getComputedStyle(gd).display;\n",
       "        if (!display || display === 'none') {{\n",
       "            console.log([gd, 'removed!']);\n",
       "            Plotly.purge(gd);\n",
       "            observer.disconnect();\n",
       "        }}\n",
       "}});\n",
       "\n",
       "// Listen for the removal of the full notebook cells\n",
       "var notebookContainer = gd.closest('#notebook-container');\n",
       "if (notebookContainer) {{\n",
       "    x.observe(notebookContainer, {childList: true});\n",
       "}}\n",
       "\n",
       "// Listen for the clearing of the current output cell\n",
       "var outputEl = gd.closest('.output');\n",
       "if (outputEl) {{\n",
       "    x.observe(outputEl, {childList: true});\n",
       "}}\n",
       "\n",
       "                        })                };                });            </script>        </div>"
      ]
     },
     "metadata": {},
     "output_type": "display_data"
    }
   ],
   "source": [
    "def draw_total_viewers():\n",
    "    data = {'tag': [], 'total': []}\n",
    "    for key in cat.keys():\n",
    "        data['tag'].append(key)\n",
    "        sdf = df[df['id'].isin(cat[key])]\n",
    "        total = sdf['Avg. viewers, 7 days'].sum()\n",
    "        data['total'].append(total)\n",
    "    trace = go.Bar(\n",
    "        x=data['tag'],\n",
    "        y=data['total'],\n",
    "        name='Number of Games'\n",
    "    )\n",
    "    fig=go.Figure(data=[trace])\n",
    "    fig.update_layout(\n",
    "        title='Total Viewers in 7 Days',\n",
    "        yaxis_title='Total Viewers',\n",
    "    )\n",
    "    pyo.iplot(fig, filename='stacked-bar')\n",
    "\n",
    "draw_total_viewers()"
   ]
  },
  {
   "cell_type": "code",
   "execution_count": 14,
   "metadata": {},
   "outputs": [
    {
     "data": {
      "application/vnd.plotly.v1+json": {
       "config": {
        "linkText": "Export to plot.ly",
        "plotlyServerURL": "https://plot.ly",
        "showLink": false
       },
       "data": [
        {
         "name": "Number of Games",
         "type": "bar",
         "x": [
          "IRL",
          "MMO",
          "AdventureGame",
          "Survival",
          "DrivingRacingGame",
          "RPG",
          "FPS",
          "MOBA",
          "Shooter",
          "OpenWorld",
          "Strategy",
          "Horror",
          "Action",
          "Stealth",
          "Creative",
          "IndieGame",
          "Metroidvania",
          "Platformer",
          "Simulation",
          "SportsGame",
          "CardBoardGame",
          "Puzzle",
          "GamblingGame",
          "MobileGame",
          "GameOverlay",
          "Fighting",
          "Party",
          "RTS",
          "Mystery",
          "Roguelike"
         ],
         "y": [
          49232.625,
          36380.142857142855,
          15085.666666666666,
          51070.857142857145,
          37051.333333333336,
          15355.333333333334,
          31574.5,
          44947.2,
          63412.333333333336,
          15834.923076923076,
          23181,
          21482.5,
          6365.466666666666,
          9589.666666666666,
          12165.75,
          1483.5,
          1545,
          1655,
          5704.375,
          30998,
          12713.2,
          15754,
          20266,
          13929,
          3529.5,
          3124.5,
          2208,
          4747,
          1315.5,
          2045
         ]
        }
       ],
       "layout": {
        "template": {
         "data": {
          "bar": [
           {
            "error_x": {
             "color": "#2a3f5f"
            },
            "error_y": {
             "color": "#2a3f5f"
            },
            "marker": {
             "line": {
              "color": "#E5ECF6",
              "width": 0.5
             }
            },
            "type": "bar"
           }
          ],
          "barpolar": [
           {
            "marker": {
             "line": {
              "color": "#E5ECF6",
              "width": 0.5
             }
            },
            "type": "barpolar"
           }
          ],
          "carpet": [
           {
            "aaxis": {
             "endlinecolor": "#2a3f5f",
             "gridcolor": "white",
             "linecolor": "white",
             "minorgridcolor": "white",
             "startlinecolor": "#2a3f5f"
            },
            "baxis": {
             "endlinecolor": "#2a3f5f",
             "gridcolor": "white",
             "linecolor": "white",
             "minorgridcolor": "white",
             "startlinecolor": "#2a3f5f"
            },
            "type": "carpet"
           }
          ],
          "choropleth": [
           {
            "colorbar": {
             "outlinewidth": 0,
             "ticks": ""
            },
            "type": "choropleth"
           }
          ],
          "contour": [
           {
            "colorbar": {
             "outlinewidth": 0,
             "ticks": ""
            },
            "colorscale": [
             [
              0,
              "#0d0887"
             ],
             [
              0.1111111111111111,
              "#46039f"
             ],
             [
              0.2222222222222222,
              "#7201a8"
             ],
             [
              0.3333333333333333,
              "#9c179e"
             ],
             [
              0.4444444444444444,
              "#bd3786"
             ],
             [
              0.5555555555555556,
              "#d8576b"
             ],
             [
              0.6666666666666666,
              "#ed7953"
             ],
             [
              0.7777777777777778,
              "#fb9f3a"
             ],
             [
              0.8888888888888888,
              "#fdca26"
             ],
             [
              1,
              "#f0f921"
             ]
            ],
            "type": "contour"
           }
          ],
          "contourcarpet": [
           {
            "colorbar": {
             "outlinewidth": 0,
             "ticks": ""
            },
            "type": "contourcarpet"
           }
          ],
          "heatmap": [
           {
            "colorbar": {
             "outlinewidth": 0,
             "ticks": ""
            },
            "colorscale": [
             [
              0,
              "#0d0887"
             ],
             [
              0.1111111111111111,
              "#46039f"
             ],
             [
              0.2222222222222222,
              "#7201a8"
             ],
             [
              0.3333333333333333,
              "#9c179e"
             ],
             [
              0.4444444444444444,
              "#bd3786"
             ],
             [
              0.5555555555555556,
              "#d8576b"
             ],
             [
              0.6666666666666666,
              "#ed7953"
             ],
             [
              0.7777777777777778,
              "#fb9f3a"
             ],
             [
              0.8888888888888888,
              "#fdca26"
             ],
             [
              1,
              "#f0f921"
             ]
            ],
            "type": "heatmap"
           }
          ],
          "heatmapgl": [
           {
            "colorbar": {
             "outlinewidth": 0,
             "ticks": ""
            },
            "colorscale": [
             [
              0,
              "#0d0887"
             ],
             [
              0.1111111111111111,
              "#46039f"
             ],
             [
              0.2222222222222222,
              "#7201a8"
             ],
             [
              0.3333333333333333,
              "#9c179e"
             ],
             [
              0.4444444444444444,
              "#bd3786"
             ],
             [
              0.5555555555555556,
              "#d8576b"
             ],
             [
              0.6666666666666666,
              "#ed7953"
             ],
             [
              0.7777777777777778,
              "#fb9f3a"
             ],
             [
              0.8888888888888888,
              "#fdca26"
             ],
             [
              1,
              "#f0f921"
             ]
            ],
            "type": "heatmapgl"
           }
          ],
          "histogram": [
           {
            "marker": {
             "colorbar": {
              "outlinewidth": 0,
              "ticks": ""
             }
            },
            "type": "histogram"
           }
          ],
          "histogram2d": [
           {
            "colorbar": {
             "outlinewidth": 0,
             "ticks": ""
            },
            "colorscale": [
             [
              0,
              "#0d0887"
             ],
             [
              0.1111111111111111,
              "#46039f"
             ],
             [
              0.2222222222222222,
              "#7201a8"
             ],
             [
              0.3333333333333333,
              "#9c179e"
             ],
             [
              0.4444444444444444,
              "#bd3786"
             ],
             [
              0.5555555555555556,
              "#d8576b"
             ],
             [
              0.6666666666666666,
              "#ed7953"
             ],
             [
              0.7777777777777778,
              "#fb9f3a"
             ],
             [
              0.8888888888888888,
              "#fdca26"
             ],
             [
              1,
              "#f0f921"
             ]
            ],
            "type": "histogram2d"
           }
          ],
          "histogram2dcontour": [
           {
            "colorbar": {
             "outlinewidth": 0,
             "ticks": ""
            },
            "colorscale": [
             [
              0,
              "#0d0887"
             ],
             [
              0.1111111111111111,
              "#46039f"
             ],
             [
              0.2222222222222222,
              "#7201a8"
             ],
             [
              0.3333333333333333,
              "#9c179e"
             ],
             [
              0.4444444444444444,
              "#bd3786"
             ],
             [
              0.5555555555555556,
              "#d8576b"
             ],
             [
              0.6666666666666666,
              "#ed7953"
             ],
             [
              0.7777777777777778,
              "#fb9f3a"
             ],
             [
              0.8888888888888888,
              "#fdca26"
             ],
             [
              1,
              "#f0f921"
             ]
            ],
            "type": "histogram2dcontour"
           }
          ],
          "mesh3d": [
           {
            "colorbar": {
             "outlinewidth": 0,
             "ticks": ""
            },
            "type": "mesh3d"
           }
          ],
          "parcoords": [
           {
            "line": {
             "colorbar": {
              "outlinewidth": 0,
              "ticks": ""
             }
            },
            "type": "parcoords"
           }
          ],
          "pie": [
           {
            "automargin": true,
            "type": "pie"
           }
          ],
          "scatter": [
           {
            "marker": {
             "colorbar": {
              "outlinewidth": 0,
              "ticks": ""
             }
            },
            "type": "scatter"
           }
          ],
          "scatter3d": [
           {
            "line": {
             "colorbar": {
              "outlinewidth": 0,
              "ticks": ""
             }
            },
            "marker": {
             "colorbar": {
              "outlinewidth": 0,
              "ticks": ""
             }
            },
            "type": "scatter3d"
           }
          ],
          "scattercarpet": [
           {
            "marker": {
             "colorbar": {
              "outlinewidth": 0,
              "ticks": ""
             }
            },
            "type": "scattercarpet"
           }
          ],
          "scattergeo": [
           {
            "marker": {
             "colorbar": {
              "outlinewidth": 0,
              "ticks": ""
             }
            },
            "type": "scattergeo"
           }
          ],
          "scattergl": [
           {
            "marker": {
             "colorbar": {
              "outlinewidth": 0,
              "ticks": ""
             }
            },
            "type": "scattergl"
           }
          ],
          "scattermapbox": [
           {
            "marker": {
             "colorbar": {
              "outlinewidth": 0,
              "ticks": ""
             }
            },
            "type": "scattermapbox"
           }
          ],
          "scatterpolar": [
           {
            "marker": {
             "colorbar": {
              "outlinewidth": 0,
              "ticks": ""
             }
            },
            "type": "scatterpolar"
           }
          ],
          "scatterpolargl": [
           {
            "marker": {
             "colorbar": {
              "outlinewidth": 0,
              "ticks": ""
             }
            },
            "type": "scatterpolargl"
           }
          ],
          "scatterternary": [
           {
            "marker": {
             "colorbar": {
              "outlinewidth": 0,
              "ticks": ""
             }
            },
            "type": "scatterternary"
           }
          ],
          "surface": [
           {
            "colorbar": {
             "outlinewidth": 0,
             "ticks": ""
            },
            "colorscale": [
             [
              0,
              "#0d0887"
             ],
             [
              0.1111111111111111,
              "#46039f"
             ],
             [
              0.2222222222222222,
              "#7201a8"
             ],
             [
              0.3333333333333333,
              "#9c179e"
             ],
             [
              0.4444444444444444,
              "#bd3786"
             ],
             [
              0.5555555555555556,
              "#d8576b"
             ],
             [
              0.6666666666666666,
              "#ed7953"
             ],
             [
              0.7777777777777778,
              "#fb9f3a"
             ],
             [
              0.8888888888888888,
              "#fdca26"
             ],
             [
              1,
              "#f0f921"
             ]
            ],
            "type": "surface"
           }
          ],
          "table": [
           {
            "cells": {
             "fill": {
              "color": "#EBF0F8"
             },
             "line": {
              "color": "white"
             }
            },
            "header": {
             "fill": {
              "color": "#C8D4E3"
             },
             "line": {
              "color": "white"
             }
            },
            "type": "table"
           }
          ]
         },
         "layout": {
          "annotationdefaults": {
           "arrowcolor": "#2a3f5f",
           "arrowhead": 0,
           "arrowwidth": 1
          },
          "coloraxis": {
           "colorbar": {
            "outlinewidth": 0,
            "ticks": ""
           }
          },
          "colorscale": {
           "diverging": [
            [
             0,
             "#8e0152"
            ],
            [
             0.1,
             "#c51b7d"
            ],
            [
             0.2,
             "#de77ae"
            ],
            [
             0.3,
             "#f1b6da"
            ],
            [
             0.4,
             "#fde0ef"
            ],
            [
             0.5,
             "#f7f7f7"
            ],
            [
             0.6,
             "#e6f5d0"
            ],
            [
             0.7,
             "#b8e186"
            ],
            [
             0.8,
             "#7fbc41"
            ],
            [
             0.9,
             "#4d9221"
            ],
            [
             1,
             "#276419"
            ]
           ],
           "sequential": [
            [
             0,
             "#0d0887"
            ],
            [
             0.1111111111111111,
             "#46039f"
            ],
            [
             0.2222222222222222,
             "#7201a8"
            ],
            [
             0.3333333333333333,
             "#9c179e"
            ],
            [
             0.4444444444444444,
             "#bd3786"
            ],
            [
             0.5555555555555556,
             "#d8576b"
            ],
            [
             0.6666666666666666,
             "#ed7953"
            ],
            [
             0.7777777777777778,
             "#fb9f3a"
            ],
            [
             0.8888888888888888,
             "#fdca26"
            ],
            [
             1,
             "#f0f921"
            ]
           ],
           "sequentialminus": [
            [
             0,
             "#0d0887"
            ],
            [
             0.1111111111111111,
             "#46039f"
            ],
            [
             0.2222222222222222,
             "#7201a8"
            ],
            [
             0.3333333333333333,
             "#9c179e"
            ],
            [
             0.4444444444444444,
             "#bd3786"
            ],
            [
             0.5555555555555556,
             "#d8576b"
            ],
            [
             0.6666666666666666,
             "#ed7953"
            ],
            [
             0.7777777777777778,
             "#fb9f3a"
            ],
            [
             0.8888888888888888,
             "#fdca26"
            ],
            [
             1,
             "#f0f921"
            ]
           ]
          },
          "colorway": [
           "#636efa",
           "#EF553B",
           "#00cc96",
           "#ab63fa",
           "#FFA15A",
           "#19d3f3",
           "#FF6692",
           "#B6E880",
           "#FF97FF",
           "#FECB52"
          ],
          "font": {
           "color": "#2a3f5f"
          },
          "geo": {
           "bgcolor": "white",
           "lakecolor": "white",
           "landcolor": "#E5ECF6",
           "showlakes": true,
           "showland": true,
           "subunitcolor": "white"
          },
          "hoverlabel": {
           "align": "left"
          },
          "hovermode": "closest",
          "mapbox": {
           "style": "light"
          },
          "paper_bgcolor": "white",
          "plot_bgcolor": "#E5ECF6",
          "polar": {
           "angularaxis": {
            "gridcolor": "white",
            "linecolor": "white",
            "ticks": ""
           },
           "bgcolor": "#E5ECF6",
           "radialaxis": {
            "gridcolor": "white",
            "linecolor": "white",
            "ticks": ""
           }
          },
          "scene": {
           "xaxis": {
            "backgroundcolor": "#E5ECF6",
            "gridcolor": "white",
            "gridwidth": 2,
            "linecolor": "white",
            "showbackground": true,
            "ticks": "",
            "zerolinecolor": "white"
           },
           "yaxis": {
            "backgroundcolor": "#E5ECF6",
            "gridcolor": "white",
            "gridwidth": 2,
            "linecolor": "white",
            "showbackground": true,
            "ticks": "",
            "zerolinecolor": "white"
           },
           "zaxis": {
            "backgroundcolor": "#E5ECF6",
            "gridcolor": "white",
            "gridwidth": 2,
            "linecolor": "white",
            "showbackground": true,
            "ticks": "",
            "zerolinecolor": "white"
           }
          },
          "shapedefaults": {
           "line": {
            "color": "#2a3f5f"
           }
          },
          "ternary": {
           "aaxis": {
            "gridcolor": "white",
            "linecolor": "white",
            "ticks": ""
           },
           "baxis": {
            "gridcolor": "white",
            "linecolor": "white",
            "ticks": ""
           },
           "bgcolor": "#E5ECF6",
           "caxis": {
            "gridcolor": "white",
            "linecolor": "white",
            "ticks": ""
           }
          },
          "title": {
           "x": 0.05
          },
          "xaxis": {
           "automargin": true,
           "gridcolor": "white",
           "linecolor": "white",
           "ticks": "",
           "title": {
            "standoff": 15
           },
           "zerolinecolor": "white",
           "zerolinewidth": 2
          },
          "yaxis": {
           "automargin": true,
           "gridcolor": "white",
           "linecolor": "white",
           "ticks": "",
           "title": {
            "standoff": 15
           },
           "zerolinecolor": "white",
           "zerolinewidth": 2
          }
         }
        },
        "title": {
         "text": "Average Viewers in 7 Days"
        },
        "yaxis": {
         "title": {
          "text": "Average Viewers"
         }
        }
       }
      },
      "text/html": [
       "<div>                            <div id=\"467fd539-85d6-43ba-ba2f-c83c27bdf32f\" class=\"plotly-graph-div\" style=\"height:525px; width:100%;\"></div>            <script type=\"text/javascript\">                require([\"plotly\"], function(Plotly) {                    window.PLOTLYENV=window.PLOTLYENV || {};                                    if (document.getElementById(\"467fd539-85d6-43ba-ba2f-c83c27bdf32f\")) {                    Plotly.newPlot(                        \"467fd539-85d6-43ba-ba2f-c83c27bdf32f\",                        [{\"name\": \"Number of Games\", \"type\": \"bar\", \"x\": [\"IRL\", \"MMO\", \"AdventureGame\", \"Survival\", \"DrivingRacingGame\", \"RPG\", \"FPS\", \"MOBA\", \"Shooter\", \"OpenWorld\", \"Strategy\", \"Horror\", \"Action\", \"Stealth\", \"Creative\", \"IndieGame\", \"Metroidvania\", \"Platformer\", \"Simulation\", \"SportsGame\", \"CardBoardGame\", \"Puzzle\", \"GamblingGame\", \"MobileGame\", \"GameOverlay\", \"Fighting\", \"Party\", \"RTS\", \"Mystery\", \"Roguelike\"], \"y\": [49232.625, 36380.142857142855, 15085.666666666666, 51070.857142857145, 37051.333333333336, 15355.333333333334, 31574.5, 44947.2, 63412.333333333336, 15834.923076923076, 23181.0, 21482.5, 6365.466666666666, 9589.666666666666, 12165.75, 1483.5, 1545.0, 1655.0, 5704.375, 30998.0, 12713.2, 15754.0, 20266.0, 13929.0, 3529.5, 3124.5, 2208.0, 4747.0, 1315.5, 2045.0]}],                        {\"template\": {\"data\": {\"bar\": [{\"error_x\": {\"color\": \"#2a3f5f\"}, \"error_y\": {\"color\": \"#2a3f5f\"}, \"marker\": {\"line\": {\"color\": \"#E5ECF6\", \"width\": 0.5}}, \"type\": \"bar\"}], \"barpolar\": [{\"marker\": {\"line\": {\"color\": \"#E5ECF6\", \"width\": 0.5}}, \"type\": \"barpolar\"}], \"carpet\": [{\"aaxis\": {\"endlinecolor\": \"#2a3f5f\", \"gridcolor\": \"white\", \"linecolor\": \"white\", \"minorgridcolor\": \"white\", \"startlinecolor\": \"#2a3f5f\"}, \"baxis\": {\"endlinecolor\": \"#2a3f5f\", \"gridcolor\": \"white\", \"linecolor\": \"white\", \"minorgridcolor\": \"white\", \"startlinecolor\": \"#2a3f5f\"}, \"type\": \"carpet\"}], \"choropleth\": [{\"colorbar\": {\"outlinewidth\": 0, \"ticks\": \"\"}, \"type\": \"choropleth\"}], \"contour\": [{\"colorbar\": {\"outlinewidth\": 0, \"ticks\": \"\"}, \"colorscale\": [[0.0, \"#0d0887\"], [0.1111111111111111, \"#46039f\"], [0.2222222222222222, \"#7201a8\"], [0.3333333333333333, \"#9c179e\"], [0.4444444444444444, \"#bd3786\"], [0.5555555555555556, \"#d8576b\"], [0.6666666666666666, \"#ed7953\"], [0.7777777777777778, \"#fb9f3a\"], [0.8888888888888888, \"#fdca26\"], [1.0, \"#f0f921\"]], \"type\": \"contour\"}], \"contourcarpet\": [{\"colorbar\": {\"outlinewidth\": 0, \"ticks\": \"\"}, \"type\": \"contourcarpet\"}], \"heatmap\": [{\"colorbar\": {\"outlinewidth\": 0, \"ticks\": \"\"}, \"colorscale\": [[0.0, \"#0d0887\"], [0.1111111111111111, \"#46039f\"], [0.2222222222222222, \"#7201a8\"], [0.3333333333333333, \"#9c179e\"], [0.4444444444444444, \"#bd3786\"], [0.5555555555555556, \"#d8576b\"], [0.6666666666666666, \"#ed7953\"], [0.7777777777777778, \"#fb9f3a\"], [0.8888888888888888, \"#fdca26\"], [1.0, \"#f0f921\"]], \"type\": \"heatmap\"}], \"heatmapgl\": [{\"colorbar\": {\"outlinewidth\": 0, \"ticks\": \"\"}, \"colorscale\": [[0.0, \"#0d0887\"], [0.1111111111111111, \"#46039f\"], [0.2222222222222222, \"#7201a8\"], [0.3333333333333333, \"#9c179e\"], [0.4444444444444444, \"#bd3786\"], [0.5555555555555556, \"#d8576b\"], [0.6666666666666666, \"#ed7953\"], [0.7777777777777778, \"#fb9f3a\"], [0.8888888888888888, \"#fdca26\"], [1.0, \"#f0f921\"]], \"type\": \"heatmapgl\"}], \"histogram\": [{\"marker\": {\"colorbar\": {\"outlinewidth\": 0, \"ticks\": \"\"}}, \"type\": \"histogram\"}], \"histogram2d\": [{\"colorbar\": {\"outlinewidth\": 0, \"ticks\": \"\"}, \"colorscale\": [[0.0, \"#0d0887\"], [0.1111111111111111, \"#46039f\"], [0.2222222222222222, \"#7201a8\"], [0.3333333333333333, \"#9c179e\"], [0.4444444444444444, \"#bd3786\"], [0.5555555555555556, \"#d8576b\"], [0.6666666666666666, \"#ed7953\"], [0.7777777777777778, \"#fb9f3a\"], [0.8888888888888888, \"#fdca26\"], [1.0, \"#f0f921\"]], \"type\": \"histogram2d\"}], \"histogram2dcontour\": [{\"colorbar\": {\"outlinewidth\": 0, \"ticks\": \"\"}, \"colorscale\": [[0.0, \"#0d0887\"], [0.1111111111111111, \"#46039f\"], [0.2222222222222222, \"#7201a8\"], [0.3333333333333333, \"#9c179e\"], [0.4444444444444444, \"#bd3786\"], [0.5555555555555556, \"#d8576b\"], [0.6666666666666666, \"#ed7953\"], [0.7777777777777778, \"#fb9f3a\"], [0.8888888888888888, \"#fdca26\"], [1.0, \"#f0f921\"]], \"type\": \"histogram2dcontour\"}], \"mesh3d\": [{\"colorbar\": {\"outlinewidth\": 0, \"ticks\": \"\"}, \"type\": \"mesh3d\"}], \"parcoords\": [{\"line\": {\"colorbar\": {\"outlinewidth\": 0, \"ticks\": \"\"}}, \"type\": \"parcoords\"}], \"pie\": [{\"automargin\": true, \"type\": \"pie\"}], \"scatter\": [{\"marker\": {\"colorbar\": {\"outlinewidth\": 0, \"ticks\": \"\"}}, \"type\": \"scatter\"}], \"scatter3d\": [{\"line\": {\"colorbar\": {\"outlinewidth\": 0, \"ticks\": \"\"}}, \"marker\": {\"colorbar\": {\"outlinewidth\": 0, \"ticks\": \"\"}}, \"type\": \"scatter3d\"}], \"scattercarpet\": [{\"marker\": {\"colorbar\": {\"outlinewidth\": 0, \"ticks\": \"\"}}, \"type\": \"scattercarpet\"}], \"scattergeo\": [{\"marker\": {\"colorbar\": {\"outlinewidth\": 0, \"ticks\": \"\"}}, \"type\": \"scattergeo\"}], \"scattergl\": [{\"marker\": {\"colorbar\": {\"outlinewidth\": 0, \"ticks\": \"\"}}, \"type\": \"scattergl\"}], \"scattermapbox\": [{\"marker\": {\"colorbar\": {\"outlinewidth\": 0, \"ticks\": \"\"}}, \"type\": \"scattermapbox\"}], \"scatterpolar\": [{\"marker\": {\"colorbar\": {\"outlinewidth\": 0, \"ticks\": \"\"}}, \"type\": \"scatterpolar\"}], \"scatterpolargl\": [{\"marker\": {\"colorbar\": {\"outlinewidth\": 0, \"ticks\": \"\"}}, \"type\": \"scatterpolargl\"}], \"scatterternary\": [{\"marker\": {\"colorbar\": {\"outlinewidth\": 0, \"ticks\": \"\"}}, \"type\": \"scatterternary\"}], \"surface\": [{\"colorbar\": {\"outlinewidth\": 0, \"ticks\": \"\"}, \"colorscale\": [[0.0, \"#0d0887\"], [0.1111111111111111, \"#46039f\"], [0.2222222222222222, \"#7201a8\"], [0.3333333333333333, \"#9c179e\"], [0.4444444444444444, \"#bd3786\"], [0.5555555555555556, \"#d8576b\"], [0.6666666666666666, \"#ed7953\"], [0.7777777777777778, \"#fb9f3a\"], [0.8888888888888888, \"#fdca26\"], [1.0, \"#f0f921\"]], \"type\": \"surface\"}], \"table\": [{\"cells\": {\"fill\": {\"color\": \"#EBF0F8\"}, \"line\": {\"color\": \"white\"}}, \"header\": {\"fill\": {\"color\": \"#C8D4E3\"}, \"line\": {\"color\": \"white\"}}, \"type\": \"table\"}]}, \"layout\": {\"annotationdefaults\": {\"arrowcolor\": \"#2a3f5f\", \"arrowhead\": 0, \"arrowwidth\": 1}, \"coloraxis\": {\"colorbar\": {\"outlinewidth\": 0, \"ticks\": \"\"}}, \"colorscale\": {\"diverging\": [[0, \"#8e0152\"], [0.1, \"#c51b7d\"], [0.2, \"#de77ae\"], [0.3, \"#f1b6da\"], [0.4, \"#fde0ef\"], [0.5, \"#f7f7f7\"], [0.6, \"#e6f5d0\"], [0.7, \"#b8e186\"], [0.8, \"#7fbc41\"], [0.9, \"#4d9221\"], [1, \"#276419\"]], \"sequential\": [[0.0, \"#0d0887\"], [0.1111111111111111, \"#46039f\"], [0.2222222222222222, \"#7201a8\"], [0.3333333333333333, \"#9c179e\"], [0.4444444444444444, \"#bd3786\"], [0.5555555555555556, \"#d8576b\"], [0.6666666666666666, \"#ed7953\"], [0.7777777777777778, \"#fb9f3a\"], [0.8888888888888888, \"#fdca26\"], [1.0, \"#f0f921\"]], \"sequentialminus\": [[0.0, \"#0d0887\"], [0.1111111111111111, \"#46039f\"], [0.2222222222222222, \"#7201a8\"], [0.3333333333333333, \"#9c179e\"], [0.4444444444444444, \"#bd3786\"], [0.5555555555555556, \"#d8576b\"], [0.6666666666666666, \"#ed7953\"], [0.7777777777777778, \"#fb9f3a\"], [0.8888888888888888, \"#fdca26\"], [1.0, \"#f0f921\"]]}, \"colorway\": [\"#636efa\", \"#EF553B\", \"#00cc96\", \"#ab63fa\", \"#FFA15A\", \"#19d3f3\", \"#FF6692\", \"#B6E880\", \"#FF97FF\", \"#FECB52\"], \"font\": {\"color\": \"#2a3f5f\"}, \"geo\": {\"bgcolor\": \"white\", \"lakecolor\": \"white\", \"landcolor\": \"#E5ECF6\", \"showlakes\": true, \"showland\": true, \"subunitcolor\": \"white\"}, \"hoverlabel\": {\"align\": \"left\"}, \"hovermode\": \"closest\", \"mapbox\": {\"style\": \"light\"}, \"paper_bgcolor\": \"white\", \"plot_bgcolor\": \"#E5ECF6\", \"polar\": {\"angularaxis\": {\"gridcolor\": \"white\", \"linecolor\": \"white\", \"ticks\": \"\"}, \"bgcolor\": \"#E5ECF6\", \"radialaxis\": {\"gridcolor\": \"white\", \"linecolor\": \"white\", \"ticks\": \"\"}}, \"scene\": {\"xaxis\": {\"backgroundcolor\": \"#E5ECF6\", \"gridcolor\": \"white\", \"gridwidth\": 2, \"linecolor\": \"white\", \"showbackground\": true, \"ticks\": \"\", \"zerolinecolor\": \"white\"}, \"yaxis\": {\"backgroundcolor\": \"#E5ECF6\", \"gridcolor\": \"white\", \"gridwidth\": 2, \"linecolor\": \"white\", \"showbackground\": true, \"ticks\": \"\", \"zerolinecolor\": \"white\"}, \"zaxis\": {\"backgroundcolor\": \"#E5ECF6\", \"gridcolor\": \"white\", \"gridwidth\": 2, \"linecolor\": \"white\", \"showbackground\": true, \"ticks\": \"\", \"zerolinecolor\": \"white\"}}, \"shapedefaults\": {\"line\": {\"color\": \"#2a3f5f\"}}, \"ternary\": {\"aaxis\": {\"gridcolor\": \"white\", \"linecolor\": \"white\", \"ticks\": \"\"}, \"baxis\": {\"gridcolor\": \"white\", \"linecolor\": \"white\", \"ticks\": \"\"}, \"bgcolor\": \"#E5ECF6\", \"caxis\": {\"gridcolor\": \"white\", \"linecolor\": \"white\", \"ticks\": \"\"}}, \"title\": {\"x\": 0.05}, \"xaxis\": {\"automargin\": true, \"gridcolor\": \"white\", \"linecolor\": \"white\", \"ticks\": \"\", \"title\": {\"standoff\": 15}, \"zerolinecolor\": \"white\", \"zerolinewidth\": 2}, \"yaxis\": {\"automargin\": true, \"gridcolor\": \"white\", \"linecolor\": \"white\", \"ticks\": \"\", \"title\": {\"standoff\": 15}, \"zerolinecolor\": \"white\", \"zerolinewidth\": 2}}}, \"title\": {\"text\": \"Average Viewers in 7 Days\"}, \"yaxis\": {\"title\": {\"text\": \"Average Viewers\"}}},                        {\"responsive\": true}                    ).then(function(){\n",
       "                            \n",
       "var gd = document.getElementById('467fd539-85d6-43ba-ba2f-c83c27bdf32f');\n",
       "var x = new MutationObserver(function (mutations, observer) {{\n",
       "        var display = window.getComputedStyle(gd).display;\n",
       "        if (!display || display === 'none') {{\n",
       "            console.log([gd, 'removed!']);\n",
       "            Plotly.purge(gd);\n",
       "            observer.disconnect();\n",
       "        }}\n",
       "}});\n",
       "\n",
       "// Listen for the removal of the full notebook cells\n",
       "var notebookContainer = gd.closest('#notebook-container');\n",
       "if (notebookContainer) {{\n",
       "    x.observe(notebookContainer, {childList: true});\n",
       "}}\n",
       "\n",
       "// Listen for the clearing of the current output cell\n",
       "var outputEl = gd.closest('.output');\n",
       "if (outputEl) {{\n",
       "    x.observe(outputEl, {childList: true});\n",
       "}}\n",
       "\n",
       "                        })                };                });            </script>        </div>"
      ]
     },
     "metadata": {},
     "output_type": "display_data"
    }
   ],
   "source": [
    "def draw_average_viewers():\n",
    "    data = {'tag': [], 'aver': []}\n",
    "    for key in cat.keys():\n",
    "        data['tag'].append(key)\n",
    "        sdf = df[df['id'].isin(cat[key])]\n",
    "        aver = sdf['Avg. viewers, 7 days'].sum() *1.0 / len(cat[key])\n",
    "        data['aver'].append(aver)\n",
    "    trace = go.Bar(\n",
    "        x=data['tag'],\n",
    "        y=data['aver'],\n",
    "        name='Number of Games'\n",
    "    )\n",
    "    fig=go.Figure(data=[trace])\n",
    "    fig.update_layout(\n",
    "        title='Average Viewers in 7 Days',\n",
    "        yaxis_title='Average Viewers',\n",
    "    )\n",
    "    pyo.iplot(fig)\n",
    "\n",
    "draw_average_viewers()"
   ]
  },
  {
   "cell_type": "code",
   "execution_count": 16,
   "metadata": {},
   "outputs": [
    {
     "data": {
      "application/vnd.plotly.v1+json": {
       "config": {
        "linkText": "Export to plot.ly",
        "plotlyServerURL": "https://plot.ly",
        "showLink": false
       },
       "data": [
        {
         "name": "Number of Games",
         "type": "bar",
         "x": [
          "IRL",
          "MMO",
          "AdventureGame",
          "Survival",
          "DrivingRacingGame",
          "RPG",
          "FPS",
          "MOBA",
          "Shooter",
          "OpenWorld",
          "Strategy",
          "Horror",
          "Action",
          "Stealth",
          "Creative",
          "IndieGame",
          "Metroidvania",
          "Platformer",
          "Simulation",
          "SportsGame",
          "CardBoardGame",
          "Puzzle",
          "GamblingGame",
          "MobileGame",
          "GameOverlay",
          "Fighting",
          "Party",
          "RTS",
          "Mystery",
          "Roguelike"
         ],
         "y": [
          1018061,
          1135186,
          620179,
          2277171,
          389213,
          1135186,
          1304870,
          2044782,
          2277171,
          2277171,
          774280,
          253155,
          708865,
          197908,
          293589,
          33660,
          178313,
          199193,
          316928,
          473474,
          364836,
          253155,
          201907,
          293530,
          155932,
          272231,
          708865,
          150349,
          40363,
          60903
         ]
        }
       ],
       "layout": {
        "template": {
         "data": {
          "bar": [
           {
            "error_x": {
             "color": "#2a3f5f"
            },
            "error_y": {
             "color": "#2a3f5f"
            },
            "marker": {
             "line": {
              "color": "#E5ECF6",
              "width": 0.5
             }
            },
            "type": "bar"
           }
          ],
          "barpolar": [
           {
            "marker": {
             "line": {
              "color": "#E5ECF6",
              "width": 0.5
             }
            },
            "type": "barpolar"
           }
          ],
          "carpet": [
           {
            "aaxis": {
             "endlinecolor": "#2a3f5f",
             "gridcolor": "white",
             "linecolor": "white",
             "minorgridcolor": "white",
             "startlinecolor": "#2a3f5f"
            },
            "baxis": {
             "endlinecolor": "#2a3f5f",
             "gridcolor": "white",
             "linecolor": "white",
             "minorgridcolor": "white",
             "startlinecolor": "#2a3f5f"
            },
            "type": "carpet"
           }
          ],
          "choropleth": [
           {
            "colorbar": {
             "outlinewidth": 0,
             "ticks": ""
            },
            "type": "choropleth"
           }
          ],
          "contour": [
           {
            "colorbar": {
             "outlinewidth": 0,
             "ticks": ""
            },
            "colorscale": [
             [
              0,
              "#0d0887"
             ],
             [
              0.1111111111111111,
              "#46039f"
             ],
             [
              0.2222222222222222,
              "#7201a8"
             ],
             [
              0.3333333333333333,
              "#9c179e"
             ],
             [
              0.4444444444444444,
              "#bd3786"
             ],
             [
              0.5555555555555556,
              "#d8576b"
             ],
             [
              0.6666666666666666,
              "#ed7953"
             ],
             [
              0.7777777777777778,
              "#fb9f3a"
             ],
             [
              0.8888888888888888,
              "#fdca26"
             ],
             [
              1,
              "#f0f921"
             ]
            ],
            "type": "contour"
           }
          ],
          "contourcarpet": [
           {
            "colorbar": {
             "outlinewidth": 0,
             "ticks": ""
            },
            "type": "contourcarpet"
           }
          ],
          "heatmap": [
           {
            "colorbar": {
             "outlinewidth": 0,
             "ticks": ""
            },
            "colorscale": [
             [
              0,
              "#0d0887"
             ],
             [
              0.1111111111111111,
              "#46039f"
             ],
             [
              0.2222222222222222,
              "#7201a8"
             ],
             [
              0.3333333333333333,
              "#9c179e"
             ],
             [
              0.4444444444444444,
              "#bd3786"
             ],
             [
              0.5555555555555556,
              "#d8576b"
             ],
             [
              0.6666666666666666,
              "#ed7953"
             ],
             [
              0.7777777777777778,
              "#fb9f3a"
             ],
             [
              0.8888888888888888,
              "#fdca26"
             ],
             [
              1,
              "#f0f921"
             ]
            ],
            "type": "heatmap"
           }
          ],
          "heatmapgl": [
           {
            "colorbar": {
             "outlinewidth": 0,
             "ticks": ""
            },
            "colorscale": [
             [
              0,
              "#0d0887"
             ],
             [
              0.1111111111111111,
              "#46039f"
             ],
             [
              0.2222222222222222,
              "#7201a8"
             ],
             [
              0.3333333333333333,
              "#9c179e"
             ],
             [
              0.4444444444444444,
              "#bd3786"
             ],
             [
              0.5555555555555556,
              "#d8576b"
             ],
             [
              0.6666666666666666,
              "#ed7953"
             ],
             [
              0.7777777777777778,
              "#fb9f3a"
             ],
             [
              0.8888888888888888,
              "#fdca26"
             ],
             [
              1,
              "#f0f921"
             ]
            ],
            "type": "heatmapgl"
           }
          ],
          "histogram": [
           {
            "marker": {
             "colorbar": {
              "outlinewidth": 0,
              "ticks": ""
             }
            },
            "type": "histogram"
           }
          ],
          "histogram2d": [
           {
            "colorbar": {
             "outlinewidth": 0,
             "ticks": ""
            },
            "colorscale": [
             [
              0,
              "#0d0887"
             ],
             [
              0.1111111111111111,
              "#46039f"
             ],
             [
              0.2222222222222222,
              "#7201a8"
             ],
             [
              0.3333333333333333,
              "#9c179e"
             ],
             [
              0.4444444444444444,
              "#bd3786"
             ],
             [
              0.5555555555555556,
              "#d8576b"
             ],
             [
              0.6666666666666666,
              "#ed7953"
             ],
             [
              0.7777777777777778,
              "#fb9f3a"
             ],
             [
              0.8888888888888888,
              "#fdca26"
             ],
             [
              1,
              "#f0f921"
             ]
            ],
            "type": "histogram2d"
           }
          ],
          "histogram2dcontour": [
           {
            "colorbar": {
             "outlinewidth": 0,
             "ticks": ""
            },
            "colorscale": [
             [
              0,
              "#0d0887"
             ],
             [
              0.1111111111111111,
              "#46039f"
             ],
             [
              0.2222222222222222,
              "#7201a8"
             ],
             [
              0.3333333333333333,
              "#9c179e"
             ],
             [
              0.4444444444444444,
              "#bd3786"
             ],
             [
              0.5555555555555556,
              "#d8576b"
             ],
             [
              0.6666666666666666,
              "#ed7953"
             ],
             [
              0.7777777777777778,
              "#fb9f3a"
             ],
             [
              0.8888888888888888,
              "#fdca26"
             ],
             [
              1,
              "#f0f921"
             ]
            ],
            "type": "histogram2dcontour"
           }
          ],
          "mesh3d": [
           {
            "colorbar": {
             "outlinewidth": 0,
             "ticks": ""
            },
            "type": "mesh3d"
           }
          ],
          "parcoords": [
           {
            "line": {
             "colorbar": {
              "outlinewidth": 0,
              "ticks": ""
             }
            },
            "type": "parcoords"
           }
          ],
          "pie": [
           {
            "automargin": true,
            "type": "pie"
           }
          ],
          "scatter": [
           {
            "marker": {
             "colorbar": {
              "outlinewidth": 0,
              "ticks": ""
             }
            },
            "type": "scatter"
           }
          ],
          "scatter3d": [
           {
            "line": {
             "colorbar": {
              "outlinewidth": 0,
              "ticks": ""
             }
            },
            "marker": {
             "colorbar": {
              "outlinewidth": 0,
              "ticks": ""
             }
            },
            "type": "scatter3d"
           }
          ],
          "scattercarpet": [
           {
            "marker": {
             "colorbar": {
              "outlinewidth": 0,
              "ticks": ""
             }
            },
            "type": "scattercarpet"
           }
          ],
          "scattergeo": [
           {
            "marker": {
             "colorbar": {
              "outlinewidth": 0,
              "ticks": ""
             }
            },
            "type": "scattergeo"
           }
          ],
          "scattergl": [
           {
            "marker": {
             "colorbar": {
              "outlinewidth": 0,
              "ticks": ""
             }
            },
            "type": "scattergl"
           }
          ],
          "scattermapbox": [
           {
            "marker": {
             "colorbar": {
              "outlinewidth": 0,
              "ticks": ""
             }
            },
            "type": "scattermapbox"
           }
          ],
          "scatterpolar": [
           {
            "marker": {
             "colorbar": {
              "outlinewidth": 0,
              "ticks": ""
             }
            },
            "type": "scatterpolar"
           }
          ],
          "scatterpolargl": [
           {
            "marker": {
             "colorbar": {
              "outlinewidth": 0,
              "ticks": ""
             }
            },
            "type": "scatterpolargl"
           }
          ],
          "scatterternary": [
           {
            "marker": {
             "colorbar": {
              "outlinewidth": 0,
              "ticks": ""
             }
            },
            "type": "scatterternary"
           }
          ],
          "surface": [
           {
            "colorbar": {
             "outlinewidth": 0,
             "ticks": ""
            },
            "colorscale": [
             [
              0,
              "#0d0887"
             ],
             [
              0.1111111111111111,
              "#46039f"
             ],
             [
              0.2222222222222222,
              "#7201a8"
             ],
             [
              0.3333333333333333,
              "#9c179e"
             ],
             [
              0.4444444444444444,
              "#bd3786"
             ],
             [
              0.5555555555555556,
              "#d8576b"
             ],
             [
              0.6666666666666666,
              "#ed7953"
             ],
             [
              0.7777777777777778,
              "#fb9f3a"
             ],
             [
              0.8888888888888888,
              "#fdca26"
             ],
             [
              1,
              "#f0f921"
             ]
            ],
            "type": "surface"
           }
          ],
          "table": [
           {
            "cells": {
             "fill": {
              "color": "#EBF0F8"
             },
             "line": {
              "color": "white"
             }
            },
            "header": {
             "fill": {
              "color": "#C8D4E3"
             },
             "line": {
              "color": "white"
             }
            },
            "type": "table"
           }
          ]
         },
         "layout": {
          "annotationdefaults": {
           "arrowcolor": "#2a3f5f",
           "arrowhead": 0,
           "arrowwidth": 1
          },
          "coloraxis": {
           "colorbar": {
            "outlinewidth": 0,
            "ticks": ""
           }
          },
          "colorscale": {
           "diverging": [
            [
             0,
             "#8e0152"
            ],
            [
             0.1,
             "#c51b7d"
            ],
            [
             0.2,
             "#de77ae"
            ],
            [
             0.3,
             "#f1b6da"
            ],
            [
             0.4,
             "#fde0ef"
            ],
            [
             0.5,
             "#f7f7f7"
            ],
            [
             0.6,
             "#e6f5d0"
            ],
            [
             0.7,
             "#b8e186"
            ],
            [
             0.8,
             "#7fbc41"
            ],
            [
             0.9,
             "#4d9221"
            ],
            [
             1,
             "#276419"
            ]
           ],
           "sequential": [
            [
             0,
             "#0d0887"
            ],
            [
             0.1111111111111111,
             "#46039f"
            ],
            [
             0.2222222222222222,
             "#7201a8"
            ],
            [
             0.3333333333333333,
             "#9c179e"
            ],
            [
             0.4444444444444444,
             "#bd3786"
            ],
            [
             0.5555555555555556,
             "#d8576b"
            ],
            [
             0.6666666666666666,
             "#ed7953"
            ],
            [
             0.7777777777777778,
             "#fb9f3a"
            ],
            [
             0.8888888888888888,
             "#fdca26"
            ],
            [
             1,
             "#f0f921"
            ]
           ],
           "sequentialminus": [
            [
             0,
             "#0d0887"
            ],
            [
             0.1111111111111111,
             "#46039f"
            ],
            [
             0.2222222222222222,
             "#7201a8"
            ],
            [
             0.3333333333333333,
             "#9c179e"
            ],
            [
             0.4444444444444444,
             "#bd3786"
            ],
            [
             0.5555555555555556,
             "#d8576b"
            ],
            [
             0.6666666666666666,
             "#ed7953"
            ],
            [
             0.7777777777777778,
             "#fb9f3a"
            ],
            [
             0.8888888888888888,
             "#fdca26"
            ],
            [
             1,
             "#f0f921"
            ]
           ]
          },
          "colorway": [
           "#636efa",
           "#EF553B",
           "#00cc96",
           "#ab63fa",
           "#FFA15A",
           "#19d3f3",
           "#FF6692",
           "#B6E880",
           "#FF97FF",
           "#FECB52"
          ],
          "font": {
           "color": "#2a3f5f"
          },
          "geo": {
           "bgcolor": "white",
           "lakecolor": "white",
           "landcolor": "#E5ECF6",
           "showlakes": true,
           "showland": true,
           "subunitcolor": "white"
          },
          "hoverlabel": {
           "align": "left"
          },
          "hovermode": "closest",
          "mapbox": {
           "style": "light"
          },
          "paper_bgcolor": "white",
          "plot_bgcolor": "#E5ECF6",
          "polar": {
           "angularaxis": {
            "gridcolor": "white",
            "linecolor": "white",
            "ticks": ""
           },
           "bgcolor": "#E5ECF6",
           "radialaxis": {
            "gridcolor": "white",
            "linecolor": "white",
            "ticks": ""
           }
          },
          "scene": {
           "xaxis": {
            "backgroundcolor": "#E5ECF6",
            "gridcolor": "white",
            "gridwidth": 2,
            "linecolor": "white",
            "showbackground": true,
            "ticks": "",
            "zerolinecolor": "white"
           },
           "yaxis": {
            "backgroundcolor": "#E5ECF6",
            "gridcolor": "white",
            "gridwidth": 2,
            "linecolor": "white",
            "showbackground": true,
            "ticks": "",
            "zerolinecolor": "white"
           },
           "zaxis": {
            "backgroundcolor": "#E5ECF6",
            "gridcolor": "white",
            "gridwidth": 2,
            "linecolor": "white",
            "showbackground": true,
            "ticks": "",
            "zerolinecolor": "white"
           }
          },
          "shapedefaults": {
           "line": {
            "color": "#2a3f5f"
           }
          },
          "ternary": {
           "aaxis": {
            "gridcolor": "white",
            "linecolor": "white",
            "ticks": ""
           },
           "baxis": {
            "gridcolor": "white",
            "linecolor": "white",
            "ticks": ""
           },
           "bgcolor": "#E5ECF6",
           "caxis": {
            "gridcolor": "white",
            "linecolor": "white",
            "ticks": ""
           }
          },
          "title": {
           "x": 0.05
          },
          "xaxis": {
           "automargin": true,
           "gridcolor": "white",
           "linecolor": "white",
           "ticks": "",
           "title": {
            "standoff": 15
           },
           "zerolinecolor": "white",
           "zerolinewidth": 2
          },
          "yaxis": {
           "automargin": true,
           "gridcolor": "white",
           "linecolor": "white",
           "ticks": "",
           "title": {
            "standoff": 15
           },
           "zerolinecolor": "white",
           "zerolinewidth": 2
          }
         }
        },
        "title": {
         "text": "Peak"
        },
        "yaxis": {
         "title": {
          "text": "Peak Viewers"
         }
        }
       }
      },
      "text/html": [
       "<div>                            <div id=\"6508aec4-8f74-4e60-a7bc-ae8937b7fbf6\" class=\"plotly-graph-div\" style=\"height:525px; width:100%;\"></div>            <script type=\"text/javascript\">                require([\"plotly\"], function(Plotly) {                    window.PLOTLYENV=window.PLOTLYENV || {};                                    if (document.getElementById(\"6508aec4-8f74-4e60-a7bc-ae8937b7fbf6\")) {                    Plotly.newPlot(                        \"6508aec4-8f74-4e60-a7bc-ae8937b7fbf6\",                        [{\"name\": \"Number of Games\", \"type\": \"bar\", \"x\": [\"IRL\", \"MMO\", \"AdventureGame\", \"Survival\", \"DrivingRacingGame\", \"RPG\", \"FPS\", \"MOBA\", \"Shooter\", \"OpenWorld\", \"Strategy\", \"Horror\", \"Action\", \"Stealth\", \"Creative\", \"IndieGame\", \"Metroidvania\", \"Platformer\", \"Simulation\", \"SportsGame\", \"CardBoardGame\", \"Puzzle\", \"GamblingGame\", \"MobileGame\", \"GameOverlay\", \"Fighting\", \"Party\", \"RTS\", \"Mystery\", \"Roguelike\"], \"y\": [1018061, 1135186, 620179, 2277171, 389213, 1135186, 1304870, 2044782, 2277171, 2277171, 774280, 253155, 708865, 197908, 293589, 33660, 178313, 199193, 316928, 473474, 364836, 253155, 201907, 293530, 155932, 272231, 708865, 150349, 40363, 60903]}],                        {\"template\": {\"data\": {\"bar\": [{\"error_x\": {\"color\": \"#2a3f5f\"}, \"error_y\": {\"color\": \"#2a3f5f\"}, \"marker\": {\"line\": {\"color\": \"#E5ECF6\", \"width\": 0.5}}, \"type\": \"bar\"}], \"barpolar\": [{\"marker\": {\"line\": {\"color\": \"#E5ECF6\", \"width\": 0.5}}, \"type\": \"barpolar\"}], \"carpet\": [{\"aaxis\": {\"endlinecolor\": \"#2a3f5f\", \"gridcolor\": \"white\", \"linecolor\": \"white\", \"minorgridcolor\": \"white\", \"startlinecolor\": \"#2a3f5f\"}, \"baxis\": {\"endlinecolor\": \"#2a3f5f\", \"gridcolor\": \"white\", \"linecolor\": \"white\", \"minorgridcolor\": \"white\", \"startlinecolor\": \"#2a3f5f\"}, \"type\": \"carpet\"}], \"choropleth\": [{\"colorbar\": {\"outlinewidth\": 0, \"ticks\": \"\"}, \"type\": \"choropleth\"}], \"contour\": [{\"colorbar\": {\"outlinewidth\": 0, \"ticks\": \"\"}, \"colorscale\": [[0.0, \"#0d0887\"], [0.1111111111111111, \"#46039f\"], [0.2222222222222222, \"#7201a8\"], [0.3333333333333333, \"#9c179e\"], [0.4444444444444444, \"#bd3786\"], [0.5555555555555556, \"#d8576b\"], [0.6666666666666666, \"#ed7953\"], [0.7777777777777778, \"#fb9f3a\"], [0.8888888888888888, \"#fdca26\"], [1.0, \"#f0f921\"]], \"type\": \"contour\"}], \"contourcarpet\": [{\"colorbar\": {\"outlinewidth\": 0, \"ticks\": \"\"}, \"type\": \"contourcarpet\"}], \"heatmap\": [{\"colorbar\": {\"outlinewidth\": 0, \"ticks\": \"\"}, \"colorscale\": [[0.0, \"#0d0887\"], [0.1111111111111111, \"#46039f\"], [0.2222222222222222, \"#7201a8\"], [0.3333333333333333, \"#9c179e\"], [0.4444444444444444, \"#bd3786\"], [0.5555555555555556, \"#d8576b\"], [0.6666666666666666, \"#ed7953\"], [0.7777777777777778, \"#fb9f3a\"], [0.8888888888888888, \"#fdca26\"], [1.0, \"#f0f921\"]], \"type\": \"heatmap\"}], \"heatmapgl\": [{\"colorbar\": {\"outlinewidth\": 0, \"ticks\": \"\"}, \"colorscale\": [[0.0, \"#0d0887\"], [0.1111111111111111, \"#46039f\"], [0.2222222222222222, \"#7201a8\"], [0.3333333333333333, \"#9c179e\"], [0.4444444444444444, \"#bd3786\"], [0.5555555555555556, \"#d8576b\"], [0.6666666666666666, \"#ed7953\"], [0.7777777777777778, \"#fb9f3a\"], [0.8888888888888888, \"#fdca26\"], [1.0, \"#f0f921\"]], \"type\": \"heatmapgl\"}], \"histogram\": [{\"marker\": {\"colorbar\": {\"outlinewidth\": 0, \"ticks\": \"\"}}, \"type\": \"histogram\"}], \"histogram2d\": [{\"colorbar\": {\"outlinewidth\": 0, \"ticks\": \"\"}, \"colorscale\": [[0.0, \"#0d0887\"], [0.1111111111111111, \"#46039f\"], [0.2222222222222222, \"#7201a8\"], [0.3333333333333333, \"#9c179e\"], [0.4444444444444444, \"#bd3786\"], [0.5555555555555556, \"#d8576b\"], [0.6666666666666666, \"#ed7953\"], [0.7777777777777778, \"#fb9f3a\"], [0.8888888888888888, \"#fdca26\"], [1.0, \"#f0f921\"]], \"type\": \"histogram2d\"}], \"histogram2dcontour\": [{\"colorbar\": {\"outlinewidth\": 0, \"ticks\": \"\"}, \"colorscale\": [[0.0, \"#0d0887\"], [0.1111111111111111, \"#46039f\"], [0.2222222222222222, \"#7201a8\"], [0.3333333333333333, \"#9c179e\"], [0.4444444444444444, \"#bd3786\"], [0.5555555555555556, \"#d8576b\"], [0.6666666666666666, \"#ed7953\"], [0.7777777777777778, \"#fb9f3a\"], [0.8888888888888888, \"#fdca26\"], [1.0, \"#f0f921\"]], \"type\": \"histogram2dcontour\"}], \"mesh3d\": [{\"colorbar\": {\"outlinewidth\": 0, \"ticks\": \"\"}, \"type\": \"mesh3d\"}], \"parcoords\": [{\"line\": {\"colorbar\": {\"outlinewidth\": 0, \"ticks\": \"\"}}, \"type\": \"parcoords\"}], \"pie\": [{\"automargin\": true, \"type\": \"pie\"}], \"scatter\": [{\"marker\": {\"colorbar\": {\"outlinewidth\": 0, \"ticks\": \"\"}}, \"type\": \"scatter\"}], \"scatter3d\": [{\"line\": {\"colorbar\": {\"outlinewidth\": 0, \"ticks\": \"\"}}, \"marker\": {\"colorbar\": {\"outlinewidth\": 0, \"ticks\": \"\"}}, \"type\": \"scatter3d\"}], \"scattercarpet\": [{\"marker\": {\"colorbar\": {\"outlinewidth\": 0, \"ticks\": \"\"}}, \"type\": \"scattercarpet\"}], \"scattergeo\": [{\"marker\": {\"colorbar\": {\"outlinewidth\": 0, \"ticks\": \"\"}}, \"type\": \"scattergeo\"}], \"scattergl\": [{\"marker\": {\"colorbar\": {\"outlinewidth\": 0, \"ticks\": \"\"}}, \"type\": \"scattergl\"}], \"scattermapbox\": [{\"marker\": {\"colorbar\": {\"outlinewidth\": 0, \"ticks\": \"\"}}, \"type\": \"scattermapbox\"}], \"scatterpolar\": [{\"marker\": {\"colorbar\": {\"outlinewidth\": 0, \"ticks\": \"\"}}, \"type\": \"scatterpolar\"}], \"scatterpolargl\": [{\"marker\": {\"colorbar\": {\"outlinewidth\": 0, \"ticks\": \"\"}}, \"type\": \"scatterpolargl\"}], \"scatterternary\": [{\"marker\": {\"colorbar\": {\"outlinewidth\": 0, \"ticks\": \"\"}}, \"type\": \"scatterternary\"}], \"surface\": [{\"colorbar\": {\"outlinewidth\": 0, \"ticks\": \"\"}, \"colorscale\": [[0.0, \"#0d0887\"], [0.1111111111111111, \"#46039f\"], [0.2222222222222222, \"#7201a8\"], [0.3333333333333333, \"#9c179e\"], [0.4444444444444444, \"#bd3786\"], [0.5555555555555556, \"#d8576b\"], [0.6666666666666666, \"#ed7953\"], [0.7777777777777778, \"#fb9f3a\"], [0.8888888888888888, \"#fdca26\"], [1.0, \"#f0f921\"]], \"type\": \"surface\"}], \"table\": [{\"cells\": {\"fill\": {\"color\": \"#EBF0F8\"}, \"line\": {\"color\": \"white\"}}, \"header\": {\"fill\": {\"color\": \"#C8D4E3\"}, \"line\": {\"color\": \"white\"}}, \"type\": \"table\"}]}, \"layout\": {\"annotationdefaults\": {\"arrowcolor\": \"#2a3f5f\", \"arrowhead\": 0, \"arrowwidth\": 1}, \"coloraxis\": {\"colorbar\": {\"outlinewidth\": 0, \"ticks\": \"\"}}, \"colorscale\": {\"diverging\": [[0, \"#8e0152\"], [0.1, \"#c51b7d\"], [0.2, \"#de77ae\"], [0.3, \"#f1b6da\"], [0.4, \"#fde0ef\"], [0.5, \"#f7f7f7\"], [0.6, \"#e6f5d0\"], [0.7, \"#b8e186\"], [0.8, \"#7fbc41\"], [0.9, \"#4d9221\"], [1, \"#276419\"]], \"sequential\": [[0.0, \"#0d0887\"], [0.1111111111111111, \"#46039f\"], [0.2222222222222222, \"#7201a8\"], [0.3333333333333333, \"#9c179e\"], [0.4444444444444444, \"#bd3786\"], [0.5555555555555556, \"#d8576b\"], [0.6666666666666666, \"#ed7953\"], [0.7777777777777778, \"#fb9f3a\"], [0.8888888888888888, \"#fdca26\"], [1.0, \"#f0f921\"]], \"sequentialminus\": [[0.0, \"#0d0887\"], [0.1111111111111111, \"#46039f\"], [0.2222222222222222, \"#7201a8\"], [0.3333333333333333, \"#9c179e\"], [0.4444444444444444, \"#bd3786\"], [0.5555555555555556, \"#d8576b\"], [0.6666666666666666, \"#ed7953\"], [0.7777777777777778, \"#fb9f3a\"], [0.8888888888888888, \"#fdca26\"], [1.0, \"#f0f921\"]]}, \"colorway\": [\"#636efa\", \"#EF553B\", \"#00cc96\", \"#ab63fa\", \"#FFA15A\", \"#19d3f3\", \"#FF6692\", \"#B6E880\", \"#FF97FF\", \"#FECB52\"], \"font\": {\"color\": \"#2a3f5f\"}, \"geo\": {\"bgcolor\": \"white\", \"lakecolor\": \"white\", \"landcolor\": \"#E5ECF6\", \"showlakes\": true, \"showland\": true, \"subunitcolor\": \"white\"}, \"hoverlabel\": {\"align\": \"left\"}, \"hovermode\": \"closest\", \"mapbox\": {\"style\": \"light\"}, \"paper_bgcolor\": \"white\", \"plot_bgcolor\": \"#E5ECF6\", \"polar\": {\"angularaxis\": {\"gridcolor\": \"white\", \"linecolor\": \"white\", \"ticks\": \"\"}, \"bgcolor\": \"#E5ECF6\", \"radialaxis\": {\"gridcolor\": \"white\", \"linecolor\": \"white\", \"ticks\": \"\"}}, \"scene\": {\"xaxis\": {\"backgroundcolor\": \"#E5ECF6\", \"gridcolor\": \"white\", \"gridwidth\": 2, \"linecolor\": \"white\", \"showbackground\": true, \"ticks\": \"\", \"zerolinecolor\": \"white\"}, \"yaxis\": {\"backgroundcolor\": \"#E5ECF6\", \"gridcolor\": \"white\", \"gridwidth\": 2, \"linecolor\": \"white\", \"showbackground\": true, \"ticks\": \"\", \"zerolinecolor\": \"white\"}, \"zaxis\": {\"backgroundcolor\": \"#E5ECF6\", \"gridcolor\": \"white\", \"gridwidth\": 2, \"linecolor\": \"white\", \"showbackground\": true, \"ticks\": \"\", \"zerolinecolor\": \"white\"}}, \"shapedefaults\": {\"line\": {\"color\": \"#2a3f5f\"}}, \"ternary\": {\"aaxis\": {\"gridcolor\": \"white\", \"linecolor\": \"white\", \"ticks\": \"\"}, \"baxis\": {\"gridcolor\": \"white\", \"linecolor\": \"white\", \"ticks\": \"\"}, \"bgcolor\": \"#E5ECF6\", \"caxis\": {\"gridcolor\": \"white\", \"linecolor\": \"white\", \"ticks\": \"\"}}, \"title\": {\"x\": 0.05}, \"xaxis\": {\"automargin\": true, \"gridcolor\": \"white\", \"linecolor\": \"white\", \"ticks\": \"\", \"title\": {\"standoff\": 15}, \"zerolinecolor\": \"white\", \"zerolinewidth\": 2}, \"yaxis\": {\"automargin\": true, \"gridcolor\": \"white\", \"linecolor\": \"white\", \"ticks\": \"\", \"title\": {\"standoff\": 15}, \"zerolinecolor\": \"white\", \"zerolinewidth\": 2}}}, \"title\": {\"text\": \"Peak\"}, \"yaxis\": {\"title\": {\"text\": \"Peak Viewers\"}}},                        {\"responsive\": true}                    ).then(function(){\n",
       "                            \n",
       "var gd = document.getElementById('6508aec4-8f74-4e60-a7bc-ae8937b7fbf6');\n",
       "var x = new MutationObserver(function (mutations, observer) {{\n",
       "        var display = window.getComputedStyle(gd).display;\n",
       "        if (!display || display === 'none') {{\n",
       "            console.log([gd, 'removed!']);\n",
       "            Plotly.purge(gd);\n",
       "            observer.disconnect();\n",
       "        }}\n",
       "}});\n",
       "\n",
       "// Listen for the removal of the full notebook cells\n",
       "var notebookContainer = gd.closest('#notebook-container');\n",
       "if (notebookContainer) {{\n",
       "    x.observe(notebookContainer, {childList: true});\n",
       "}}\n",
       "\n",
       "// Listen for the clearing of the current output cell\n",
       "var outputEl = gd.closest('.output');\n",
       "if (outputEl) {{\n",
       "    x.observe(outputEl, {childList: true});\n",
       "}}\n",
       "\n",
       "                        })                };                });            </script>        </div>"
      ]
     },
     "metadata": {},
     "output_type": "display_data"
    }
   ],
   "source": [
    "def draw_peak_viewers():\n",
    "    data = {'tag': [], 'peak': []}\n",
    "    for key in cat.keys():\n",
    "        data['tag'].append(key)\n",
    "        sdf = df[df['id'].isin(cat[key])]\n",
    "        peak = sdf['Peak viewers'].str.split(' ').str[0].astype(int)\n",
    "        data['peak'].append(peak.max())\n",
    "    trace = go.Bar(\n",
    "        x=data['tag'],\n",
    "        y=data['peak'],\n",
    "        name='Number of Games'\n",
    "    )\n",
    "    fig=go.Figure(data=[trace])\n",
    "    fig.update_layout(\n",
    "        title='Peak',\n",
    "        yaxis_title='Peak Viewers',\n",
    "    )\n",
    "    pyo.iplot(fig)\n",
    "\n",
    "draw_peak_viewers()"
   ]
  },
  {
   "cell_type": "code",
   "execution_count": 17,
   "metadata": {},
   "outputs": [
    {
     "name": "stdout",
     "output_type": "stream",
     "text": [
      "Index(['id', 'name', 'box_art_url', 'Live viewers', 'Live channels', 'Rank',\n",
      "       'Avg. viewers, 7 days', 'Avg. channels, 7 days',\n",
      "       'Hours watched, 7 days', 'Peak viewers', 'Peak channels',\n",
      "       'Viewers per channel, 7 days', 'label'],\n",
      "      dtype='object')\n"
     ]
    },
    {
     "data": {
      "application/vnd.plotly.v1+json": {
       "config": {
        "linkText": "Export to plot.ly",
        "plotlyServerURL": "https://plot.ly",
        "showLink": false
       },
       "data": [
        {
         "mode": "markers",
         "name": "Viewer VS. Channel",
         "type": "scatter",
         "x": [
          322642,
          102908,
          78299,
          131692,
          51471,
          143044,
          125441,
          54047,
          57410,
          49307,
          82736,
          27211,
          16370,
          30672,
          21,
          86979,
          62090,
          17105,
          15139,
          1545,
          31024,
          23016,
          22515,
          15253,
          76793,
          4828,
          16555,
          33348,
          15754,
          17161,
          20266,
          8441,
          13048,
          13929,
          597,
          11373,
          8167,
          11380,
          2390,
          5979,
          5383,
          5202,
          16708,
          891,
          10493,
          5039,
          4669,
          5236,
          4086,
          3929,
          12168,
          4186,
          6070,
          1258,
          4122,
          7585,
          1021,
          4735,
          5459,
          4464,
          3738,
          300,
          803,
          1853,
          425,
          9722,
          4045,
          4667,
          8460,
          941,
          3243,
          4434,
          2093,
          1253,
          1723,
          1657,
          1211,
          1831,
          4033,
          7641,
          2473,
          7345,
          15489,
          51,
          3120,
          1514,
          1361,
          1375,
          2580,
          3220,
          1849,
          2946,
          2866,
          301,
          949,
          1710,
          2045,
          2395
         ],
         "y": [
          4094,
          3392,
          2083,
          3699,
          3692,
          4448,
          10279,
          2406,
          3901,
          2703,
          1467,
          1350,
          902,
          1014,
          4,
          1854,
          868,
          1197,
          5438,
          190,
          1557,
          937,
          302,
          1386,
          1383,
          294,
          982,
          276,
          1204,
          359,
          122,
          134,
          752,
          315,
          44,
          740,
          121,
          761,
          107,
          179,
          423,
          186,
          88,
          58,
          30,
          278,
          104,
          207,
          126,
          223,
          175,
          24,
          271,
          164,
          189,
          115,
          3,
          157,
          128,
          276,
          153,
          31,
          29,
          35,
          131,
          192,
          182,
          62,
          39,
          116,
          281,
          47,
          32,
          34,
          88,
          361,
          35,
          92,
          185,
          87,
          353,
          281,
          901,
          2,
          291,
          39,
          167,
          26,
          15,
          232,
          359,
          81,
          132,
          5,
          28,
          147,
          28,
          89
         ]
        },
        {
         "name": "Line",
         "type": "scatter",
         "x": [
          21,
          3279.7979797979797,
          6538.595959595959,
          9797.39393939394,
          13056.191919191919,
          16314.989898989897,
          19573.78787878788,
          22832.58585858586,
          26091.383838383837,
          29350.181818181816,
          32608.979797979795,
          35867.777777777774,
          39126.57575757576,
          42385.37373737374,
          45644.17171717172,
          48902.969696969696,
          52161.767676767675,
          55420.56565656565,
          58679.36363636363,
          61938.16161616161,
          65196.95959595959,
          68455.75757575757,
          71714.55555555555,
          74973.35353535353,
          78232.15151515152,
          81490.9494949495,
          84749.74747474748,
          88008.54545454546,
          91267.34343434343,
          94526.14141414141,
          97784.93939393939,
          101043.73737373737,
          104302.53535353535,
          107561.33333333333,
          110820.1313131313,
          114078.92929292929,
          117337.72727272726,
          120596.52525252524,
          123855.32323232322,
          127114.1212121212,
          130372.91919191918,
          133631.71717171717,
          136890.51515151514,
          140149.31313131313,
          143408.1111111111,
          146666.9090909091,
          149925.70707070705,
          153184.50505050505,
          156443.30303030304,
          159702.101010101,
          162960.898989899,
          166219.69696969696,
          169478.49494949495,
          172737.29292929292,
          175996.0909090909,
          179254.88888888888,
          182513.68686868687,
          185772.48484848483,
          189031.28282828283,
          192290.0808080808,
          195548.87878787878,
          198807.67676767675,
          202066.47474747474,
          205325.2727272727,
          208584.0707070707,
          211842.8686868687,
          215101.66666666666,
          218360.46464646465,
          221619.2626262626,
          224878.0606060606,
          228136.85858585857,
          231395.65656565657,
          234654.45454545453,
          237913.25252525252,
          241172.0505050505,
          244430.84848484848,
          247689.64646464644,
          250948.44444444444,
          254207.2424242424,
          257466.0404040404,
          260724.83838383836,
          263983.63636363635,
          267242.43434343435,
          270501.23232323234,
          273760.0303030303,
          277018.82828282827,
          280277.62626262626,
          283536.42424242425,
          286795.2222222222,
          290054.0202020202,
          293312.8181818182,
          296571.61616161617,
          299830.4141414141,
          303089.2121212121,
          306348.0101010101,
          309606.8080808081,
          312865.6060606061,
          316124.404040404,
          319383.202020202,
          322642
         ],
         "y": [
          276.03225506339527,
          353.6476506722484,
          431.26304628110154,
          508.8784418899546,
          586.4938374988078,
          664.1092331076609,
          741.724628716514,
          819.3400243253672,
          896.9554199342202,
          974.5708155430733,
          1052.1862111519263,
          1129.8016067607796,
          1207.4170023696329,
          1285.0323979784857,
          1362.6477935873388,
          1440.2631891961921,
          1517.8785848050452,
          1595.4939804138983,
          1673.1093760227513,
          1750.7247716316044,
          1828.3401672404575,
          1905.9555628493106,
          1983.5709584581637,
          2061.1863540670165,
          2138.8017496758703,
          2216.417145284723,
          2294.0325408935764,
          2371.6479365024293,
          2449.2633321112826,
          2526.8787277201354,
          2604.4941233289887,
          2682.109518937842,
          2759.724914546695,
          2837.340310155548,
          2914.955705764401,
          2992.5711013732544,
          3070.186496982107,
          3147.8018925909605,
          3225.4172881998134,
          3303.0326838086667,
          3380.6480794175195,
          3458.2634750263733,
          3535.8788706352257,
          3613.4942662440794,
          3691.109661852932,
          3768.7250574617856,
          3846.340453070638,
          3923.9558486794917,
          4001.571244288345,
          4079.186639897198,
          4156.802035506051,
          4234.417431114904,
          4312.032826723757,
          4389.648222332609,
          4467.263617941464,
          4544.879013550317,
          4622.49440915917,
          4700.1098047680225,
          4777.725200376875,
          4855.340595985728,
          4932.955991594583,
          5010.571387203436,
          5088.186782812289,
          5165.802178421141,
          5243.417574029994,
          5321.032969638847,
          5398.6483652477,
          5476.263760856555,
          5553.8791564654075,
          5631.49455207426,
          5709.109947683113,
          5786.725343291966,
          5864.340738900819,
          5941.956134509674,
          6019.571530118525,
          6097.186925727379,
          6174.802321336232,
          6252.417716945085,
          6330.033112553938,
          6407.648508162791,
          6485.2639037716435,
          6562.879299380498,
          6640.494694989351,
          6718.110090598204,
          6795.725486207057,
          6873.34088181591,
          6950.956277424762,
          7028.571673033617,
          7106.187068642468,
          7183.802464251323,
          7261.417859860176,
          7339.0332554690285,
          7416.648651077881,
          7494.264046686734,
          7571.879442295587,
          7649.494837904442,
          7727.110233513295,
          7804.725629122147,
          7882.341024731,
          7959.956420339853
         ]
        }
       ],
       "layout": {
        "template": {
         "data": {
          "bar": [
           {
            "error_x": {
             "color": "#2a3f5f"
            },
            "error_y": {
             "color": "#2a3f5f"
            },
            "marker": {
             "line": {
              "color": "#E5ECF6",
              "width": 0.5
             }
            },
            "type": "bar"
           }
          ],
          "barpolar": [
           {
            "marker": {
             "line": {
              "color": "#E5ECF6",
              "width": 0.5
             }
            },
            "type": "barpolar"
           }
          ],
          "carpet": [
           {
            "aaxis": {
             "endlinecolor": "#2a3f5f",
             "gridcolor": "white",
             "linecolor": "white",
             "minorgridcolor": "white",
             "startlinecolor": "#2a3f5f"
            },
            "baxis": {
             "endlinecolor": "#2a3f5f",
             "gridcolor": "white",
             "linecolor": "white",
             "minorgridcolor": "white",
             "startlinecolor": "#2a3f5f"
            },
            "type": "carpet"
           }
          ],
          "choropleth": [
           {
            "colorbar": {
             "outlinewidth": 0,
             "ticks": ""
            },
            "type": "choropleth"
           }
          ],
          "contour": [
           {
            "colorbar": {
             "outlinewidth": 0,
             "ticks": ""
            },
            "colorscale": [
             [
              0,
              "#0d0887"
             ],
             [
              0.1111111111111111,
              "#46039f"
             ],
             [
              0.2222222222222222,
              "#7201a8"
             ],
             [
              0.3333333333333333,
              "#9c179e"
             ],
             [
              0.4444444444444444,
              "#bd3786"
             ],
             [
              0.5555555555555556,
              "#d8576b"
             ],
             [
              0.6666666666666666,
              "#ed7953"
             ],
             [
              0.7777777777777778,
              "#fb9f3a"
             ],
             [
              0.8888888888888888,
              "#fdca26"
             ],
             [
              1,
              "#f0f921"
             ]
            ],
            "type": "contour"
           }
          ],
          "contourcarpet": [
           {
            "colorbar": {
             "outlinewidth": 0,
             "ticks": ""
            },
            "type": "contourcarpet"
           }
          ],
          "heatmap": [
           {
            "colorbar": {
             "outlinewidth": 0,
             "ticks": ""
            },
            "colorscale": [
             [
              0,
              "#0d0887"
             ],
             [
              0.1111111111111111,
              "#46039f"
             ],
             [
              0.2222222222222222,
              "#7201a8"
             ],
             [
              0.3333333333333333,
              "#9c179e"
             ],
             [
              0.4444444444444444,
              "#bd3786"
             ],
             [
              0.5555555555555556,
              "#d8576b"
             ],
             [
              0.6666666666666666,
              "#ed7953"
             ],
             [
              0.7777777777777778,
              "#fb9f3a"
             ],
             [
              0.8888888888888888,
              "#fdca26"
             ],
             [
              1,
              "#f0f921"
             ]
            ],
            "type": "heatmap"
           }
          ],
          "heatmapgl": [
           {
            "colorbar": {
             "outlinewidth": 0,
             "ticks": ""
            },
            "colorscale": [
             [
              0,
              "#0d0887"
             ],
             [
              0.1111111111111111,
              "#46039f"
             ],
             [
              0.2222222222222222,
              "#7201a8"
             ],
             [
              0.3333333333333333,
              "#9c179e"
             ],
             [
              0.4444444444444444,
              "#bd3786"
             ],
             [
              0.5555555555555556,
              "#d8576b"
             ],
             [
              0.6666666666666666,
              "#ed7953"
             ],
             [
              0.7777777777777778,
              "#fb9f3a"
             ],
             [
              0.8888888888888888,
              "#fdca26"
             ],
             [
              1,
              "#f0f921"
             ]
            ],
            "type": "heatmapgl"
           }
          ],
          "histogram": [
           {
            "marker": {
             "colorbar": {
              "outlinewidth": 0,
              "ticks": ""
             }
            },
            "type": "histogram"
           }
          ],
          "histogram2d": [
           {
            "colorbar": {
             "outlinewidth": 0,
             "ticks": ""
            },
            "colorscale": [
             [
              0,
              "#0d0887"
             ],
             [
              0.1111111111111111,
              "#46039f"
             ],
             [
              0.2222222222222222,
              "#7201a8"
             ],
             [
              0.3333333333333333,
              "#9c179e"
             ],
             [
              0.4444444444444444,
              "#bd3786"
             ],
             [
              0.5555555555555556,
              "#d8576b"
             ],
             [
              0.6666666666666666,
              "#ed7953"
             ],
             [
              0.7777777777777778,
              "#fb9f3a"
             ],
             [
              0.8888888888888888,
              "#fdca26"
             ],
             [
              1,
              "#f0f921"
             ]
            ],
            "type": "histogram2d"
           }
          ],
          "histogram2dcontour": [
           {
            "colorbar": {
             "outlinewidth": 0,
             "ticks": ""
            },
            "colorscale": [
             [
              0,
              "#0d0887"
             ],
             [
              0.1111111111111111,
              "#46039f"
             ],
             [
              0.2222222222222222,
              "#7201a8"
             ],
             [
              0.3333333333333333,
              "#9c179e"
             ],
             [
              0.4444444444444444,
              "#bd3786"
             ],
             [
              0.5555555555555556,
              "#d8576b"
             ],
             [
              0.6666666666666666,
              "#ed7953"
             ],
             [
              0.7777777777777778,
              "#fb9f3a"
             ],
             [
              0.8888888888888888,
              "#fdca26"
             ],
             [
              1,
              "#f0f921"
             ]
            ],
            "type": "histogram2dcontour"
           }
          ],
          "mesh3d": [
           {
            "colorbar": {
             "outlinewidth": 0,
             "ticks": ""
            },
            "type": "mesh3d"
           }
          ],
          "parcoords": [
           {
            "line": {
             "colorbar": {
              "outlinewidth": 0,
              "ticks": ""
             }
            },
            "type": "parcoords"
           }
          ],
          "pie": [
           {
            "automargin": true,
            "type": "pie"
           }
          ],
          "scatter": [
           {
            "marker": {
             "colorbar": {
              "outlinewidth": 0,
              "ticks": ""
             }
            },
            "type": "scatter"
           }
          ],
          "scatter3d": [
           {
            "line": {
             "colorbar": {
              "outlinewidth": 0,
              "ticks": ""
             }
            },
            "marker": {
             "colorbar": {
              "outlinewidth": 0,
              "ticks": ""
             }
            },
            "type": "scatter3d"
           }
          ],
          "scattercarpet": [
           {
            "marker": {
             "colorbar": {
              "outlinewidth": 0,
              "ticks": ""
             }
            },
            "type": "scattercarpet"
           }
          ],
          "scattergeo": [
           {
            "marker": {
             "colorbar": {
              "outlinewidth": 0,
              "ticks": ""
             }
            },
            "type": "scattergeo"
           }
          ],
          "scattergl": [
           {
            "marker": {
             "colorbar": {
              "outlinewidth": 0,
              "ticks": ""
             }
            },
            "type": "scattergl"
           }
          ],
          "scattermapbox": [
           {
            "marker": {
             "colorbar": {
              "outlinewidth": 0,
              "ticks": ""
             }
            },
            "type": "scattermapbox"
           }
          ],
          "scatterpolar": [
           {
            "marker": {
             "colorbar": {
              "outlinewidth": 0,
              "ticks": ""
             }
            },
            "type": "scatterpolar"
           }
          ],
          "scatterpolargl": [
           {
            "marker": {
             "colorbar": {
              "outlinewidth": 0,
              "ticks": ""
             }
            },
            "type": "scatterpolargl"
           }
          ],
          "scatterternary": [
           {
            "marker": {
             "colorbar": {
              "outlinewidth": 0,
              "ticks": ""
             }
            },
            "type": "scatterternary"
           }
          ],
          "surface": [
           {
            "colorbar": {
             "outlinewidth": 0,
             "ticks": ""
            },
            "colorscale": [
             [
              0,
              "#0d0887"
             ],
             [
              0.1111111111111111,
              "#46039f"
             ],
             [
              0.2222222222222222,
              "#7201a8"
             ],
             [
              0.3333333333333333,
              "#9c179e"
             ],
             [
              0.4444444444444444,
              "#bd3786"
             ],
             [
              0.5555555555555556,
              "#d8576b"
             ],
             [
              0.6666666666666666,
              "#ed7953"
             ],
             [
              0.7777777777777778,
              "#fb9f3a"
             ],
             [
              0.8888888888888888,
              "#fdca26"
             ],
             [
              1,
              "#f0f921"
             ]
            ],
            "type": "surface"
           }
          ],
          "table": [
           {
            "cells": {
             "fill": {
              "color": "#EBF0F8"
             },
             "line": {
              "color": "white"
             }
            },
            "header": {
             "fill": {
              "color": "#C8D4E3"
             },
             "line": {
              "color": "white"
             }
            },
            "type": "table"
           }
          ]
         },
         "layout": {
          "annotationdefaults": {
           "arrowcolor": "#2a3f5f",
           "arrowhead": 0,
           "arrowwidth": 1
          },
          "coloraxis": {
           "colorbar": {
            "outlinewidth": 0,
            "ticks": ""
           }
          },
          "colorscale": {
           "diverging": [
            [
             0,
             "#8e0152"
            ],
            [
             0.1,
             "#c51b7d"
            ],
            [
             0.2,
             "#de77ae"
            ],
            [
             0.3,
             "#f1b6da"
            ],
            [
             0.4,
             "#fde0ef"
            ],
            [
             0.5,
             "#f7f7f7"
            ],
            [
             0.6,
             "#e6f5d0"
            ],
            [
             0.7,
             "#b8e186"
            ],
            [
             0.8,
             "#7fbc41"
            ],
            [
             0.9,
             "#4d9221"
            ],
            [
             1,
             "#276419"
            ]
           ],
           "sequential": [
            [
             0,
             "#0d0887"
            ],
            [
             0.1111111111111111,
             "#46039f"
            ],
            [
             0.2222222222222222,
             "#7201a8"
            ],
            [
             0.3333333333333333,
             "#9c179e"
            ],
            [
             0.4444444444444444,
             "#bd3786"
            ],
            [
             0.5555555555555556,
             "#d8576b"
            ],
            [
             0.6666666666666666,
             "#ed7953"
            ],
            [
             0.7777777777777778,
             "#fb9f3a"
            ],
            [
             0.8888888888888888,
             "#fdca26"
            ],
            [
             1,
             "#f0f921"
            ]
           ],
           "sequentialminus": [
            [
             0,
             "#0d0887"
            ],
            [
             0.1111111111111111,
             "#46039f"
            ],
            [
             0.2222222222222222,
             "#7201a8"
            ],
            [
             0.3333333333333333,
             "#9c179e"
            ],
            [
             0.4444444444444444,
             "#bd3786"
            ],
            [
             0.5555555555555556,
             "#d8576b"
            ],
            [
             0.6666666666666666,
             "#ed7953"
            ],
            [
             0.7777777777777778,
             "#fb9f3a"
            ],
            [
             0.8888888888888888,
             "#fdca26"
            ],
            [
             1,
             "#f0f921"
            ]
           ]
          },
          "colorway": [
           "#636efa",
           "#EF553B",
           "#00cc96",
           "#ab63fa",
           "#FFA15A",
           "#19d3f3",
           "#FF6692",
           "#B6E880",
           "#FF97FF",
           "#FECB52"
          ],
          "font": {
           "color": "#2a3f5f"
          },
          "geo": {
           "bgcolor": "white",
           "lakecolor": "white",
           "landcolor": "#E5ECF6",
           "showlakes": true,
           "showland": true,
           "subunitcolor": "white"
          },
          "hoverlabel": {
           "align": "left"
          },
          "hovermode": "closest",
          "mapbox": {
           "style": "light"
          },
          "paper_bgcolor": "white",
          "plot_bgcolor": "#E5ECF6",
          "polar": {
           "angularaxis": {
            "gridcolor": "white",
            "linecolor": "white",
            "ticks": ""
           },
           "bgcolor": "#E5ECF6",
           "radialaxis": {
            "gridcolor": "white",
            "linecolor": "white",
            "ticks": ""
           }
          },
          "scene": {
           "xaxis": {
            "backgroundcolor": "#E5ECF6",
            "gridcolor": "white",
            "gridwidth": 2,
            "linecolor": "white",
            "showbackground": true,
            "ticks": "",
            "zerolinecolor": "white"
           },
           "yaxis": {
            "backgroundcolor": "#E5ECF6",
            "gridcolor": "white",
            "gridwidth": 2,
            "linecolor": "white",
            "showbackground": true,
            "ticks": "",
            "zerolinecolor": "white"
           },
           "zaxis": {
            "backgroundcolor": "#E5ECF6",
            "gridcolor": "white",
            "gridwidth": 2,
            "linecolor": "white",
            "showbackground": true,
            "ticks": "",
            "zerolinecolor": "white"
           }
          },
          "shapedefaults": {
           "line": {
            "color": "#2a3f5f"
           }
          },
          "ternary": {
           "aaxis": {
            "gridcolor": "white",
            "linecolor": "white",
            "ticks": ""
           },
           "baxis": {
            "gridcolor": "white",
            "linecolor": "white",
            "ticks": ""
           },
           "bgcolor": "#E5ECF6",
           "caxis": {
            "gridcolor": "white",
            "linecolor": "white",
            "ticks": ""
           }
          },
          "title": {
           "x": 0.05
          },
          "xaxis": {
           "automargin": true,
           "gridcolor": "white",
           "linecolor": "white",
           "ticks": "",
           "title": {
            "standoff": 15
           },
           "zerolinecolor": "white",
           "zerolinewidth": 2
          },
          "yaxis": {
           "automargin": true,
           "gridcolor": "white",
           "linecolor": "white",
           "ticks": "",
           "title": {
            "standoff": 15
           },
           "zerolinecolor": "white",
           "zerolinewidth": 2
          }
         }
        },
        "title": {
         "text": "Viewer VS. Channel"
        },
        "xaxis": {
         "title": {
          "text": "Channels Number"
         }
        },
        "yaxis": {
         "title": {
          "text": "Viewers"
         }
        }
       }
      },
      "text/html": [
       "<div>                            <div id=\"72b7a6be-2478-4a7a-8e6d-290bd5d4eed9\" class=\"plotly-graph-div\" style=\"height:525px; width:100%;\"></div>            <script type=\"text/javascript\">                require([\"plotly\"], function(Plotly) {                    window.PLOTLYENV=window.PLOTLYENV || {};                                    if (document.getElementById(\"72b7a6be-2478-4a7a-8e6d-290bd5d4eed9\")) {                    Plotly.newPlot(                        \"72b7a6be-2478-4a7a-8e6d-290bd5d4eed9\",                        [{\"mode\": \"markers\", \"name\": \"Viewer VS. Channel\", \"type\": \"scatter\", \"x\": [322642, 102908, 78299, 131692, 51471, 143044, 125441, 54047, 57410, 49307, 82736, 27211, 16370, 30672, 21, 86979, 62090, 17105, 15139, 1545, 31024, 23016, 22515, 15253, 76793, 4828, 16555, 33348, 15754, 17161, 20266, 8441, 13048, 13929, 597, 11373, 8167, 11380, 2390, 5979, 5383, 5202, 16708, 891, 10493, 5039, 4669, 5236, 4086, 3929, 12168, 4186, 6070, 1258, 4122, 7585, 1021, 4735, 5459, 4464, 3738, 300, 803, 1853, 425, 9722, 4045, 4667, 8460, 941, 3243, 4434, 2093, 1253, 1723, 1657, 1211, 1831, 4033, 7641, 2473, 7345, 15489, 51, 3120, 1514, 1361, 1375, 2580, 3220, 1849, 2946, 2866, 301, 949, 1710, 2045, 2395], \"y\": [4094, 3392, 2083, 3699, 3692, 4448, 10279, 2406, 3901, 2703, 1467, 1350, 902, 1014, 4, 1854, 868, 1197, 5438, 190, 1557, 937, 302, 1386, 1383, 294, 982, 276, 1204, 359, 122, 134, 752, 315, 44, 740, 121, 761, 107, 179, 423, 186, 88, 58, 30, 278, 104, 207, 126, 223, 175, 24, 271, 164, 189, 115, 3, 157, 128, 276, 153, 31, 29, 35, 131, 192, 182, 62, 39, 116, 281, 47, 32, 34, 88, 361, 35, 92, 185, 87, 353, 281, 901, 2, 291, 39, 167, 26, 15, 232, 359, 81, 132, 5, 28, 147, 28, 89]}, {\"name\": \"Line\", \"type\": \"scatter\", \"x\": [21.0, 3279.7979797979797, 6538.595959595959, 9797.39393939394, 13056.191919191919, 16314.989898989897, 19573.78787878788, 22832.58585858586, 26091.383838383837, 29350.181818181816, 32608.979797979795, 35867.777777777774, 39126.57575757576, 42385.37373737374, 45644.17171717172, 48902.969696969696, 52161.767676767675, 55420.56565656565, 58679.36363636363, 61938.16161616161, 65196.95959595959, 68455.75757575757, 71714.55555555555, 74973.35353535353, 78232.15151515152, 81490.9494949495, 84749.74747474748, 88008.54545454546, 91267.34343434343, 94526.14141414141, 97784.93939393939, 101043.73737373737, 104302.53535353535, 107561.33333333333, 110820.1313131313, 114078.92929292929, 117337.72727272726, 120596.52525252524, 123855.32323232322, 127114.1212121212, 130372.91919191918, 133631.71717171717, 136890.51515151514, 140149.31313131313, 143408.1111111111, 146666.9090909091, 149925.70707070705, 153184.50505050505, 156443.30303030304, 159702.101010101, 162960.898989899, 166219.69696969696, 169478.49494949495, 172737.29292929292, 175996.0909090909, 179254.88888888888, 182513.68686868687, 185772.48484848483, 189031.28282828283, 192290.0808080808, 195548.87878787878, 198807.67676767675, 202066.47474747474, 205325.2727272727, 208584.0707070707, 211842.8686868687, 215101.66666666666, 218360.46464646465, 221619.2626262626, 224878.0606060606, 228136.85858585857, 231395.65656565657, 234654.45454545453, 237913.25252525252, 241172.0505050505, 244430.84848484848, 247689.64646464644, 250948.44444444444, 254207.2424242424, 257466.0404040404, 260724.83838383836, 263983.63636363635, 267242.43434343435, 270501.23232323234, 273760.0303030303, 277018.82828282827, 280277.62626262626, 283536.42424242425, 286795.2222222222, 290054.0202020202, 293312.8181818182, 296571.61616161617, 299830.4141414141, 303089.2121212121, 306348.0101010101, 309606.8080808081, 312865.6060606061, 316124.404040404, 319383.202020202, 322642.0], \"y\": [276.03225506339527, 353.6476506722484, 431.26304628110154, 508.8784418899546, 586.4938374988078, 664.1092331076609, 741.724628716514, 819.3400243253672, 896.9554199342202, 974.5708155430733, 1052.1862111519263, 1129.8016067607796, 1207.4170023696329, 1285.0323979784857, 1362.6477935873388, 1440.2631891961921, 1517.8785848050452, 1595.4939804138983, 1673.1093760227513, 1750.7247716316044, 1828.3401672404575, 1905.9555628493106, 1983.5709584581637, 2061.1863540670165, 2138.8017496758703, 2216.417145284723, 2294.0325408935764, 2371.6479365024293, 2449.2633321112826, 2526.8787277201354, 2604.4941233289887, 2682.109518937842, 2759.724914546695, 2837.340310155548, 2914.955705764401, 2992.5711013732544, 3070.186496982107, 3147.8018925909605, 3225.4172881998134, 3303.0326838086667, 3380.6480794175195, 3458.2634750263733, 3535.8788706352257, 3613.4942662440794, 3691.109661852932, 3768.7250574617856, 3846.340453070638, 3923.9558486794917, 4001.571244288345, 4079.186639897198, 4156.802035506051, 4234.417431114904, 4312.032826723757, 4389.648222332609, 4467.263617941464, 4544.879013550317, 4622.49440915917, 4700.1098047680225, 4777.725200376875, 4855.340595985728, 4932.955991594583, 5010.571387203436, 5088.186782812289, 5165.802178421141, 5243.417574029994, 5321.032969638847, 5398.6483652477, 5476.263760856555, 5553.8791564654075, 5631.49455207426, 5709.109947683113, 5786.725343291966, 5864.340738900819, 5941.956134509674, 6019.571530118525, 6097.186925727379, 6174.802321336232, 6252.417716945085, 6330.033112553938, 6407.648508162791, 6485.2639037716435, 6562.879299380498, 6640.494694989351, 6718.110090598204, 6795.725486207057, 6873.34088181591, 6950.956277424762, 7028.571673033617, 7106.187068642468, 7183.802464251323, 7261.417859860176, 7339.0332554690285, 7416.648651077881, 7494.264046686734, 7571.879442295587, 7649.494837904442, 7727.110233513295, 7804.725629122147, 7882.341024731, 7959.956420339853]}],                        {\"template\": {\"data\": {\"bar\": [{\"error_x\": {\"color\": \"#2a3f5f\"}, \"error_y\": {\"color\": \"#2a3f5f\"}, \"marker\": {\"line\": {\"color\": \"#E5ECF6\", \"width\": 0.5}}, \"type\": \"bar\"}], \"barpolar\": [{\"marker\": {\"line\": {\"color\": \"#E5ECF6\", \"width\": 0.5}}, \"type\": \"barpolar\"}], \"carpet\": [{\"aaxis\": {\"endlinecolor\": \"#2a3f5f\", \"gridcolor\": \"white\", \"linecolor\": \"white\", \"minorgridcolor\": \"white\", \"startlinecolor\": \"#2a3f5f\"}, \"baxis\": {\"endlinecolor\": \"#2a3f5f\", \"gridcolor\": \"white\", \"linecolor\": \"white\", \"minorgridcolor\": \"white\", \"startlinecolor\": \"#2a3f5f\"}, \"type\": \"carpet\"}], \"choropleth\": [{\"colorbar\": {\"outlinewidth\": 0, \"ticks\": \"\"}, \"type\": \"choropleth\"}], \"contour\": [{\"colorbar\": {\"outlinewidth\": 0, \"ticks\": \"\"}, \"colorscale\": [[0.0, \"#0d0887\"], [0.1111111111111111, \"#46039f\"], [0.2222222222222222, \"#7201a8\"], [0.3333333333333333, \"#9c179e\"], [0.4444444444444444, \"#bd3786\"], [0.5555555555555556, \"#d8576b\"], [0.6666666666666666, \"#ed7953\"], [0.7777777777777778, \"#fb9f3a\"], [0.8888888888888888, \"#fdca26\"], [1.0, \"#f0f921\"]], \"type\": \"contour\"}], \"contourcarpet\": [{\"colorbar\": {\"outlinewidth\": 0, \"ticks\": \"\"}, \"type\": \"contourcarpet\"}], \"heatmap\": [{\"colorbar\": {\"outlinewidth\": 0, \"ticks\": \"\"}, \"colorscale\": [[0.0, \"#0d0887\"], [0.1111111111111111, \"#46039f\"], [0.2222222222222222, \"#7201a8\"], [0.3333333333333333, \"#9c179e\"], [0.4444444444444444, \"#bd3786\"], [0.5555555555555556, \"#d8576b\"], [0.6666666666666666, \"#ed7953\"], [0.7777777777777778, \"#fb9f3a\"], [0.8888888888888888, \"#fdca26\"], [1.0, \"#f0f921\"]], \"type\": \"heatmap\"}], \"heatmapgl\": [{\"colorbar\": {\"outlinewidth\": 0, \"ticks\": \"\"}, \"colorscale\": [[0.0, \"#0d0887\"], [0.1111111111111111, \"#46039f\"], [0.2222222222222222, \"#7201a8\"], [0.3333333333333333, \"#9c179e\"], [0.4444444444444444, \"#bd3786\"], [0.5555555555555556, \"#d8576b\"], [0.6666666666666666, \"#ed7953\"], [0.7777777777777778, \"#fb9f3a\"], [0.8888888888888888, \"#fdca26\"], [1.0, \"#f0f921\"]], \"type\": \"heatmapgl\"}], \"histogram\": [{\"marker\": {\"colorbar\": {\"outlinewidth\": 0, \"ticks\": \"\"}}, \"type\": \"histogram\"}], \"histogram2d\": [{\"colorbar\": {\"outlinewidth\": 0, \"ticks\": \"\"}, \"colorscale\": [[0.0, \"#0d0887\"], [0.1111111111111111, \"#46039f\"], [0.2222222222222222, \"#7201a8\"], [0.3333333333333333, \"#9c179e\"], [0.4444444444444444, \"#bd3786\"], [0.5555555555555556, \"#d8576b\"], [0.6666666666666666, \"#ed7953\"], [0.7777777777777778, \"#fb9f3a\"], [0.8888888888888888, \"#fdca26\"], [1.0, \"#f0f921\"]], \"type\": \"histogram2d\"}], \"histogram2dcontour\": [{\"colorbar\": {\"outlinewidth\": 0, \"ticks\": \"\"}, \"colorscale\": [[0.0, \"#0d0887\"], [0.1111111111111111, \"#46039f\"], [0.2222222222222222, \"#7201a8\"], [0.3333333333333333, \"#9c179e\"], [0.4444444444444444, \"#bd3786\"], [0.5555555555555556, \"#d8576b\"], [0.6666666666666666, \"#ed7953\"], [0.7777777777777778, \"#fb9f3a\"], [0.8888888888888888, \"#fdca26\"], [1.0, \"#f0f921\"]], \"type\": \"histogram2dcontour\"}], \"mesh3d\": [{\"colorbar\": {\"outlinewidth\": 0, \"ticks\": \"\"}, \"type\": \"mesh3d\"}], \"parcoords\": [{\"line\": {\"colorbar\": {\"outlinewidth\": 0, \"ticks\": \"\"}}, \"type\": \"parcoords\"}], \"pie\": [{\"automargin\": true, \"type\": \"pie\"}], \"scatter\": [{\"marker\": {\"colorbar\": {\"outlinewidth\": 0, \"ticks\": \"\"}}, \"type\": \"scatter\"}], \"scatter3d\": [{\"line\": {\"colorbar\": {\"outlinewidth\": 0, \"ticks\": \"\"}}, \"marker\": {\"colorbar\": {\"outlinewidth\": 0, \"ticks\": \"\"}}, \"type\": \"scatter3d\"}], \"scattercarpet\": [{\"marker\": {\"colorbar\": {\"outlinewidth\": 0, \"ticks\": \"\"}}, \"type\": \"scattercarpet\"}], \"scattergeo\": [{\"marker\": {\"colorbar\": {\"outlinewidth\": 0, \"ticks\": \"\"}}, \"type\": \"scattergeo\"}], \"scattergl\": [{\"marker\": {\"colorbar\": {\"outlinewidth\": 0, \"ticks\": \"\"}}, \"type\": \"scattergl\"}], \"scattermapbox\": [{\"marker\": {\"colorbar\": {\"outlinewidth\": 0, \"ticks\": \"\"}}, \"type\": \"scattermapbox\"}], \"scatterpolar\": [{\"marker\": {\"colorbar\": {\"outlinewidth\": 0, \"ticks\": \"\"}}, \"type\": \"scatterpolar\"}], \"scatterpolargl\": [{\"marker\": {\"colorbar\": {\"outlinewidth\": 0, \"ticks\": \"\"}}, \"type\": \"scatterpolargl\"}], \"scatterternary\": [{\"marker\": {\"colorbar\": {\"outlinewidth\": 0, \"ticks\": \"\"}}, \"type\": \"scatterternary\"}], \"surface\": [{\"colorbar\": {\"outlinewidth\": 0, \"ticks\": \"\"}, \"colorscale\": [[0.0, \"#0d0887\"], [0.1111111111111111, \"#46039f\"], [0.2222222222222222, \"#7201a8\"], [0.3333333333333333, \"#9c179e\"], [0.4444444444444444, \"#bd3786\"], [0.5555555555555556, \"#d8576b\"], [0.6666666666666666, \"#ed7953\"], [0.7777777777777778, \"#fb9f3a\"], [0.8888888888888888, \"#fdca26\"], [1.0, \"#f0f921\"]], \"type\": \"surface\"}], \"table\": [{\"cells\": {\"fill\": {\"color\": \"#EBF0F8\"}, \"line\": {\"color\": \"white\"}}, \"header\": {\"fill\": {\"color\": \"#C8D4E3\"}, \"line\": {\"color\": \"white\"}}, \"type\": \"table\"}]}, \"layout\": {\"annotationdefaults\": {\"arrowcolor\": \"#2a3f5f\", \"arrowhead\": 0, \"arrowwidth\": 1}, \"coloraxis\": {\"colorbar\": {\"outlinewidth\": 0, \"ticks\": \"\"}}, \"colorscale\": {\"diverging\": [[0, \"#8e0152\"], [0.1, \"#c51b7d\"], [0.2, \"#de77ae\"], [0.3, \"#f1b6da\"], [0.4, \"#fde0ef\"], [0.5, \"#f7f7f7\"], [0.6, \"#e6f5d0\"], [0.7, \"#b8e186\"], [0.8, \"#7fbc41\"], [0.9, \"#4d9221\"], [1, \"#276419\"]], \"sequential\": [[0.0, \"#0d0887\"], [0.1111111111111111, \"#46039f\"], [0.2222222222222222, \"#7201a8\"], [0.3333333333333333, \"#9c179e\"], [0.4444444444444444, \"#bd3786\"], [0.5555555555555556, \"#d8576b\"], [0.6666666666666666, \"#ed7953\"], [0.7777777777777778, \"#fb9f3a\"], [0.8888888888888888, \"#fdca26\"], [1.0, \"#f0f921\"]], \"sequentialminus\": [[0.0, \"#0d0887\"], [0.1111111111111111, \"#46039f\"], [0.2222222222222222, \"#7201a8\"], [0.3333333333333333, \"#9c179e\"], [0.4444444444444444, \"#bd3786\"], [0.5555555555555556, \"#d8576b\"], [0.6666666666666666, \"#ed7953\"], [0.7777777777777778, \"#fb9f3a\"], [0.8888888888888888, \"#fdca26\"], [1.0, \"#f0f921\"]]}, \"colorway\": [\"#636efa\", \"#EF553B\", \"#00cc96\", \"#ab63fa\", \"#FFA15A\", \"#19d3f3\", \"#FF6692\", \"#B6E880\", \"#FF97FF\", \"#FECB52\"], \"font\": {\"color\": \"#2a3f5f\"}, \"geo\": {\"bgcolor\": \"white\", \"lakecolor\": \"white\", \"landcolor\": \"#E5ECF6\", \"showlakes\": true, \"showland\": true, \"subunitcolor\": \"white\"}, \"hoverlabel\": {\"align\": \"left\"}, \"hovermode\": \"closest\", \"mapbox\": {\"style\": \"light\"}, \"paper_bgcolor\": \"white\", \"plot_bgcolor\": \"#E5ECF6\", \"polar\": {\"angularaxis\": {\"gridcolor\": \"white\", \"linecolor\": \"white\", \"ticks\": \"\"}, \"bgcolor\": \"#E5ECF6\", \"radialaxis\": {\"gridcolor\": \"white\", \"linecolor\": \"white\", \"ticks\": \"\"}}, \"scene\": {\"xaxis\": {\"backgroundcolor\": \"#E5ECF6\", \"gridcolor\": \"white\", \"gridwidth\": 2, \"linecolor\": \"white\", \"showbackground\": true, \"ticks\": \"\", \"zerolinecolor\": \"white\"}, \"yaxis\": {\"backgroundcolor\": \"#E5ECF6\", \"gridcolor\": \"white\", \"gridwidth\": 2, \"linecolor\": \"white\", \"showbackground\": true, \"ticks\": \"\", \"zerolinecolor\": \"white\"}, \"zaxis\": {\"backgroundcolor\": \"#E5ECF6\", \"gridcolor\": \"white\", \"gridwidth\": 2, \"linecolor\": \"white\", \"showbackground\": true, \"ticks\": \"\", \"zerolinecolor\": \"white\"}}, \"shapedefaults\": {\"line\": {\"color\": \"#2a3f5f\"}}, \"ternary\": {\"aaxis\": {\"gridcolor\": \"white\", \"linecolor\": \"white\", \"ticks\": \"\"}, \"baxis\": {\"gridcolor\": \"white\", \"linecolor\": \"white\", \"ticks\": \"\"}, \"bgcolor\": \"#E5ECF6\", \"caxis\": {\"gridcolor\": \"white\", \"linecolor\": \"white\", \"ticks\": \"\"}}, \"title\": {\"x\": 0.05}, \"xaxis\": {\"automargin\": true, \"gridcolor\": \"white\", \"linecolor\": \"white\", \"ticks\": \"\", \"title\": {\"standoff\": 15}, \"zerolinecolor\": \"white\", \"zerolinewidth\": 2}, \"yaxis\": {\"automargin\": true, \"gridcolor\": \"white\", \"linecolor\": \"white\", \"ticks\": \"\", \"title\": {\"standoff\": 15}, \"zerolinecolor\": \"white\", \"zerolinewidth\": 2}}}, \"title\": {\"text\": \"Viewer VS. Channel\"}, \"xaxis\": {\"title\": {\"text\": \"Channels Number\"}}, \"yaxis\": {\"title\": {\"text\": \"Viewers\"}}},                        {\"responsive\": true}                    ).then(function(){\n",
       "                            \n",
       "var gd = document.getElementById('72b7a6be-2478-4a7a-8e6d-290bd5d4eed9');\n",
       "var x = new MutationObserver(function (mutations, observer) {{\n",
       "        var display = window.getComputedStyle(gd).display;\n",
       "        if (!display || display === 'none') {{\n",
       "            console.log([gd, 'removed!']);\n",
       "            Plotly.purge(gd);\n",
       "            observer.disconnect();\n",
       "        }}\n",
       "}});\n",
       "\n",
       "// Listen for the removal of the full notebook cells\n",
       "var notebookContainer = gd.closest('#notebook-container');\n",
       "if (notebookContainer) {{\n",
       "    x.observe(notebookContainer, {childList: true});\n",
       "}}\n",
       "\n",
       "// Listen for the clearing of the current output cell\n",
       "var outputEl = gd.closest('.output');\n",
       "if (outputEl) {{\n",
       "    x.observe(outputEl, {childList: true});\n",
       "}}\n",
       "\n",
       "                        })                };                });            </script>        </div>"
      ]
     },
     "metadata": {},
     "output_type": "display_data"
    }
   ],
   "source": [
    "from sklearn.linear_model import LinearRegression\n",
    "import numpy as np\n",
    "\n",
    "print(df.columns)\n",
    "\n",
    "def draw_viewer_channel():\n",
    "    data = {'channel': [], 'viewer': []}\n",
    "    \n",
    "    for _, row in df.iterrows():\n",
    "        data['channel'].append(row['Avg. viewers, 7 days'])\n",
    "        data['viewer'].append(row['Avg. channels, 7 days'])\n",
    "    model = LinearRegression()\n",
    "    model.fit(np.array(data['channel']).reshape(-1, 1), np.array(data['viewer']))\n",
    "    trace1 = go.Scatter(\n",
    "        x=data['channel'],\n",
    "        y=data['viewer'],\n",
    "        name='Viewer VS. Channel',\n",
    "        mode = 'markers'\n",
    "    )\n",
    "    x_range = np.linspace(min(data['channel']), max(data['channel']), 100)\n",
    "    y_range = model.predict(x_range.reshape(-1, 1))\n",
    "    trace2 = go.Scatter(\n",
    "        x=x_range,\n",
    "        y=y_range,\n",
    "        name='Line',\n",
    "    )\n",
    "    fig=go.Figure(data=[trace1, trace2])\n",
    "    fig.update_layout(\n",
    "        title='Viewer VS. Channel',\n",
    "        xaxis_title='Channels Number',\n",
    "        yaxis_title='Viewers',\n",
    "    )\n",
    "    pyo.iplot(fig)\n",
    "\n",
    "draw_viewer_channel()"
   ]
  },
  {
   "cell_type": "markdown",
   "metadata": {},
   "source": [
    "## Part II Visualization\n",
    "* In this part, we will try to analyze the top game and rank the types of languages for each games.\n",
    "* We will take deep look of some popular games and visualize these feature on a map\n",
    "* `echarts-countries-pypkg` tool will be introduced to draw the map"
   ]
  },
  {
   "cell_type": "code",
   "execution_count": 31,
   "metadata": {},
   "outputs": [
    {
     "data": {
      "text/plain": [
       "<matplotlib.axes._subplots.AxesSubplot at 0x7febf1701dc0>"
      ]
     },
     "execution_count": 31,
     "metadata": {},
     "output_type": "execute_result"
    },
    {
     "data": {
      "image/png": "[encoded data removed]",
      "text/plain": [
       "<Figure size 864x576 with 1 Axes>"
      ]
     },
     "metadata": {
      "needs_background": "light"
     },
     "output_type": "display_data"
    }
   ],
   "source": [
    "import plotly_express as px\n",
    "import pandas as pd\n",
    "import numpy as np\n",
    "import pandas as pd\n",
    "import matplotlib.pyplot as plt\n",
    "\n",
    "\n",
    "df=pd.read_csv('/Users/stephen/Desktop/project/eGaming-Analytics/Games_viewer_counts.csv',sep=',',index_col=0)\n",
    "data = df.T\n",
    "fig_dims = (12, 8)\n",
    "\n",
    "data.plot(figsize=fig_dims)\n"
   ]
  },
  {
   "cell_type": "code",
   "execution_count": 33,
   "metadata": {},
   "outputs": [
    {
     "data": {
      "application/vnd.plotly.v1+json": {
       "config": {
        "plotlyServerURL": "https://plot.ly"
       },
       "data": [
        {
         "hovertemplate": "<b>%{hovertext}</b><br><br>name=Assassin's Creed: Valhalla<br>date=2020/11/7<br>unused=%{x}<br>value=%{marker.size}<extra></extra>",
         "hovertext": [
          "Assassin's Creed: Valhalla"
         ],
         "ids": [
          "Assassin's Creed: Valhalla"
         ],
         "legendgroup": "Assassin's Creed: Valhalla",
         "marker": {
          "color": "#636efa",
          "size": [
           56610
          ],
          "sizemode": "area",
          "sizeref": 565.8975,
          "symbol": "circle"
         },
         "mode": "markers",
         "name": "Assassin's Creed: Valhalla",
         "orientation": "v",
         "showlegend": true,
         "type": "scatter",
         "x": [
          0
         ],
         "xaxis": "x",
         "y": [
          56610
         ],
         "yaxis": "y"
        },
        {
         "hovertemplate": "<b>%{hovertext}</b><br><br>name=Call Of Duty: Modern Warfare<br>date=2020/11/7<br>unused=%{x}<br>value=%{marker.size}<extra></extra>",
         "hovertext": [
          "Call Of Duty: Modern Warfare"
         ],
         "ids": [
          "Call Of Duty: Modern Warfare"
         ],
         "legendgroup": "Call Of Duty: Modern Warfare",
         "marker": {
          "color": "#EF553B",
          "size": [
           53626
          ],
          "sizemode": "area",
          "sizeref": 565.8975,
          "symbol": "circle"
         },
         "mode": "markers",
         "name": "Call Of Duty: Modern Warfare",
         "orientation": "v",
         "showlegend": true,
         "type": "scatter",
         "x": [
          0
         ],
         "xaxis": "x",
         "y": [
          53626
         ],
         "yaxis": "y"
        },
        {
         "hovertemplate": "<b>%{hovertext}</b><br><br>name=FIFA 21<br>date=2020/11/7<br>unused=%{x}<br>value=%{marker.size}<extra></extra>",
         "hovertext": [
          "FIFA 21"
         ],
         "ids": [
          "FIFA 21"
         ],
         "legendgroup": "FIFA 21",
         "marker": {
          "color": "#00cc96",
          "size": [
           53878
          ],
          "sizemode": "area",
          "sizeref": 565.8975,
          "symbol": "circle"
         },
         "mode": "markers",
         "name": "FIFA 21",
         "orientation": "v",
         "showlegend": true,
         "type": "scatter",
         "x": [
          0
         ],
         "xaxis": "x",
         "y": [
          53878
         ],
         "yaxis": "y"
        },
        {
         "hovertemplate": "<b>%{hovertext}</b><br><br>name=Fortnite<br>date=2020/11/7<br>unused=%{x}<br>value=%{marker.size}<extra></extra>",
         "hovertext": [
          "Fortnite"
         ],
         "ids": [
          "Fortnite"
         ],
         "legendgroup": "Fortnite",
         "marker": {
          "color": "#ab63fa",
          "size": [
           190264
          ],
          "sizemode": "area",
          "sizeref": 565.8975,
          "symbol": "circle"
         },
         "mode": "markers",
         "name": "Fortnite",
         "orientation": "v",
         "showlegend": true,
         "type": "scatter",
         "x": [
          0
         ],
         "xaxis": "x",
         "y": [
          190264
         ],
         "yaxis": "y"
        },
        {
         "hovertemplate": "<b>%{hovertext}</b><br><br>name=League of Legends<br>date=2020/11/7<br>unused=%{x}<br>value=%{marker.size}<extra></extra>",
         "hovertext": [
          "League of Legends"
         ],
         "ids": [
          "League of Legends"
         ],
         "legendgroup": "League of Legends",
         "marker": {
          "color": "#FFA15A",
          "size": [
           188361
          ],
          "sizemode": "area",
          "sizeref": 565.8975,
          "symbol": "circle"
         },
         "mode": "markers",
         "name": "League of Legends",
         "orientation": "v",
         "showlegend": true,
         "type": "scatter",
         "x": [
          0
         ],
         "xaxis": "x",
         "y": [
          188361
         ],
         "yaxis": "y"
        },
        {
         "hovertemplate": "<b>%{hovertext}</b><br><br>name=Minecraft<br>date=2020/11/7<br>unused=%{x}<br>value=%{marker.size}<extra></extra>",
         "hovertext": [
          "Minecraft"
         ],
         "ids": [
          "Minecraft"
         ],
         "legendgroup": "Minecraft",
         "marker": {
          "color": "#19d3f3",
          "size": [
           81325
          ],
          "sizemode": "area",
          "sizeref": 565.8975,
          "symbol": "circle"
         },
         "mode": "markers",
         "name": "Minecraft",
         "orientation": "v",
         "showlegend": true,
         "type": "scatter",
         "x": [
          0
         ],
         "xaxis": "x",
         "y": [
          81325
         ],
         "yaxis": "y"
        }
       ],
       "frames": [
        {
         "data": [
          {
           "hovertemplate": "<b>%{hovertext}</b><br><br>name=Assassin's Creed: Valhalla<br>date=2020/11/7<br>unused=%{x}<br>value=%{marker.size}<extra></extra>",
           "hovertext": [
            "Assassin's Creed: Valhalla"
           ],
           "ids": [
            "Assassin's Creed: Valhalla"
           ],
           "legendgroup": "Assassin's Creed: Valhalla",
           "marker": {
            "color": "#636efa",
            "size": [
             56610
            ],
            "sizemode": "area",
            "sizeref": 565.8975,
            "symbol": "circle"
           },
           "mode": "markers",
           "name": "Assassin's Creed: Valhalla",
           "orientation": "v",
           "showlegend": true,
           "type": "scatter",
           "x": [
            0
           ],
           "xaxis": "x",
           "y": [
            56610
           ],
           "yaxis": "y"
          },
          {
           "hovertemplate": "<b>%{hovertext}</b><br><br>name=Call Of Duty: Modern Warfare<br>date=2020/11/7<br>unused=%{x}<br>value=%{marker.size}<extra></extra>",
           "hovertext": [
            "Call Of Duty: Modern Warfare"
           ],
           "ids": [
            "Call Of Duty: Modern Warfare"
           ],
           "legendgroup": "Call Of Duty: Modern Warfare",
           "marker": {
            "color": "#EF553B",
            "size": [
             53626
            ],
            "sizemode": "area",
            "sizeref": 565.8975,
            "symbol": "circle"
           },
           "mode": "markers",
           "name": "Call Of Duty: Modern Warfare",
           "orientation": "v",
           "showlegend": true,
           "type": "scatter",
           "x": [
            0
           ],
           "xaxis": "x",
           "y": [
            53626
           ],
           "yaxis": "y"
          },
          {
           "hovertemplate": "<b>%{hovertext}</b><br><br>name=FIFA 21<br>date=2020/11/7<br>unused=%{x}<br>value=%{marker.size}<extra></extra>",
           "hovertext": [
            "FIFA 21"
           ],
           "ids": [
            "FIFA 21"
           ],
           "legendgroup": "FIFA 21",
           "marker": {
            "color": "#00cc96",
            "size": [
             53878
            ],
            "sizemode": "area",
            "sizeref": 565.8975,
            "symbol": "circle"
           },
           "mode": "markers",
           "name": "FIFA 21",
           "orientation": "v",
           "showlegend": true,
           "type": "scatter",
           "x": [
            0
           ],
           "xaxis": "x",
           "y": [
            53878
           ],
           "yaxis": "y"
          },
          {
           "hovertemplate": "<b>%{hovertext}</b><br><br>name=Fortnite<br>date=2020/11/7<br>unused=%{x}<br>value=%{marker.size}<extra></extra>",
           "hovertext": [
            "Fortnite"
           ],
           "ids": [
            "Fortnite"
           ],
           "legendgroup": "Fortnite",
           "marker": {
            "color": "#ab63fa",
            "size": [
             190264
            ],
            "sizemode": "area",
            "sizeref": 565.8975,
            "symbol": "circle"
           },
           "mode": "markers",
           "name": "Fortnite",
           "orientation": "v",
           "showlegend": true,
           "type": "scatter",
           "x": [
            0
           ],
           "xaxis": "x",
           "y": [
            190264
           ],
           "yaxis": "y"
          },
          {
           "hovertemplate": "<b>%{hovertext}</b><br><br>name=League of Legends<br>date=2020/11/7<br>unused=%{x}<br>value=%{marker.size}<extra></extra>",
           "hovertext": [
            "League of Legends"
           ],
           "ids": [
            "League of Legends"
           ],
           "legendgroup": "League of Legends",
           "marker": {
            "color": "#FFA15A",
            "size": [
             188361
            ],
            "sizemode": "area",
            "sizeref": 565.8975,
            "symbol": "circle"
           },
           "mode": "markers",
           "name": "League of Legends",
           "orientation": "v",
           "showlegend": true,
           "type": "scatter",
           "x": [
            0
           ],
           "xaxis": "x",
           "y": [
            188361
           ],
           "yaxis": "y"
          },
          {
           "hovertemplate": "<b>%{hovertext}</b><br><br>name=Minecraft<br>date=2020/11/7<br>unused=%{x}<br>value=%{marker.size}<extra></extra>",
           "hovertext": [
            "Minecraft"
           ],
           "ids": [
            "Minecraft"
           ],
           "legendgroup": "Minecraft",
           "marker": {
            "color": "#19d3f3",
            "size": [
             81325
            ],
            "sizemode": "area",
            "sizeref": 565.8975,
            "symbol": "circle"
           },
           "mode": "markers",
           "name": "Minecraft",
           "orientation": "v",
           "showlegend": true,
           "type": "scatter",
           "x": [
            0
           ],
           "xaxis": "x",
           "y": [
            81325
           ],
           "yaxis": "y"
          }
         ],
         "name": "2020/11/7"
        },
        {
         "data": [
          {
           "hovertemplate": "<b>%{hovertext}</b><br><br>name=Assassin's Creed: Valhalla<br>date=2020/11/8<br>unused=%{x}<br>value=%{marker.size}<extra></extra>",
           "hovertext": [
            "Assassin's Creed: Valhalla"
           ],
           "ids": [
            "Assassin's Creed: Valhalla"
           ],
           "legendgroup": "Assassin's Creed: Valhalla",
           "marker": {
            "color": "#636efa",
            "size": [
             51609
            ],
            "sizemode": "area",
            "sizeref": 565.8975,
            "symbol": "circle"
           },
           "mode": "markers",
           "name": "Assassin's Creed: Valhalla",
           "orientation": "v",
           "showlegend": true,
           "type": "scatter",
           "x": [
            1
           ],
           "xaxis": "x",
           "y": [
            51609
           ],
           "yaxis": "y"
          },
          {
           "hovertemplate": "<b>%{hovertext}</b><br><br>name=Call Of Duty: Modern Warfare<br>date=2020/11/8<br>unused=%{x}<br>value=%{marker.size}<extra></extra>",
           "hovertext": [
            "Call Of Duty: Modern Warfare"
           ],
           "ids": [
            "Call Of Duty: Modern Warfare"
           ],
           "legendgroup": "Call Of Duty: Modern Warfare",
           "marker": {
            "color": "#EF553B",
            "size": [
             34385
            ],
            "sizemode": "area",
            "sizeref": 565.8975,
            "symbol": "circle"
           },
           "mode": "markers",
           "name": "Call Of Duty: Modern Warfare",
           "orientation": "v",
           "showlegend": true,
           "type": "scatter",
           "x": [
            1
           ],
           "xaxis": "x",
           "y": [
            34385
           ],
           "yaxis": "y"
          },
          {
           "hovertemplate": "<b>%{hovertext}</b><br><br>name=FIFA 21<br>date=2020/11/8<br>unused=%{x}<br>value=%{marker.size}<extra></extra>",
           "hovertext": [
            "FIFA 21"
           ],
           "ids": [
            "FIFA 21"
           ],
           "legendgroup": "FIFA 21",
           "marker": {
            "color": "#00cc96",
            "size": [
             19840
            ],
            "sizemode": "area",
            "sizeref": 565.8975,
            "symbol": "circle"
           },
           "mode": "markers",
           "name": "FIFA 21",
           "orientation": "v",
           "showlegend": true,
           "type": "scatter",
           "x": [
            1
           ],
           "xaxis": "x",
           "y": [
            19840
           ],
           "yaxis": "y"
          },
          {
           "hovertemplate": "<b>%{hovertext}</b><br><br>name=Fortnite<br>date=2020/11/8<br>unused=%{x}<br>value=%{marker.size}<extra></extra>",
           "hovertext": [
            "Fortnite"
           ],
           "ids": [
            "Fortnite"
           ],
           "legendgroup": "Fortnite",
           "marker": {
            "color": "#ab63fa",
            "size": [
             48779
            ],
            "sizemode": "area",
            "sizeref": 565.8975,
            "symbol": "circle"
           },
           "mode": "markers",
           "name": "Fortnite",
           "orientation": "v",
           "showlegend": true,
           "type": "scatter",
           "x": [
            1
           ],
           "xaxis": "x",
           "y": [
            48779
           ],
           "yaxis": "y"
          },
          {
           "hovertemplate": "<b>%{hovertext}</b><br><br>name=League of Legends<br>date=2020/11/8<br>unused=%{x}<br>value=%{marker.size}<extra></extra>",
           "hovertext": [
            "League of Legends"
           ],
           "ids": [
            "League of Legends"
           ],
           "legendgroup": "League of Legends",
           "marker": {
            "color": "#FFA15A",
            "size": [
             127278
            ],
            "sizemode": "area",
            "sizeref": 565.8975,
            "symbol": "circle"
           },
           "mode": "markers",
           "name": "League of Legends",
           "orientation": "v",
           "showlegend": true,
           "type": "scatter",
           "x": [
            1
           ],
           "xaxis": "x",
           "y": [
            127278
           ],
           "yaxis": "y"
          },
          {
           "hovertemplate": "<b>%{hovertext}</b><br><br>name=Minecraft<br>date=2020/11/8<br>unused=%{x}<br>value=%{marker.size}<extra></extra>",
           "hovertext": [
            "Minecraft"
           ],
           "ids": [
            "Minecraft"
           ],
           "legendgroup": "Minecraft",
           "marker": {
            "color": "#19d3f3",
            "size": [
             50837
            ],
            "sizemode": "area",
            "sizeref": 565.8975,
            "symbol": "circle"
           },
           "mode": "markers",
           "name": "Minecraft",
           "orientation": "v",
           "showlegend": true,
           "type": "scatter",
           "x": [
            1
           ],
           "xaxis": "x",
           "y": [
            50837
           ],
           "yaxis": "y"
          }
         ],
         "name": "2020/11/8"
        },
        {
         "data": [
          {
           "hovertemplate": "<b>%{hovertext}</b><br><br>name=Assassin's Creed: Valhalla<br>date=2020/11/9<br>unused=%{x}<br>value=%{marker.size}<extra></extra>",
           "hovertext": [
            "Assassin's Creed: Valhalla"
           ],
           "ids": [
            "Assassin's Creed: Valhalla"
           ],
           "legendgroup": "Assassin's Creed: Valhalla",
           "marker": {
            "color": "#636efa",
            "size": [
             15698
            ],
            "sizemode": "area",
            "sizeref": 565.8975,
            "symbol": "circle"
           },
           "mode": "markers",
           "name": "Assassin's Creed: Valhalla",
           "orientation": "v",
           "showlegend": true,
           "type": "scatter",
           "x": [
            2
           ],
           "xaxis": "x",
           "y": [
            15698
           ],
           "yaxis": "y"
          },
          {
           "hovertemplate": "<b>%{hovertext}</b><br><br>name=Call Of Duty: Modern Warfare<br>date=2020/11/9<br>unused=%{x}<br>value=%{marker.size}<extra></extra>",
           "hovertext": [
            "Call Of Duty: Modern Warfare"
           ],
           "ids": [
            "Call Of Duty: Modern Warfare"
           ],
           "legendgroup": "Call Of Duty: Modern Warfare",
           "marker": {
            "color": "#EF553B",
            "size": [
             35118
            ],
            "sizemode": "area",
            "sizeref": 565.8975,
            "symbol": "circle"
           },
           "mode": "markers",
           "name": "Call Of Duty: Modern Warfare",
           "orientation": "v",
           "showlegend": true,
           "type": "scatter",
           "x": [
            2
           ],
           "xaxis": "x",
           "y": [
            35118
           ],
           "yaxis": "y"
          },
          {
           "hovertemplate": "<b>%{hovertext}</b><br><br>name=FIFA 21<br>date=2020/11/9<br>unused=%{x}<br>value=%{marker.size}<extra></extra>",
           "hovertext": [
            "FIFA 21"
           ],
           "ids": [
            "FIFA 21"
           ],
           "legendgroup": "FIFA 21",
           "marker": {
            "color": "#00cc96",
            "size": [
             14850
            ],
            "sizemode": "area",
            "sizeref": 565.8975,
            "symbol": "circle"
           },
           "mode": "markers",
           "name": "FIFA 21",
           "orientation": "v",
           "showlegend": true,
           "type": "scatter",
           "x": [
            2
           ],
           "xaxis": "x",
           "y": [
            14850
           ],
           "yaxis": "y"
          },
          {
           "hovertemplate": "<b>%{hovertext}</b><br><br>name=Fortnite<br>date=2020/11/9<br>unused=%{x}<br>value=%{marker.size}<extra></extra>",
           "hovertext": [
            "Fortnite"
           ],
           "ids": [
            "Fortnite"
           ],
           "legendgroup": "Fortnite",
           "marker": {
            "color": "#ab63fa",
            "size": [
             51848
            ],
            "sizemode": "area",
            "sizeref": 565.8975,
            "symbol": "circle"
           },
           "mode": "markers",
           "name": "Fortnite",
           "orientation": "v",
           "showlegend": true,
           "type": "scatter",
           "x": [
            2
           ],
           "xaxis": "x",
           "y": [
            51848
           ],
           "yaxis": "y"
          },
          {
           "hovertemplate": "<b>%{hovertext}</b><br><br>name=League of Legends<br>date=2020/11/9<br>unused=%{x}<br>value=%{marker.size}<extra></extra>",
           "hovertext": [
            "League of Legends"
           ],
           "ids": [
            "League of Legends"
           ],
           "legendgroup": "League of Legends",
           "marker": {
            "color": "#FFA15A",
            "size": [
             131148
            ],
            "sizemode": "area",
            "sizeref": 565.8975,
            "symbol": "circle"
           },
           "mode": "markers",
           "name": "League of Legends",
           "orientation": "v",
           "showlegend": true,
           "type": "scatter",
           "x": [
            2
           ],
           "xaxis": "x",
           "y": [
            131148
           ],
           "yaxis": "y"
          },
          {
           "hovertemplate": "<b>%{hovertext}</b><br><br>name=Minecraft<br>date=2020/11/9<br>unused=%{x}<br>value=%{marker.size}<extra></extra>",
           "hovertext": [
            "Minecraft"
           ],
           "ids": [
            "Minecraft"
           ],
           "legendgroup": "Minecraft",
           "marker": {
            "color": "#19d3f3",
            "size": [
             52162
            ],
            "sizemode": "area",
            "sizeref": 565.8975,
            "symbol": "circle"
           },
           "mode": "markers",
           "name": "Minecraft",
           "orientation": "v",
           "showlegend": true,
           "type": "scatter",
           "x": [
            2
           ],
           "xaxis": "x",
           "y": [
            52162
           ],
           "yaxis": "y"
          }
         ],
         "name": "2020/11/9"
        },
        {
         "data": [
          {
           "hovertemplate": "<b>%{hovertext}</b><br><br>name=Assassin's Creed: Valhalla<br>date=2020/11/10<br>unused=%{x}<br>value=%{marker.size}<extra></extra>",
           "hovertext": [
            "Assassin's Creed: Valhalla"
           ],
           "ids": [
            "Assassin's Creed: Valhalla"
           ],
           "legendgroup": "Assassin's Creed: Valhalla",
           "marker": {
            "color": "#636efa",
            "size": [
             146249
            ],
            "sizemode": "area",
            "sizeref": 565.8975,
            "symbol": "circle"
           },
           "mode": "markers",
           "name": "Assassin's Creed: Valhalla",
           "orientation": "v",
           "showlegend": true,
           "type": "scatter",
           "x": [
            3
           ],
           "xaxis": "x",
           "y": [
            146249
           ],
           "yaxis": "y"
          },
          {
           "hovertemplate": "<b>%{hovertext}</b><br><br>name=Call Of Duty: Modern Warfare<br>date=2020/11/10<br>unused=%{x}<br>value=%{marker.size}<extra></extra>",
           "hovertext": [
            "Call Of Duty: Modern Warfare"
           ],
           "ids": [
            "Call Of Duty: Modern Warfare"
           ],
           "legendgroup": "Call Of Duty: Modern Warfare",
           "marker": {
            "color": "#EF553B",
            "size": [
             61048
            ],
            "sizemode": "area",
            "sizeref": 565.8975,
            "symbol": "circle"
           },
           "mode": "markers",
           "name": "Call Of Duty: Modern Warfare",
           "orientation": "v",
           "showlegend": true,
           "type": "scatter",
           "x": [
            3
           ],
           "xaxis": "x",
           "y": [
            61048
           ],
           "yaxis": "y"
          },
          {
           "hovertemplate": "<b>%{hovertext}</b><br><br>name=FIFA 21<br>date=2020/11/10<br>unused=%{x}<br>value=%{marker.size}<extra></extra>",
           "hovertext": [
            "FIFA 21"
           ],
           "ids": [
            "FIFA 21"
           ],
           "legendgroup": "FIFA 21",
           "marker": {
            "color": "#00cc96",
            "size": [
             30692
            ],
            "sizemode": "area",
            "sizeref": 565.8975,
            "symbol": "circle"
           },
           "mode": "markers",
           "name": "FIFA 21",
           "orientation": "v",
           "showlegend": true,
           "type": "scatter",
           "x": [
            3
           ],
           "xaxis": "x",
           "y": [
            30692
           ],
           "yaxis": "y"
          },
          {
           "hovertemplate": "<b>%{hovertext}</b><br><br>name=Fortnite<br>date=2020/11/10<br>unused=%{x}<br>value=%{marker.size}<extra></extra>",
           "hovertext": [
            "Fortnite"
           ],
           "ids": [
            "Fortnite"
           ],
           "legendgroup": "Fortnite",
           "marker": {
            "color": "#ab63fa",
            "size": [
             79162
            ],
            "sizemode": "area",
            "sizeref": 565.8975,
            "symbol": "circle"
           },
           "mode": "markers",
           "name": "Fortnite",
           "orientation": "v",
           "showlegend": true,
           "type": "scatter",
           "x": [
            3
           ],
           "xaxis": "x",
           "y": [
            79162
           ],
           "yaxis": "y"
          },
          {
           "hovertemplate": "<b>%{hovertext}</b><br><br>name=League of Legends<br>date=2020/11/10<br>unused=%{x}<br>value=%{marker.size}<extra></extra>",
           "hovertext": [
            "League of Legends"
           ],
           "ids": [
            "League of Legends"
           ],
           "legendgroup": "League of Legends",
           "marker": {
            "color": "#FFA15A",
            "size": [
             212483
            ],
            "sizemode": "area",
            "sizeref": 565.8975,
            "symbol": "circle"
           },
           "mode": "markers",
           "name": "League of Legends",
           "orientation": "v",
           "showlegend": true,
           "type": "scatter",
           "x": [
            3
           ],
           "xaxis": "x",
           "y": [
            212483
           ],
           "yaxis": "y"
          },
          {
           "hovertemplate": "<b>%{hovertext}</b><br><br>name=Minecraft<br>date=2020/11/10<br>unused=%{x}<br>value=%{marker.size}<extra></extra>",
           "hovertext": [
            "Minecraft"
           ],
           "ids": [
            "Minecraft"
           ],
           "legendgroup": "Minecraft",
           "marker": {
            "color": "#19d3f3",
            "size": [
             75590
            ],
            "sizemode": "area",
            "sizeref": 565.8975,
            "symbol": "circle"
           },
           "mode": "markers",
           "name": "Minecraft",
           "orientation": "v",
           "showlegend": true,
           "type": "scatter",
           "x": [
            3
           ],
           "xaxis": "x",
           "y": [
            75590
           ],
           "yaxis": "y"
          }
         ],
         "name": "2020/11/10"
        },
        {
         "data": [
          {
           "hovertemplate": "<b>%{hovertext}</b><br><br>name=Assassin's Creed: Valhalla<br>date=2020/11/11<br>unused=%{x}<br>value=%{marker.size}<extra></extra>",
           "hovertext": [
            "Assassin's Creed: Valhalla"
           ],
           "ids": [
            "Assassin's Creed: Valhalla"
           ],
           "legendgroup": "Assassin's Creed: Valhalla",
           "marker": {
            "color": "#636efa",
            "size": [
             174561
            ],
            "sizemode": "area",
            "sizeref": 565.8975,
            "symbol": "circle"
           },
           "mode": "markers",
           "name": "Assassin's Creed: Valhalla",
           "orientation": "v",
           "showlegend": true,
           "type": "scatter",
           "x": [
            4
           ],
           "xaxis": "x",
           "y": [
            174561
           ],
           "yaxis": "y"
          },
          {
           "hovertemplate": "<b>%{hovertext}</b><br><br>name=Call Of Duty: Modern Warfare<br>date=2020/11/11<br>unused=%{x}<br>value=%{marker.size}<extra></extra>",
           "hovertext": [
            "Call Of Duty: Modern Warfare"
           ],
           "ids": [
            "Call Of Duty: Modern Warfare"
           ],
           "legendgroup": "Call Of Duty: Modern Warfare",
           "marker": {
            "color": "#EF553B",
            "size": [
             107612
            ],
            "sizemode": "area",
            "sizeref": 565.8975,
            "symbol": "circle"
           },
           "mode": "markers",
           "name": "Call Of Duty: Modern Warfare",
           "orientation": "v",
           "showlegend": true,
           "type": "scatter",
           "x": [
            4
           ],
           "xaxis": "x",
           "y": [
            107612
           ],
           "yaxis": "y"
          },
          {
           "hovertemplate": "<b>%{hovertext}</b><br><br>name=FIFA 21<br>date=2020/11/11<br>unused=%{x}<br>value=%{marker.size}<extra></extra>",
           "hovertext": [
            "FIFA 21"
           ],
           "ids": [
            "FIFA 21"
           ],
           "legendgroup": "FIFA 21",
           "marker": {
            "color": "#00cc96",
            "size": [
             41554
            ],
            "sizemode": "area",
            "sizeref": 565.8975,
            "symbol": "circle"
           },
           "mode": "markers",
           "name": "FIFA 21",
           "orientation": "v",
           "showlegend": true,
           "type": "scatter",
           "x": [
            4
           ],
           "xaxis": "x",
           "y": [
            41554
           ],
           "yaxis": "y"
          },
          {
           "hovertemplate": "<b>%{hovertext}</b><br><br>name=Fortnite<br>date=2020/11/11<br>unused=%{x}<br>value=%{marker.size}<extra></extra>",
           "hovertext": [
            "Fortnite"
           ],
           "ids": [
            "Fortnite"
           ],
           "legendgroup": "Fortnite",
           "marker": {
            "color": "#ab63fa",
            "size": [
             88512
            ],
            "sizemode": "area",
            "sizeref": 565.8975,
            "symbol": "circle"
           },
           "mode": "markers",
           "name": "Fortnite",
           "orientation": "v",
           "showlegend": true,
           "type": "scatter",
           "x": [
            4
           ],
           "xaxis": "x",
           "y": [
            88512
           ],
           "yaxis": "y"
          },
          {
           "hovertemplate": "<b>%{hovertext}</b><br><br>name=League of Legends<br>date=2020/11/11<br>unused=%{x}<br>value=%{marker.size}<extra></extra>",
           "hovertext": [
            "League of Legends"
           ],
           "ids": [
            "League of Legends"
           ],
           "legendgroup": "League of Legends",
           "marker": {
            "color": "#FFA15A",
            "size": [
             117172
            ],
            "sizemode": "area",
            "sizeref": 565.8975,
            "symbol": "circle"
           },
           "mode": "markers",
           "name": "League of Legends",
           "orientation": "v",
           "showlegend": true,
           "type": "scatter",
           "x": [
            4
           ],
           "xaxis": "x",
           "y": [
            117172
           ],
           "yaxis": "y"
          },
          {
           "hovertemplate": "<b>%{hovertext}</b><br><br>name=Minecraft<br>date=2020/11/11<br>unused=%{x}<br>value=%{marker.size}<extra></extra>",
           "hovertext": [
            "Minecraft"
           ],
           "ids": [
            "Minecraft"
           ],
           "legendgroup": "Minecraft",
           "marker": {
            "color": "#19d3f3",
            "size": [
             119863
            ],
            "sizemode": "area",
            "sizeref": 565.8975,
            "symbol": "circle"
           },
           "mode": "markers",
           "name": "Minecraft",
           "orientation": "v",
           "showlegend": true,
           "type": "scatter",
           "x": [
            4
           ],
           "xaxis": "x",
           "y": [
            119863
           ],
           "yaxis": "y"
          }
         ],
         "name": "2020/11/11"
        },
        {
         "data": [
          {
           "hovertemplate": "<b>%{hovertext}</b><br><br>name=Assassin's Creed: Valhalla<br>date=2020/11/12<br>unused=%{x}<br>value=%{marker.size}<extra></extra>",
           "hovertext": [
            "Assassin's Creed: Valhalla"
           ],
           "ids": [
            "Assassin's Creed: Valhalla"
           ],
           "legendgroup": "Assassin's Creed: Valhalla",
           "marker": {
            "color": "#636efa",
            "size": [
             44416
            ],
            "sizemode": "area",
            "sizeref": 565.8975,
            "symbol": "circle"
           },
           "mode": "markers",
           "name": "Assassin's Creed: Valhalla",
           "orientation": "v",
           "showlegend": true,
           "type": "scatter",
           "x": [
            5
           ],
           "xaxis": "x",
           "y": [
            44416
           ],
           "yaxis": "y"
          },
          {
           "hovertemplate": "<b>%{hovertext}</b><br><br>name=Call Of Duty: Modern Warfare<br>date=2020/11/12<br>unused=%{x}<br>value=%{marker.size}<extra></extra>",
           "hovertext": [
            "Call Of Duty: Modern Warfare"
           ],
           "ids": [
            "Call Of Duty: Modern Warfare"
           ],
           "legendgroup": "Call Of Duty: Modern Warfare",
           "marker": {
            "color": "#EF553B",
            "size": [
             48111
            ],
            "sizemode": "area",
            "sizeref": 565.8975,
            "symbol": "circle"
           },
           "mode": "markers",
           "name": "Call Of Duty: Modern Warfare",
           "orientation": "v",
           "showlegend": true,
           "type": "scatter",
           "x": [
            5
           ],
           "xaxis": "x",
           "y": [
            48111
           ],
           "yaxis": "y"
          },
          {
           "hovertemplate": "<b>%{hovertext}</b><br><br>name=FIFA 21<br>date=2020/11/12<br>unused=%{x}<br>value=%{marker.size}<extra></extra>",
           "hovertext": [
            "FIFA 21"
           ],
           "ids": [
            "FIFA 21"
           ],
           "legendgroup": "FIFA 21",
           "marker": {
            "color": "#00cc96",
            "size": [
             21143
            ],
            "sizemode": "area",
            "sizeref": 565.8975,
            "symbol": "circle"
           },
           "mode": "markers",
           "name": "FIFA 21",
           "orientation": "v",
           "showlegend": true,
           "type": "scatter",
           "x": [
            5
           ],
           "xaxis": "x",
           "y": [
            21143
           ],
           "yaxis": "y"
          },
          {
           "hovertemplate": "<b>%{hovertext}</b><br><br>name=Fortnite<br>date=2020/11/12<br>unused=%{x}<br>value=%{marker.size}<extra></extra>",
           "hovertext": [
            "Fortnite"
           ],
           "ids": [
            "Fortnite"
           ],
           "legendgroup": "Fortnite",
           "marker": {
            "color": "#ab63fa",
            "size": [
             39911
            ],
            "sizemode": "area",
            "sizeref": 565.8975,
            "symbol": "circle"
           },
           "mode": "markers",
           "name": "Fortnite",
           "orientation": "v",
           "showlegend": true,
           "type": "scatter",
           "x": [
            5
           ],
           "xaxis": "x",
           "y": [
            39911
           ],
           "yaxis": "y"
          },
          {
           "hovertemplate": "<b>%{hovertext}</b><br><br>name=League of Legends<br>date=2020/11/12<br>unused=%{x}<br>value=%{marker.size}<extra></extra>",
           "hovertext": [
            "League of Legends"
           ],
           "ids": [
            "League of Legends"
           ],
           "legendgroup": "League of Legends",
           "marker": {
            "color": "#FFA15A",
            "size": [
             185018
            ],
            "sizemode": "area",
            "sizeref": 565.8975,
            "symbol": "circle"
           },
           "mode": "markers",
           "name": "League of Legends",
           "orientation": "v",
           "showlegend": true,
           "type": "scatter",
           "x": [
            5
           ],
           "xaxis": "x",
           "y": [
            185018
           ],
           "yaxis": "y"
          },
          {
           "hovertemplate": "<b>%{hovertext}</b><br><br>name=Minecraft<br>date=2020/11/12<br>unused=%{x}<br>value=%{marker.size}<extra></extra>",
           "hovertext": [
            "Minecraft"
           ],
           "ids": [
            "Minecraft"
           ],
           "legendgroup": "Minecraft",
           "marker": {
            "color": "#19d3f3",
            "size": [
             44506
            ],
            "sizemode": "area",
            "sizeref": 565.8975,
            "symbol": "circle"
           },
           "mode": "markers",
           "name": "Minecraft",
           "orientation": "v",
           "showlegend": true,
           "type": "scatter",
           "x": [
            5
           ],
           "xaxis": "x",
           "y": [
            44506
           ],
           "yaxis": "y"
          }
         ],
         "name": "2020/11/12"
        },
        {
         "data": [
          {
           "hovertemplate": "<b>%{hovertext}</b><br><br>name=Assassin's Creed: Valhalla<br>date=2020/11/13<br>unused=%{x}<br>value=%{marker.size}<extra></extra>",
           "hovertext": [
            "Assassin's Creed: Valhalla"
           ],
           "ids": [
            "Assassin's Creed: Valhalla"
           ],
           "legendgroup": "Assassin's Creed: Valhalla",
           "marker": {
            "color": "#636efa",
            "size": [
             61704
            ],
            "sizemode": "area",
            "sizeref": 565.8975,
            "symbol": "circle"
           },
           "mode": "markers",
           "name": "Assassin's Creed: Valhalla",
           "orientation": "v",
           "showlegend": true,
           "type": "scatter",
           "x": [
            6
           ],
           "xaxis": "x",
           "y": [
            61704
           ],
           "yaxis": "y"
          },
          {
           "hovertemplate": "<b>%{hovertext}</b><br><br>name=Call Of Duty: Modern Warfare<br>date=2020/11/13<br>unused=%{x}<br>value=%{marker.size}<extra></extra>",
           "hovertext": [
            "Call Of Duty: Modern Warfare"
           ],
           "ids": [
            "Call Of Duty: Modern Warfare"
           ],
           "legendgroup": "Call Of Duty: Modern Warfare",
           "marker": {
            "color": "#EF553B",
            "size": [
             126663
            ],
            "sizemode": "area",
            "sizeref": 565.8975,
            "symbol": "circle"
           },
           "mode": "markers",
           "name": "Call Of Duty: Modern Warfare",
           "orientation": "v",
           "showlegend": true,
           "type": "scatter",
           "x": [
            6
           ],
           "xaxis": "x",
           "y": [
            126663
           ],
           "yaxis": "y"
          },
          {
           "hovertemplate": "<b>%{hovertext}</b><br><br>name=FIFA 21<br>date=2020/11/13<br>unused=%{x}<br>value=%{marker.size}<extra></extra>",
           "hovertext": [
            "FIFA 21"
           ],
           "ids": [
            "FIFA 21"
           ],
           "legendgroup": "FIFA 21",
           "marker": {
            "color": "#00cc96",
            "size": [
             84577
            ],
            "sizemode": "area",
            "sizeref": 565.8975,
            "symbol": "circle"
           },
           "mode": "markers",
           "name": "FIFA 21",
           "orientation": "v",
           "showlegend": true,
           "type": "scatter",
           "x": [
            6
           ],
           "xaxis": "x",
           "y": [
            84577
           ],
           "yaxis": "y"
          },
          {
           "hovertemplate": "<b>%{hovertext}</b><br><br>name=Fortnite<br>date=2020/11/13<br>unused=%{x}<br>value=%{marker.size}<extra></extra>",
           "hovertext": [
            "Fortnite"
           ],
           "ids": [
            "Fortnite"
           ],
           "legendgroup": "Fortnite",
           "marker": {
            "color": "#ab63fa",
            "size": [
             96908
            ],
            "sizemode": "area",
            "sizeref": 565.8975,
            "symbol": "circle"
           },
           "mode": "markers",
           "name": "Fortnite",
           "orientation": "v",
           "showlegend": true,
           "type": "scatter",
           "x": [
            6
           ],
           "xaxis": "x",
           "y": [
            96908
           ],
           "yaxis": "y"
          },
          {
           "hovertemplate": "<b>%{hovertext}</b><br><br>name=League of Legends<br>date=2020/11/13<br>unused=%{x}<br>value=%{marker.size}<extra></extra>",
           "hovertext": [
            "League of Legends"
           ],
           "ids": [
            "League of Legends"
           ],
           "legendgroup": "League of Legends",
           "marker": {
            "color": "#FFA15A",
            "size": [
             226359
            ],
            "sizemode": "area",
            "sizeref": 565.8975,
            "symbol": "circle"
           },
           "mode": "markers",
           "name": "League of Legends",
           "orientation": "v",
           "showlegend": true,
           "type": "scatter",
           "x": [
            6
           ],
           "xaxis": "x",
           "y": [
            226359
           ],
           "yaxis": "y"
          },
          {
           "hovertemplate": "<b>%{hovertext}</b><br><br>name=Minecraft<br>date=2020/11/13<br>unused=%{x}<br>value=%{marker.size}<extra></extra>",
           "hovertext": [
            "Minecraft"
           ],
           "ids": [
            "Minecraft"
           ],
           "legendgroup": "Minecraft",
           "marker": {
            "color": "#19d3f3",
            "size": [
             121064
            ],
            "sizemode": "area",
            "sizeref": 565.8975,
            "symbol": "circle"
           },
           "mode": "markers",
           "name": "Minecraft",
           "orientation": "v",
           "showlegend": true,
           "type": "scatter",
           "x": [
            6
           ],
           "xaxis": "x",
           "y": [
            121064
           ],
           "yaxis": "y"
          }
         ],
         "name": "2020/11/13"
        }
       ],
       "layout": {
        "legend": {
         "itemsizing": "constant",
         "title": {
          "text": "name"
         },
         "tracegroupgap": 0
        },
        "margin": {
         "t": 60
        },
        "sliders": [
         {
          "active": 0,
          "currentvalue": {
           "prefix": "date="
          },
          "len": 0.9,
          "pad": {
           "b": 10,
           "t": 60
          },
          "steps": [
           {
            "args": [
             [
              "2020/11/7"
             ],
             {
              "frame": {
               "duration": 0,
               "redraw": false
              },
              "fromcurrent": true,
              "mode": "immediate",
              "transition": {
               "duration": 0,
               "easing": "linear"
              }
             }
            ],
            "label": "2020/11/7",
            "method": "animate"
           },
           {
            "args": [
             [
              "2020/11/8"
             ],
             {
              "frame": {
               "duration": 0,
               "redraw": false
              },
              "fromcurrent": true,
              "mode": "immediate",
              "transition": {
               "duration": 0,
               "easing": "linear"
              }
             }
            ],
            "label": "2020/11/8",
            "method": "animate"
           },
           {
            "args": [
             [
              "2020/11/9"
             ],
             {
              "frame": {
               "duration": 0,
               "redraw": false
              },
              "fromcurrent": true,
              "mode": "immediate",
              "transition": {
               "duration": 0,
               "easing": "linear"
              }
             }
            ],
            "label": "2020/11/9",
            "method": "animate"
           },
           {
            "args": [
             [
              "2020/11/10"
             ],
             {
              "frame": {
               "duration": 0,
               "redraw": false
              },
              "fromcurrent": true,
              "mode": "immediate",
              "transition": {
               "duration": 0,
               "easing": "linear"
              }
             }
            ],
            "label": "2020/11/10",
            "method": "animate"
           },
           {
            "args": [
             [
              "2020/11/11"
             ],
             {
              "frame": {
               "duration": 0,
               "redraw": false
              },
              "fromcurrent": true,
              "mode": "immediate",
              "transition": {
               "duration": 0,
               "easing": "linear"
              }
             }
            ],
            "label": "2020/11/11",
            "method": "animate"
           },
           {
            "args": [
             [
              "2020/11/12"
             ],
             {
              "frame": {
               "duration": 0,
               "redraw": false
              },
              "fromcurrent": true,
              "mode": "immediate",
              "transition": {
               "duration": 0,
               "easing": "linear"
              }
             }
            ],
            "label": "2020/11/12",
            "method": "animate"
           },
           {
            "args": [
             [
              "2020/11/13"
             ],
             {
              "frame": {
               "duration": 0,
               "redraw": false
              },
              "fromcurrent": true,
              "mode": "immediate",
              "transition": {
               "duration": 0,
               "easing": "linear"
              }
             }
            ],
            "label": "2020/11/13",
            "method": "animate"
           }
          ],
          "x": 0.1,
          "xanchor": "left",
          "y": 0,
          "yanchor": "top"
         }
        ],
        "template": {
         "data": {
          "bar": [
           {
            "error_x": {
             "color": "#2a3f5f"
            },
            "error_y": {
             "color": "#2a3f5f"
            },
            "marker": {
             "line": {
              "color": "#E5ECF6",
              "width": 0.5
             }
            },
            "type": "bar"
           }
          ],
          "barpolar": [
           {
            "marker": {
             "line": {
              "color": "#E5ECF6",
              "width": 0.5
             }
            },
            "type": "barpolar"
           }
          ],
          "carpet": [
           {
            "aaxis": {
             "endlinecolor": "#2a3f5f",
             "gridcolor": "white",
             "linecolor": "white",
             "minorgridcolor": "white",
             "startlinecolor": "#2a3f5f"
            },
            "baxis": {
             "endlinecolor": "#2a3f5f",
             "gridcolor": "white",
             "linecolor": "white",
             "minorgridcolor": "white",
             "startlinecolor": "#2a3f5f"
            },
            "type": "carpet"
           }
          ],
          "choropleth": [
           {
            "colorbar": {
             "outlinewidth": 0,
             "ticks": ""
            },
            "type": "choropleth"
           }
          ],
          "contour": [
           {
            "colorbar": {
             "outlinewidth": 0,
             "ticks": ""
            },
            "colorscale": [
             [
              0,
              "#0d0887"
             ],
             [
              0.1111111111111111,
              "#46039f"
             ],
             [
              0.2222222222222222,
              "#7201a8"
             ],
             [
              0.3333333333333333,
              "#9c179e"
             ],
             [
              0.4444444444444444,
              "#bd3786"
             ],
             [
              0.5555555555555556,
              "#d8576b"
             ],
             [
              0.6666666666666666,
              "#ed7953"
             ],
             [
              0.7777777777777778,
              "#fb9f3a"
             ],
             [
              0.8888888888888888,
              "#fdca26"
             ],
             [
              1,
              "#f0f921"
             ]
            ],
            "type": "contour"
           }
          ],
          "contourcarpet": [
           {
            "colorbar": {
             "outlinewidth": 0,
             "ticks": ""
            },
            "type": "contourcarpet"
           }
          ],
          "heatmap": [
           {
            "colorbar": {
             "outlinewidth": 0,
             "ticks": ""
            },
            "colorscale": [
             [
              0,
              "#0d0887"
             ],
             [
              0.1111111111111111,
              "#46039f"
             ],
             [
              0.2222222222222222,
              "#7201a8"
             ],
             [
              0.3333333333333333,
              "#9c179e"
             ],
             [
              0.4444444444444444,
              "#bd3786"
             ],
             [
              0.5555555555555556,
              "#d8576b"
             ],
             [
              0.6666666666666666,
              "#ed7953"
             ],
             [
              0.7777777777777778,
              "#fb9f3a"
             ],
             [
              0.8888888888888888,
              "#fdca26"
             ],
             [
              1,
              "#f0f921"
             ]
            ],
            "type": "heatmap"
           }
          ],
          "heatmapgl": [
           {
            "colorbar": {
             "outlinewidth": 0,
             "ticks": ""
            },
            "colorscale": [
             [
              0,
              "#0d0887"
             ],
             [
              0.1111111111111111,
              "#46039f"
             ],
             [
              0.2222222222222222,
              "#7201a8"
             ],
             [
              0.3333333333333333,
              "#9c179e"
             ],
             [
              0.4444444444444444,
              "#bd3786"
             ],
             [
              0.5555555555555556,
              "#d8576b"
             ],
             [
              0.6666666666666666,
              "#ed7953"
             ],
             [
              0.7777777777777778,
              "#fb9f3a"
             ],
             [
              0.8888888888888888,
              "#fdca26"
             ],
             [
              1,
              "#f0f921"
             ]
            ],
            "type": "heatmapgl"
           }
          ],
          "histogram": [
           {
            "marker": {
             "colorbar": {
              "outlinewidth": 0,
              "ticks": ""
             }
            },
            "type": "histogram"
           }
          ],
          "histogram2d": [
           {
            "colorbar": {
             "outlinewidth": 0,
             "ticks": ""
            },
            "colorscale": [
             [
              0,
              "#0d0887"
             ],
             [
              0.1111111111111111,
              "#46039f"
             ],
             [
              0.2222222222222222,
              "#7201a8"
             ],
             [
              0.3333333333333333,
              "#9c179e"
             ],
             [
              0.4444444444444444,
              "#bd3786"
             ],
             [
              0.5555555555555556,
              "#d8576b"
             ],
             [
              0.6666666666666666,
              "#ed7953"
             ],
             [
              0.7777777777777778,
              "#fb9f3a"
             ],
             [
              0.8888888888888888,
              "#fdca26"
             ],
             [
              1,
              "#f0f921"
             ]
            ],
            "type": "histogram2d"
           }
          ],
          "histogram2dcontour": [
           {
            "colorbar": {
             "outlinewidth": 0,
             "ticks": ""
            },
            "colorscale": [
             [
              0,
              "#0d0887"
             ],
             [
              0.1111111111111111,
              "#46039f"
             ],
             [
              0.2222222222222222,
              "#7201a8"
             ],
             [
              0.3333333333333333,
              "#9c179e"
             ],
             [
              0.4444444444444444,
              "#bd3786"
             ],
             [
              0.5555555555555556,
              "#d8576b"
             ],
             [
              0.6666666666666666,
              "#ed7953"
             ],
             [
              0.7777777777777778,
              "#fb9f3a"
             ],
             [
              0.8888888888888888,
              "#fdca26"
             ],
             [
              1,
              "#f0f921"
             ]
            ],
            "type": "histogram2dcontour"
           }
          ],
          "mesh3d": [
           {
            "colorbar": {
             "outlinewidth": 0,
             "ticks": ""
            },
            "type": "mesh3d"
           }
          ],
          "parcoords": [
           {
            "line": {
             "colorbar": {
              "outlinewidth": 0,
              "ticks": ""
             }
            },
            "type": "parcoords"
           }
          ],
          "pie": [
           {
            "automargin": true,
            "type": "pie"
           }
          ],
          "scatter": [
           {
            "marker": {
             "colorbar": {
              "outlinewidth": 0,
              "ticks": ""
             }
            },
            "type": "scatter"
           }
          ],
          "scatter3d": [
           {
            "line": {
             "colorbar": {
              "outlinewidth": 0,
              "ticks": ""
             }
            },
            "marker": {
             "colorbar": {
              "outlinewidth": 0,
              "ticks": ""
             }
            },
            "type": "scatter3d"
           }
          ],
          "scattercarpet": [
           {
            "marker": {
             "colorbar": {
              "outlinewidth": 0,
              "ticks": ""
             }
            },
            "type": "scattercarpet"
           }
          ],
          "scattergeo": [
           {
            "marker": {
             "colorbar": {
              "outlinewidth": 0,
              "ticks": ""
             }
            },
            "type": "scattergeo"
           }
          ],
          "scattergl": [
           {
            "marker": {
             "colorbar": {
              "outlinewidth": 0,
              "ticks": ""
             }
            },
            "type": "scattergl"
           }
          ],
          "scattermapbox": [
           {
            "marker": {
             "colorbar": {
              "outlinewidth": 0,
              "ticks": ""
             }
            },
            "type": "scattermapbox"
           }
          ],
          "scatterpolar": [
           {
            "marker": {
             "colorbar": {
              "outlinewidth": 0,
              "ticks": ""
             }
            },
            "type": "scatterpolar"
           }
          ],
          "scatterpolargl": [
           {
            "marker": {
             "colorbar": {
              "outlinewidth": 0,
              "ticks": ""
             }
            },
            "type": "scatterpolargl"
           }
          ],
          "scatterternary": [
           {
            "marker": {
             "colorbar": {
              "outlinewidth": 0,
              "ticks": ""
             }
            },
            "type": "scatterternary"
           }
          ],
          "surface": [
           {
            "colorbar": {
             "outlinewidth": 0,
             "ticks": ""
            },
            "colorscale": [
             [
              0,
              "#0d0887"
             ],
             [
              0.1111111111111111,
              "#46039f"
             ],
             [
              0.2222222222222222,
              "#7201a8"
             ],
             [
              0.3333333333333333,
              "#9c179e"
             ],
             [
              0.4444444444444444,
              "#bd3786"
             ],
             [
              0.5555555555555556,
              "#d8576b"
             ],
             [
              0.6666666666666666,
              "#ed7953"
             ],
             [
              0.7777777777777778,
              "#fb9f3a"
             ],
             [
              0.8888888888888888,
              "#fdca26"
             ],
             [
              1,
              "#f0f921"
             ]
            ],
            "type": "surface"
           }
          ],
          "table": [
           {
            "cells": {
             "fill": {
              "color": "#EBF0F8"
             },
             "line": {
              "color": "white"
             }
            },
            "header": {
             "fill": {
              "color": "#C8D4E3"
             },
             "line": {
              "color": "white"
             }
            },
            "type": "table"
           }
          ]
         },
         "layout": {
          "annotationdefaults": {
           "arrowcolor": "#2a3f5f",
           "arrowhead": 0,
           "arrowwidth": 1
          },
          "coloraxis": {
           "colorbar": {
            "outlinewidth": 0,
            "ticks": ""
           }
          },
          "colorscale": {
           "diverging": [
            [
             0,
             "#8e0152"
            ],
            [
             0.1,
             "#c51b7d"
            ],
            [
             0.2,
             "#de77ae"
            ],
            [
             0.3,
             "#f1b6da"
            ],
            [
             0.4,
             "#fde0ef"
            ],
            [
             0.5,
             "#f7f7f7"
            ],
            [
             0.6,
             "#e6f5d0"
            ],
            [
             0.7,
             "#b8e186"
            ],
            [
             0.8,
             "#7fbc41"
            ],
            [
             0.9,
             "#4d9221"
            ],
            [
             1,
             "#276419"
            ]
           ],
           "sequential": [
            [
             0,
             "#0d0887"
            ],
            [
             0.1111111111111111,
             "#46039f"
            ],
            [
             0.2222222222222222,
             "#7201a8"
            ],
            [
             0.3333333333333333,
             "#9c179e"
            ],
            [
             0.4444444444444444,
             "#bd3786"
            ],
            [
             0.5555555555555556,
             "#d8576b"
            ],
            [
             0.6666666666666666,
             "#ed7953"
            ],
            [
             0.7777777777777778,
             "#fb9f3a"
            ],
            [
             0.8888888888888888,
             "#fdca26"
            ],
            [
             1,
             "#f0f921"
            ]
           ],
           "sequentialminus": [
            [
             0,
             "#0d0887"
            ],
            [
             0.1111111111111111,
             "#46039f"
            ],
            [
             0.2222222222222222,
             "#7201a8"
            ],
            [
             0.3333333333333333,
             "#9c179e"
            ],
            [
             0.4444444444444444,
             "#bd3786"
            ],
            [
             0.5555555555555556,
             "#d8576b"
            ],
            [
             0.6666666666666666,
             "#ed7953"
            ],
            [
             0.7777777777777778,
             "#fb9f3a"
            ],
            [
             0.8888888888888888,
             "#fdca26"
            ],
            [
             1,
             "#f0f921"
            ]
           ]
          },
          "colorway": [
           "#636efa",
           "#EF553B",
           "#00cc96",
           "#ab63fa",
           "#FFA15A",
           "#19d3f3",
           "#FF6692",
           "#B6E880",
           "#FF97FF",
           "#FECB52"
          ],
          "font": {
           "color": "#2a3f5f"
          },
          "geo": {
           "bgcolor": "white",
           "lakecolor": "white",
           "landcolor": "#E5ECF6",
           "showlakes": true,
           "showland": true,
           "subunitcolor": "white"
          },
          "hoverlabel": {
           "align": "left"
          },
          "hovermode": "closest",
          "mapbox": {
           "style": "light"
          },
          "paper_bgcolor": "white",
          "plot_bgcolor": "#E5ECF6",
          "polar": {
           "angularaxis": {
            "gridcolor": "white",
            "linecolor": "white",
            "ticks": ""
           },
           "bgcolor": "#E5ECF6",
           "radialaxis": {
            "gridcolor": "white",
            "linecolor": "white",
            "ticks": ""
           }
          },
          "scene": {
           "xaxis": {
            "backgroundcolor": "#E5ECF6",
            "gridcolor": "white",
            "gridwidth": 2,
            "linecolor": "white",
            "showbackground": true,
            "ticks": "",
            "zerolinecolor": "white"
           },
           "yaxis": {
            "backgroundcolor": "#E5ECF6",
            "gridcolor": "white",
            "gridwidth": 2,
            "linecolor": "white",
            "showbackground": true,
            "ticks": "",
            "zerolinecolor": "white"
           },
           "zaxis": {
            "backgroundcolor": "#E5ECF6",
            "gridcolor": "white",
            "gridwidth": 2,
            "linecolor": "white",
            "showbackground": true,
            "ticks": "",
            "zerolinecolor": "white"
           }
          },
          "shapedefaults": {
           "line": {
            "color": "#2a3f5f"
           }
          },
          "ternary": {
           "aaxis": {
            "gridcolor": "white",
            "linecolor": "white",
            "ticks": ""
           },
           "baxis": {
            "gridcolor": "white",
            "linecolor": "white",
            "ticks": ""
           },
           "bgcolor": "#E5ECF6",
           "caxis": {
            "gridcolor": "white",
            "linecolor": "white",
            "ticks": ""
           }
          },
          "title": {
           "x": 0.05
          },
          "xaxis": {
           "automargin": true,
           "gridcolor": "white",
           "linecolor": "white",
           "ticks": "",
           "title": {
            "standoff": 15
           },
           "zerolinecolor": "white",
           "zerolinewidth": 2
          },
          "yaxis": {
           "automargin": true,
           "gridcolor": "white",
           "linecolor": "white",
           "ticks": "",
           "title": {
            "standoff": 15
           },
           "zerolinecolor": "white",
           "zerolinewidth": 2
          }
         }
        },
        "updatemenus": [
         {
          "buttons": [
           {
            "args": [
             null,
             {
              "frame": {
               "duration": 500,
               "redraw": false
              },
              "fromcurrent": true,
              "mode": "immediate",
              "transition": {
               "duration": 500,
               "easing": "linear"
              }
             }
            ],
            "label": "&#9654;",
            "method": "animate"
           },
           {
            "args": [
             [
              null
             ],
             {
              "frame": {
               "duration": 0,
               "redraw": false
              },
              "fromcurrent": true,
              "mode": "immediate",
              "transition": {
               "duration": 0,
               "easing": "linear"
              }
             }
            ],
            "label": "&#9724;",
            "method": "animate"
           }
          ],
          "direction": "left",
          "pad": {
           "r": 10,
           "t": 70
          },
          "showactive": false,
          "type": "buttons",
          "x": 0.1,
          "xanchor": "right",
          "y": 0,
          "yanchor": "top"
         }
        ],
        "xaxis": {
         "anchor": "y",
         "domain": [
          0,
          1
         ],
         "range": [
          0,
          5
         ],
         "title": {
          "text": "unused"
         }
        },
        "yaxis": {
         "anchor": "x",
         "domain": [
          0,
          1
         ],
         "range": [
          10000,
          200000
         ],
         "title": {
          "text": "value"
         }
        }
       }
      },
      "text/html": [
       "<div>                            <div id=\"6901ba63-256b-4de6-9138-0bd18c2a5e43\" class=\"plotly-graph-div\" style=\"height:525px; width:100%;\"></div>            <script type=\"text/javascript\">                require([\"plotly\"], function(Plotly) {                    window.PLOTLYENV=window.PLOTLYENV || {};                                    if (document.getElementById(\"6901ba63-256b-4de6-9138-0bd18c2a5e43\")) {                    Plotly.newPlot(                        \"6901ba63-256b-4de6-9138-0bd18c2a5e43\",                        [{\"hovertemplate\": \"<b>%{hovertext}</b><br><br>name=Assassin's Creed: Valhalla<br>date=2020/11/7<br>unused=%{x}<br>value=%{marker.size}<extra></extra>\", \"hovertext\": [\"Assassin's Creed: Valhalla\"], \"ids\": [\"Assassin's Creed: Valhalla\"], \"legendgroup\": \"Assassin's Creed: Valhalla\", \"marker\": {\"color\": \"#636efa\", \"size\": [56610], \"sizemode\": \"area\", \"sizeref\": 565.8975, \"symbol\": \"circle\"}, \"mode\": \"markers\", \"name\": \"Assassin's Creed: Valhalla\", \"orientation\": \"v\", \"showlegend\": true, \"type\": \"scatter\", \"x\": [0], \"xaxis\": \"x\", \"y\": [56610], \"yaxis\": \"y\"}, {\"hovertemplate\": \"<b>%{hovertext}</b><br><br>name=Call Of Duty: Modern Warfare<br>date=2020/11/7<br>unused=%{x}<br>value=%{marker.size}<extra></extra>\", \"hovertext\": [\"Call Of Duty: Modern Warfare\"], \"ids\": [\"Call Of Duty: Modern Warfare\"], \"legendgroup\": \"Call Of Duty: Modern Warfare\", \"marker\": {\"color\": \"#EF553B\", \"size\": [53626], \"sizemode\": \"area\", \"sizeref\": 565.8975, \"symbol\": \"circle\"}, \"mode\": \"markers\", \"name\": \"Call Of Duty: Modern Warfare\", \"orientation\": \"v\", \"showlegend\": true, \"type\": \"scatter\", \"x\": [0], \"xaxis\": \"x\", \"y\": [53626], \"yaxis\": \"y\"}, {\"hovertemplate\": \"<b>%{hovertext}</b><br><br>name=FIFA 21<br>date=2020/11/7<br>unused=%{x}<br>value=%{marker.size}<extra></extra>\", \"hovertext\": [\"FIFA 21\"], \"ids\": [\"FIFA 21\"], \"legendgroup\": \"FIFA 21\", \"marker\": {\"color\": \"#00cc96\", \"size\": [53878], \"sizemode\": \"area\", \"sizeref\": 565.8975, \"symbol\": \"circle\"}, \"mode\": \"markers\", \"name\": \"FIFA 21\", \"orientation\": \"v\", \"showlegend\": true, \"type\": \"scatter\", \"x\": [0], \"xaxis\": \"x\", \"y\": [53878], \"yaxis\": \"y\"}, {\"hovertemplate\": \"<b>%{hovertext}</b><br><br>name=Fortnite<br>date=2020/11/7<br>unused=%{x}<br>value=%{marker.size}<extra></extra>\", \"hovertext\": [\"Fortnite\"], \"ids\": [\"Fortnite\"], \"legendgroup\": \"Fortnite\", \"marker\": {\"color\": \"#ab63fa\", \"size\": [190264], \"sizemode\": \"area\", \"sizeref\": 565.8975, \"symbol\": \"circle\"}, \"mode\": \"markers\", \"name\": \"Fortnite\", \"orientation\": \"v\", \"showlegend\": true, \"type\": \"scatter\", \"x\": [0], \"xaxis\": \"x\", \"y\": [190264], \"yaxis\": \"y\"}, {\"hovertemplate\": \"<b>%{hovertext}</b><br><br>name=League of Legends<br>date=2020/11/7<br>unused=%{x}<br>value=%{marker.size}<extra></extra>\", \"hovertext\": [\"League of Legends\"], \"ids\": [\"League of Legends\"], \"legendgroup\": \"League of Legends\", \"marker\": {\"color\": \"#FFA15A\", \"size\": [188361], \"sizemode\": \"area\", \"sizeref\": 565.8975, \"symbol\": \"circle\"}, \"mode\": \"markers\", \"name\": \"League of Legends\", \"orientation\": \"v\", \"showlegend\": true, \"type\": \"scatter\", \"x\": [0], \"xaxis\": \"x\", \"y\": [188361], \"yaxis\": \"y\"}, {\"hovertemplate\": \"<b>%{hovertext}</b><br><br>name=Minecraft<br>date=2020/11/7<br>unused=%{x}<br>value=%{marker.size}<extra></extra>\", \"hovertext\": [\"Minecraft\"], \"ids\": [\"Minecraft\"], \"legendgroup\": \"Minecraft\", \"marker\": {\"color\": \"#19d3f3\", \"size\": [81325], \"sizemode\": \"area\", \"sizeref\": 565.8975, \"symbol\": \"circle\"}, \"mode\": \"markers\", \"name\": \"Minecraft\", \"orientation\": \"v\", \"showlegend\": true, \"type\": \"scatter\", \"x\": [0], \"xaxis\": \"x\", \"y\": [81325], \"yaxis\": \"y\"}],                        {\"legend\": {\"itemsizing\": \"constant\", \"title\": {\"text\": \"name\"}, \"tracegroupgap\": 0}, \"margin\": {\"t\": 60}, \"sliders\": [{\"active\": 0, \"currentvalue\": {\"prefix\": \"date=\"}, \"len\": 0.9, \"pad\": {\"b\": 10, \"t\": 60}, \"steps\": [{\"args\": [[\"2020/11/7\"], {\"frame\": {\"duration\": 0, \"redraw\": false}, \"fromcurrent\": true, \"mode\": \"immediate\", \"transition\": {\"duration\": 0, \"easing\": \"linear\"}}], \"label\": \"2020/11/7\", \"method\": \"animate\"}, {\"args\": [[\"2020/11/8\"], {\"frame\": {\"duration\": 0, \"redraw\": false}, \"fromcurrent\": true, \"mode\": \"immediate\", \"transition\": {\"duration\": 0, \"easing\": \"linear\"}}], \"label\": \"2020/11/8\", \"method\": \"animate\"}, {\"args\": [[\"2020/11/9\"], {\"frame\": {\"duration\": 0, \"redraw\": false}, \"fromcurrent\": true, \"mode\": \"immediate\", \"transition\": {\"duration\": 0, \"easing\": \"linear\"}}], \"label\": \"2020/11/9\", \"method\": \"animate\"}, {\"args\": [[\"2020/11/10\"], {\"frame\": {\"duration\": 0, \"redraw\": false}, \"fromcurrent\": true, \"mode\": \"immediate\", \"transition\": {\"duration\": 0, \"easing\": \"linear\"}}], \"label\": \"2020/11/10\", \"method\": \"animate\"}, {\"args\": [[\"2020/11/11\"], {\"frame\": {\"duration\": 0, \"redraw\": false}, \"fromcurrent\": true, \"mode\": \"immediate\", \"transition\": {\"duration\": 0, \"easing\": \"linear\"}}], \"label\": \"2020/11/11\", \"method\": \"animate\"}, {\"args\": [[\"2020/11/12\"], {\"frame\": {\"duration\": 0, \"redraw\": false}, \"fromcurrent\": true, \"mode\": \"immediate\", \"transition\": {\"duration\": 0, \"easing\": \"linear\"}}], \"label\": \"2020/11/12\", \"method\": \"animate\"}, {\"args\": [[\"2020/11/13\"], {\"frame\": {\"duration\": 0, \"redraw\": false}, \"fromcurrent\": true, \"mode\": \"immediate\", \"transition\": {\"duration\": 0, \"easing\": \"linear\"}}], \"label\": \"2020/11/13\", \"method\": \"animate\"}], \"x\": 0.1, \"xanchor\": \"left\", \"y\": 0, \"yanchor\": \"top\"}], \"template\": {\"data\": {\"bar\": [{\"error_x\": {\"color\": \"#2a3f5f\"}, \"error_y\": {\"color\": \"#2a3f5f\"}, \"marker\": {\"line\": {\"color\": \"#E5ECF6\", \"width\": 0.5}}, \"type\": \"bar\"}], \"barpolar\": [{\"marker\": {\"line\": {\"color\": \"#E5ECF6\", \"width\": 0.5}}, \"type\": \"barpolar\"}], \"carpet\": [{\"aaxis\": {\"endlinecolor\": \"#2a3f5f\", \"gridcolor\": \"white\", \"linecolor\": \"white\", \"minorgridcolor\": \"white\", \"startlinecolor\": \"#2a3f5f\"}, \"baxis\": {\"endlinecolor\": \"#2a3f5f\", \"gridcolor\": \"white\", \"linecolor\": \"white\", \"minorgridcolor\": \"white\", \"startlinecolor\": \"#2a3f5f\"}, \"type\": \"carpet\"}], \"choropleth\": [{\"colorbar\": {\"outlinewidth\": 0, \"ticks\": \"\"}, \"type\": \"choropleth\"}], \"contour\": [{\"colorbar\": {\"outlinewidth\": 0, \"ticks\": \"\"}, \"colorscale\": [[0.0, \"#0d0887\"], [0.1111111111111111, \"#46039f\"], [0.2222222222222222, \"#7201a8\"], [0.3333333333333333, \"#9c179e\"], [0.4444444444444444, \"#bd3786\"], [0.5555555555555556, \"#d8576b\"], [0.6666666666666666, \"#ed7953\"], [0.7777777777777778, \"#fb9f3a\"], [0.8888888888888888, \"#fdca26\"], [1.0, \"#f0f921\"]], \"type\": \"contour\"}], \"contourcarpet\": [{\"colorbar\": {\"outlinewidth\": 0, \"ticks\": \"\"}, \"type\": \"contourcarpet\"}], \"heatmap\": [{\"colorbar\": {\"outlinewidth\": 0, \"ticks\": \"\"}, \"colorscale\": [[0.0, \"#0d0887\"], [0.1111111111111111, \"#46039f\"], [0.2222222222222222, \"#7201a8\"], [0.3333333333333333, \"#9c179e\"], [0.4444444444444444, \"#bd3786\"], [0.5555555555555556, \"#d8576b\"], [0.6666666666666666, \"#ed7953\"], [0.7777777777777778, \"#fb9f3a\"], [0.8888888888888888, \"#fdca26\"], [1.0, \"#f0f921\"]], \"type\": \"heatmap\"}], \"heatmapgl\": [{\"colorbar\": {\"outlinewidth\": 0, \"ticks\": \"\"}, \"colorscale\": [[0.0, \"#0d0887\"], [0.1111111111111111, \"#46039f\"], [0.2222222222222222, \"#7201a8\"], [0.3333333333333333, \"#9c179e\"], [0.4444444444444444, \"#bd3786\"], [0.5555555555555556, \"#d8576b\"], [0.6666666666666666, \"#ed7953\"], [0.7777777777777778, \"#fb9f3a\"], [0.8888888888888888, \"#fdca26\"], [1.0, \"#f0f921\"]], \"type\": \"heatmapgl\"}], \"histogram\": [{\"marker\": {\"colorbar\": {\"outlinewidth\": 0, \"ticks\": \"\"}}, \"type\": \"histogram\"}], \"histogram2d\": [{\"colorbar\": {\"outlinewidth\": 0, \"ticks\": \"\"}, \"colorscale\": [[0.0, \"#0d0887\"], [0.1111111111111111, \"#46039f\"], [0.2222222222222222, \"#7201a8\"], [0.3333333333333333, \"#9c179e\"], [0.4444444444444444, \"#bd3786\"], [0.5555555555555556, \"#d8576b\"], [0.6666666666666666, \"#ed7953\"], [0.7777777777777778, \"#fb9f3a\"], [0.8888888888888888, \"#fdca26\"], [1.0, \"#f0f921\"]], \"type\": \"histogram2d\"}], \"histogram2dcontour\": [{\"colorbar\": {\"outlinewidth\": 0, \"ticks\": \"\"}, \"colorscale\": [[0.0, \"#0d0887\"], [0.1111111111111111, \"#46039f\"], [0.2222222222222222, \"#7201a8\"], [0.3333333333333333, \"#9c179e\"], [0.4444444444444444, \"#bd3786\"], [0.5555555555555556, \"#d8576b\"], [0.6666666666666666, \"#ed7953\"], [0.7777777777777778, \"#fb9f3a\"], [0.8888888888888888, \"#fdca26\"], [1.0, \"#f0f921\"]], \"type\": \"histogram2dcontour\"}], \"mesh3d\": [{\"colorbar\": {\"outlinewidth\": 0, \"ticks\": \"\"}, \"type\": \"mesh3d\"}], \"parcoords\": [{\"line\": {\"colorbar\": {\"outlinewidth\": 0, \"ticks\": \"\"}}, \"type\": \"parcoords\"}], \"pie\": [{\"automargin\": true, \"type\": \"pie\"}], \"scatter\": [{\"marker\": {\"colorbar\": {\"outlinewidth\": 0, \"ticks\": \"\"}}, \"type\": \"scatter\"}], \"scatter3d\": [{\"line\": {\"colorbar\": {\"outlinewidth\": 0, \"ticks\": \"\"}}, \"marker\": {\"colorbar\": {\"outlinewidth\": 0, \"ticks\": \"\"}}, \"type\": \"scatter3d\"}], \"scattercarpet\": [{\"marker\": {\"colorbar\": {\"outlinewidth\": 0, \"ticks\": \"\"}}, \"type\": \"scattercarpet\"}], \"scattergeo\": [{\"marker\": {\"colorbar\": {\"outlinewidth\": 0, \"ticks\": \"\"}}, \"type\": \"scattergeo\"}], \"scattergl\": [{\"marker\": {\"colorbar\": {\"outlinewidth\": 0, \"ticks\": \"\"}}, \"type\": \"scattergl\"}], \"scattermapbox\": [{\"marker\": {\"colorbar\": {\"outlinewidth\": 0, \"ticks\": \"\"}}, \"type\": \"scattermapbox\"}], \"scatterpolar\": [{\"marker\": {\"colorbar\": {\"outlinewidth\": 0, \"ticks\": \"\"}}, \"type\": \"scatterpolar\"}], \"scatterpolargl\": [{\"marker\": {\"colorbar\": {\"outlinewidth\": 0, \"ticks\": \"\"}}, \"type\": \"scatterpolargl\"}], \"scatterternary\": [{\"marker\": {\"colorbar\": {\"outlinewidth\": 0, \"ticks\": \"\"}}, \"type\": \"scatterternary\"}], \"surface\": [{\"colorbar\": {\"outlinewidth\": 0, \"ticks\": \"\"}, \"colorscale\": [[0.0, \"#0d0887\"], [0.1111111111111111, \"#46039f\"], [0.2222222222222222, \"#7201a8\"], [0.3333333333333333, \"#9c179e\"], [0.4444444444444444, \"#bd3786\"], [0.5555555555555556, \"#d8576b\"], [0.6666666666666666, \"#ed7953\"], [0.7777777777777778, \"#fb9f3a\"], [0.8888888888888888, \"#fdca26\"], [1.0, \"#f0f921\"]], \"type\": \"surface\"}], \"table\": [{\"cells\": {\"fill\": {\"color\": \"#EBF0F8\"}, \"line\": {\"color\": \"white\"}}, \"header\": {\"fill\": {\"color\": \"#C8D4E3\"}, \"line\": {\"color\": \"white\"}}, \"type\": \"table\"}]}, \"layout\": {\"annotationdefaults\": {\"arrowcolor\": \"#2a3f5f\", \"arrowhead\": 0, \"arrowwidth\": 1}, \"coloraxis\": {\"colorbar\": {\"outlinewidth\": 0, \"ticks\": \"\"}}, \"colorscale\": {\"diverging\": [[0, \"#8e0152\"], [0.1, \"#c51b7d\"], [0.2, \"#de77ae\"], [0.3, \"#f1b6da\"], [0.4, \"#fde0ef\"], [0.5, \"#f7f7f7\"], [0.6, \"#e6f5d0\"], [0.7, \"#b8e186\"], [0.8, \"#7fbc41\"], [0.9, \"#4d9221\"], [1, \"#276419\"]], \"sequential\": [[0.0, \"#0d0887\"], [0.1111111111111111, \"#46039f\"], [0.2222222222222222, \"#7201a8\"], [0.3333333333333333, \"#9c179e\"], [0.4444444444444444, \"#bd3786\"], [0.5555555555555556, \"#d8576b\"], [0.6666666666666666, \"#ed7953\"], [0.7777777777777778, \"#fb9f3a\"], [0.8888888888888888, \"#fdca26\"], [1.0, \"#f0f921\"]], \"sequentialminus\": [[0.0, \"#0d0887\"], [0.1111111111111111, \"#46039f\"], [0.2222222222222222, \"#7201a8\"], [0.3333333333333333, \"#9c179e\"], [0.4444444444444444, \"#bd3786\"], [0.5555555555555556, \"#d8576b\"], [0.6666666666666666, \"#ed7953\"], [0.7777777777777778, \"#fb9f3a\"], [0.8888888888888888, \"#fdca26\"], [1.0, \"#f0f921\"]]}, \"colorway\": [\"#636efa\", \"#EF553B\", \"#00cc96\", \"#ab63fa\", \"#FFA15A\", \"#19d3f3\", \"#FF6692\", \"#B6E880\", \"#FF97FF\", \"#FECB52\"], \"font\": {\"color\": \"#2a3f5f\"}, \"geo\": {\"bgcolor\": \"white\", \"lakecolor\": \"white\", \"landcolor\": \"#E5ECF6\", \"showlakes\": true, \"showland\": true, \"subunitcolor\": \"white\"}, \"hoverlabel\": {\"align\": \"left\"}, \"hovermode\": \"closest\", \"mapbox\": {\"style\": \"light\"}, \"paper_bgcolor\": \"white\", \"plot_bgcolor\": \"#E5ECF6\", \"polar\": {\"angularaxis\": {\"gridcolor\": \"white\", \"linecolor\": \"white\", \"ticks\": \"\"}, \"bgcolor\": \"#E5ECF6\", \"radialaxis\": {\"gridcolor\": \"white\", \"linecolor\": \"white\", \"ticks\": \"\"}}, \"scene\": {\"xaxis\": {\"backgroundcolor\": \"#E5ECF6\", \"gridcolor\": \"white\", \"gridwidth\": 2, \"linecolor\": \"white\", \"showbackground\": true, \"ticks\": \"\", \"zerolinecolor\": \"white\"}, \"yaxis\": {\"backgroundcolor\": \"#E5ECF6\", \"gridcolor\": \"white\", \"gridwidth\": 2, \"linecolor\": \"white\", \"showbackground\": true, \"ticks\": \"\", \"zerolinecolor\": \"white\"}, \"zaxis\": {\"backgroundcolor\": \"#E5ECF6\", \"gridcolor\": \"white\", \"gridwidth\": 2, \"linecolor\": \"white\", \"showbackground\": true, \"ticks\": \"\", \"zerolinecolor\": \"white\"}}, \"shapedefaults\": {\"line\": {\"color\": \"#2a3f5f\"}}, \"ternary\": {\"aaxis\": {\"gridcolor\": \"white\", \"linecolor\": \"white\", \"ticks\": \"\"}, \"baxis\": {\"gridcolor\": \"white\", \"linecolor\": \"white\", \"ticks\": \"\"}, \"bgcolor\": \"#E5ECF6\", \"caxis\": {\"gridcolor\": \"white\", \"linecolor\": \"white\", \"ticks\": \"\"}}, \"title\": {\"x\": 0.05}, \"xaxis\": {\"automargin\": true, \"gridcolor\": \"white\", \"linecolor\": \"white\", \"ticks\": \"\", \"title\": {\"standoff\": 15}, \"zerolinecolor\": \"white\", \"zerolinewidth\": 2}, \"yaxis\": {\"automargin\": true, \"gridcolor\": \"white\", \"linecolor\": \"white\", \"ticks\": \"\", \"title\": {\"standoff\": 15}, \"zerolinecolor\": \"white\", \"zerolinewidth\": 2}}}, \"updatemenus\": [{\"buttons\": [{\"args\": [null, {\"frame\": {\"duration\": 500, \"redraw\": false}, \"fromcurrent\": true, \"mode\": \"immediate\", \"transition\": {\"duration\": 500, \"easing\": \"linear\"}}], \"label\": \"&#9654;\", \"method\": \"animate\"}, {\"args\": [[null], {\"frame\": {\"duration\": 0, \"redraw\": false}, \"fromcurrent\": true, \"mode\": \"immediate\", \"transition\": {\"duration\": 0, \"easing\": \"linear\"}}], \"label\": \"&#9724;\", \"method\": \"animate\"}], \"direction\": \"left\", \"pad\": {\"r\": 10, \"t\": 70}, \"showactive\": false, \"type\": \"buttons\", \"x\": 0.1, \"xanchor\": \"right\", \"y\": 0, \"yanchor\": \"top\"}], \"xaxis\": {\"anchor\": \"y\", \"domain\": [0.0, 1.0], \"range\": [0, 5], \"title\": {\"text\": \"unused\"}}, \"yaxis\": {\"anchor\": \"x\", \"domain\": [0.0, 1.0], \"range\": [10000, 200000], \"title\": {\"text\": \"value\"}}},                        {\"responsive\": true}                    ).then(function(){\n",
       "                            Plotly.addFrames('6901ba63-256b-4de6-9138-0bd18c2a5e43', [{\"data\": [{\"hovertemplate\": \"<b>%{hovertext}</b><br><br>name=Assassin's Creed: Valhalla<br>date=2020/11/7<br>unused=%{x}<br>value=%{marker.size}<extra></extra>\", \"hovertext\": [\"Assassin's Creed: Valhalla\"], \"ids\": [\"Assassin's Creed: Valhalla\"], \"legendgroup\": \"Assassin's Creed: Valhalla\", \"marker\": {\"color\": \"#636efa\", \"size\": [56610], \"sizemode\": \"area\", \"sizeref\": 565.8975, \"symbol\": \"circle\"}, \"mode\": \"markers\", \"name\": \"Assassin's Creed: Valhalla\", \"orientation\": \"v\", \"showlegend\": true, \"x\": [0], \"xaxis\": \"x\", \"y\": [56610], \"yaxis\": \"y\", \"type\": \"scatter\"}, {\"hovertemplate\": \"<b>%{hovertext}</b><br><br>name=Call Of Duty: Modern Warfare<br>date=2020/11/7<br>unused=%{x}<br>value=%{marker.size}<extra></extra>\", \"hovertext\": [\"Call Of Duty: Modern Warfare\"], \"ids\": [\"Call Of Duty: Modern Warfare\"], \"legendgroup\": \"Call Of Duty: Modern Warfare\", \"marker\": {\"color\": \"#EF553B\", \"size\": [53626], \"sizemode\": \"area\", \"sizeref\": 565.8975, \"symbol\": \"circle\"}, \"mode\": \"markers\", \"name\": \"Call Of Duty: Modern Warfare\", \"orientation\": \"v\", \"showlegend\": true, \"x\": [0], \"xaxis\": \"x\", \"y\": [53626], \"yaxis\": \"y\", \"type\": \"scatter\"}, {\"hovertemplate\": \"<b>%{hovertext}</b><br><br>name=FIFA 21<br>date=2020/11/7<br>unused=%{x}<br>value=%{marker.size}<extra></extra>\", \"hovertext\": [\"FIFA 21\"], \"ids\": [\"FIFA 21\"], \"legendgroup\": \"FIFA 21\", \"marker\": {\"color\": \"#00cc96\", \"size\": [53878], \"sizemode\": \"area\", \"sizeref\": 565.8975, \"symbol\": \"circle\"}, \"mode\": \"markers\", \"name\": \"FIFA 21\", \"orientation\": \"v\", \"showlegend\": true, \"x\": [0], \"xaxis\": \"x\", \"y\": [53878], \"yaxis\": \"y\", \"type\": \"scatter\"}, {\"hovertemplate\": \"<b>%{hovertext}</b><br><br>name=Fortnite<br>date=2020/11/7<br>unused=%{x}<br>value=%{marker.size}<extra></extra>\", \"hovertext\": [\"Fortnite\"], \"ids\": [\"Fortnite\"], \"legendgroup\": \"Fortnite\", \"marker\": {\"color\": \"#ab63fa\", \"size\": [190264], \"sizemode\": \"area\", \"sizeref\": 565.8975, \"symbol\": \"circle\"}, \"mode\": \"markers\", \"name\": \"Fortnite\", \"orientation\": \"v\", \"showlegend\": true, \"x\": [0], \"xaxis\": \"x\", \"y\": [190264], \"yaxis\": \"y\", \"type\": \"scatter\"}, {\"hovertemplate\": \"<b>%{hovertext}</b><br><br>name=League of Legends<br>date=2020/11/7<br>unused=%{x}<br>value=%{marker.size}<extra></extra>\", \"hovertext\": [\"League of Legends\"], \"ids\": [\"League of Legends\"], \"legendgroup\": \"League of Legends\", \"marker\": {\"color\": \"#FFA15A\", \"size\": [188361], \"sizemode\": \"area\", \"sizeref\": 565.8975, \"symbol\": \"circle\"}, \"mode\": \"markers\", \"name\": \"League of Legends\", \"orientation\": \"v\", \"showlegend\": true, \"x\": [0], \"xaxis\": \"x\", \"y\": [188361], \"yaxis\": \"y\", \"type\": \"scatter\"}, {\"hovertemplate\": \"<b>%{hovertext}</b><br><br>name=Minecraft<br>date=2020/11/7<br>unused=%{x}<br>value=%{marker.size}<extra></extra>\", \"hovertext\": [\"Minecraft\"], \"ids\": [\"Minecraft\"], \"legendgroup\": \"Minecraft\", \"marker\": {\"color\": \"#19d3f3\", \"size\": [81325], \"sizemode\": \"area\", \"sizeref\": 565.8975, \"symbol\": \"circle\"}, \"mode\": \"markers\", \"name\": \"Minecraft\", \"orientation\": \"v\", \"showlegend\": true, \"x\": [0], \"xaxis\": \"x\", \"y\": [81325], \"yaxis\": \"y\", \"type\": \"scatter\"}], \"name\": \"2020/11/7\"}, {\"data\": [{\"hovertemplate\": \"<b>%{hovertext}</b><br><br>name=Assassin's Creed: Valhalla<br>date=2020/11/8<br>unused=%{x}<br>value=%{marker.size}<extra></extra>\", \"hovertext\": [\"Assassin's Creed: Valhalla\"], \"ids\": [\"Assassin's Creed: Valhalla\"], \"legendgroup\": \"Assassin's Creed: Valhalla\", \"marker\": {\"color\": \"#636efa\", \"size\": [51609], \"sizemode\": \"area\", \"sizeref\": 565.8975, \"symbol\": \"circle\"}, \"mode\": \"markers\", \"name\": \"Assassin's Creed: Valhalla\", \"orientation\": \"v\", \"showlegend\": true, \"x\": [1], \"xaxis\": \"x\", \"y\": [51609], \"yaxis\": \"y\", \"type\": \"scatter\"}, {\"hovertemplate\": \"<b>%{hovertext}</b><br><br>name=Call Of Duty: Modern Warfare<br>date=2020/11/8<br>unused=%{x}<br>value=%{marker.size}<extra></extra>\", \"hovertext\": [\"Call Of Duty: Modern Warfare\"], \"ids\": [\"Call Of Duty: Modern Warfare\"], \"legendgroup\": \"Call Of Duty: Modern Warfare\", \"marker\": {\"color\": \"#EF553B\", \"size\": [34385], \"sizemode\": \"area\", \"sizeref\": 565.8975, \"symbol\": \"circle\"}, \"mode\": \"markers\", \"name\": \"Call Of Duty: Modern Warfare\", \"orientation\": \"v\", \"showlegend\": true, \"x\": [1], \"xaxis\": \"x\", \"y\": [34385], \"yaxis\": \"y\", \"type\": \"scatter\"}, {\"hovertemplate\": \"<b>%{hovertext}</b><br><br>name=FIFA 21<br>date=2020/11/8<br>unused=%{x}<br>value=%{marker.size}<extra></extra>\", \"hovertext\": [\"FIFA 21\"], \"ids\": [\"FIFA 21\"], \"legendgroup\": \"FIFA 21\", \"marker\": {\"color\": \"#00cc96\", \"size\": [19840], \"sizemode\": \"area\", \"sizeref\": 565.8975, \"symbol\": \"circle\"}, \"mode\": \"markers\", \"name\": \"FIFA 21\", \"orientation\": \"v\", \"showlegend\": true, \"x\": [1], \"xaxis\": \"x\", \"y\": [19840], \"yaxis\": \"y\", \"type\": \"scatter\"}, {\"hovertemplate\": \"<b>%{hovertext}</b><br><br>name=Fortnite<br>date=2020/11/8<br>unused=%{x}<br>value=%{marker.size}<extra></extra>\", \"hovertext\": [\"Fortnite\"], \"ids\": [\"Fortnite\"], \"legendgroup\": \"Fortnite\", \"marker\": {\"color\": \"#ab63fa\", \"size\": [48779], \"sizemode\": \"area\", \"sizeref\": 565.8975, \"symbol\": \"circle\"}, \"mode\": \"markers\", \"name\": \"Fortnite\", \"orientation\": \"v\", \"showlegend\": true, \"x\": [1], \"xaxis\": \"x\", \"y\": [48779], \"yaxis\": \"y\", \"type\": \"scatter\"}, {\"hovertemplate\": \"<b>%{hovertext}</b><br><br>name=League of Legends<br>date=2020/11/8<br>unused=%{x}<br>value=%{marker.size}<extra></extra>\", \"hovertext\": [\"League of Legends\"], \"ids\": [\"League of Legends\"], \"legendgroup\": \"League of Legends\", \"marker\": {\"color\": \"#FFA15A\", \"size\": [127278], \"sizemode\": \"area\", \"sizeref\": 565.8975, \"symbol\": \"circle\"}, \"mode\": \"markers\", \"name\": \"League of Legends\", \"orientation\": \"v\", \"showlegend\": true, \"x\": [1], \"xaxis\": \"x\", \"y\": [127278], \"yaxis\": \"y\", \"type\": \"scatter\"}, {\"hovertemplate\": \"<b>%{hovertext}</b><br><br>name=Minecraft<br>date=2020/11/8<br>unused=%{x}<br>value=%{marker.size}<extra></extra>\", \"hovertext\": [\"Minecraft\"], \"ids\": [\"Minecraft\"], \"legendgroup\": \"Minecraft\", \"marker\": {\"color\": \"#19d3f3\", \"size\": [50837], \"sizemode\": \"area\", \"sizeref\": 565.8975, \"symbol\": \"circle\"}, \"mode\": \"markers\", \"name\": \"Minecraft\", \"orientation\": \"v\", \"showlegend\": true, \"x\": [1], \"xaxis\": \"x\", \"y\": [50837], \"yaxis\": \"y\", \"type\": \"scatter\"}], \"name\": \"2020/11/8\"}, {\"data\": [{\"hovertemplate\": \"<b>%{hovertext}</b><br><br>name=Assassin's Creed: Valhalla<br>date=2020/11/9<br>unused=%{x}<br>value=%{marker.size}<extra></extra>\", \"hovertext\": [\"Assassin's Creed: Valhalla\"], \"ids\": [\"Assassin's Creed: Valhalla\"], \"legendgroup\": \"Assassin's Creed: Valhalla\", \"marker\": {\"color\": \"#636efa\", \"size\": [15698], \"sizemode\": \"area\", \"sizeref\": 565.8975, \"symbol\": \"circle\"}, \"mode\": \"markers\", \"name\": \"Assassin's Creed: Valhalla\", \"orientation\": \"v\", \"showlegend\": true, \"x\": [2], \"xaxis\": \"x\", \"y\": [15698], \"yaxis\": \"y\", \"type\": \"scatter\"}, {\"hovertemplate\": \"<b>%{hovertext}</b><br><br>name=Call Of Duty: Modern Warfare<br>date=2020/11/9<br>unused=%{x}<br>value=%{marker.size}<extra></extra>\", \"hovertext\": [\"Call Of Duty: Modern Warfare\"], \"ids\": [\"Call Of Duty: Modern Warfare\"], \"legendgroup\": \"Call Of Duty: Modern Warfare\", \"marker\": {\"color\": \"#EF553B\", \"size\": [35118], \"sizemode\": \"area\", \"sizeref\": 565.8975, \"symbol\": \"circle\"}, \"mode\": \"markers\", \"name\": \"Call Of Duty: Modern Warfare\", \"orientation\": \"v\", \"showlegend\": true, \"x\": [2], \"xaxis\": \"x\", \"y\": [35118], \"yaxis\": \"y\", \"type\": \"scatter\"}, {\"hovertemplate\": \"<b>%{hovertext}</b><br><br>name=FIFA 21<br>date=2020/11/9<br>unused=%{x}<br>value=%{marker.size}<extra></extra>\", \"hovertext\": [\"FIFA 21\"], \"ids\": [\"FIFA 21\"], \"legendgroup\": \"FIFA 21\", \"marker\": {\"color\": \"#00cc96\", \"size\": [14850], \"sizemode\": \"area\", \"sizeref\": 565.8975, \"symbol\": \"circle\"}, \"mode\": \"markers\", \"name\": \"FIFA 21\", \"orientation\": \"v\", \"showlegend\": true, \"x\": [2], \"xaxis\": \"x\", \"y\": [14850], \"yaxis\": \"y\", \"type\": \"scatter\"}, {\"hovertemplate\": \"<b>%{hovertext}</b><br><br>name=Fortnite<br>date=2020/11/9<br>unused=%{x}<br>value=%{marker.size}<extra></extra>\", \"hovertext\": [\"Fortnite\"], \"ids\": [\"Fortnite\"], \"legendgroup\": \"Fortnite\", \"marker\": {\"color\": \"#ab63fa\", \"size\": [51848], \"sizemode\": \"area\", \"sizeref\": 565.8975, \"symbol\": \"circle\"}, \"mode\": \"markers\", \"name\": \"Fortnite\", \"orientation\": \"v\", \"showlegend\": true, \"x\": [2], \"xaxis\": \"x\", \"y\": [51848], \"yaxis\": \"y\", \"type\": \"scatter\"}, {\"hovertemplate\": \"<b>%{hovertext}</b><br><br>name=League of Legends<br>date=2020/11/9<br>unused=%{x}<br>value=%{marker.size}<extra></extra>\", \"hovertext\": [\"League of Legends\"], \"ids\": [\"League of Legends\"], \"legendgroup\": \"League of Legends\", \"marker\": {\"color\": \"#FFA15A\", \"size\": [131148], \"sizemode\": \"area\", \"sizeref\": 565.8975, \"symbol\": \"circle\"}, \"mode\": \"markers\", \"name\": \"League of Legends\", \"orientation\": \"v\", \"showlegend\": true, \"x\": [2], \"xaxis\": \"x\", \"y\": [131148], \"yaxis\": \"y\", \"type\": \"scatter\"}, {\"hovertemplate\": \"<b>%{hovertext}</b><br><br>name=Minecraft<br>date=2020/11/9<br>unused=%{x}<br>value=%{marker.size}<extra></extra>\", \"hovertext\": [\"Minecraft\"], \"ids\": [\"Minecraft\"], \"legendgroup\": \"Minecraft\", \"marker\": {\"color\": \"#19d3f3\", \"size\": [52162], \"sizemode\": \"area\", \"sizeref\": 565.8975, \"symbol\": \"circle\"}, \"mode\": \"markers\", \"name\": \"Minecraft\", \"orientation\": \"v\", \"showlegend\": true, \"x\": [2], \"xaxis\": \"x\", \"y\": [52162], \"yaxis\": \"y\", \"type\": \"scatter\"}], \"name\": \"2020/11/9\"}, {\"data\": [{\"hovertemplate\": \"<b>%{hovertext}</b><br><br>name=Assassin's Creed: Valhalla<br>date=2020/11/10<br>unused=%{x}<br>value=%{marker.size}<extra></extra>\", \"hovertext\": [\"Assassin's Creed: Valhalla\"], \"ids\": [\"Assassin's Creed: Valhalla\"], \"legendgroup\": \"Assassin's Creed: Valhalla\", \"marker\": {\"color\": \"#636efa\", \"size\": [146249], \"sizemode\": \"area\", \"sizeref\": 565.8975, \"symbol\": \"circle\"}, \"mode\": \"markers\", \"name\": \"Assassin's Creed: Valhalla\", \"orientation\": \"v\", \"showlegend\": true, \"x\": [3], \"xaxis\": \"x\", \"y\": [146249], \"yaxis\": \"y\", \"type\": \"scatter\"}, {\"hovertemplate\": \"<b>%{hovertext}</b><br><br>name=Call Of Duty: Modern Warfare<br>date=2020/11/10<br>unused=%{x}<br>value=%{marker.size}<extra></extra>\", \"hovertext\": [\"Call Of Duty: Modern Warfare\"], \"ids\": [\"Call Of Duty: Modern Warfare\"], \"legendgroup\": \"Call Of Duty: Modern Warfare\", \"marker\": {\"color\": \"#EF553B\", \"size\": [61048], \"sizemode\": \"area\", \"sizeref\": 565.8975, \"symbol\": \"circle\"}, \"mode\": \"markers\", \"name\": \"Call Of Duty: Modern Warfare\", \"orientation\": \"v\", \"showlegend\": true, \"x\": [3], \"xaxis\": \"x\", \"y\": [61048], \"yaxis\": \"y\", \"type\": \"scatter\"}, {\"hovertemplate\": \"<b>%{hovertext}</b><br><br>name=FIFA 21<br>date=2020/11/10<br>unused=%{x}<br>value=%{marker.size}<extra></extra>\", \"hovertext\": [\"FIFA 21\"], \"ids\": [\"FIFA 21\"], \"legendgroup\": \"FIFA 21\", \"marker\": {\"color\": \"#00cc96\", \"size\": [30692], \"sizemode\": \"area\", \"sizeref\": 565.8975, \"symbol\": \"circle\"}, \"mode\": \"markers\", \"name\": \"FIFA 21\", \"orientation\": \"v\", \"showlegend\": true, \"x\": [3], \"xaxis\": \"x\", \"y\": [30692], \"yaxis\": \"y\", \"type\": \"scatter\"}, {\"hovertemplate\": \"<b>%{hovertext}</b><br><br>name=Fortnite<br>date=2020/11/10<br>unused=%{x}<br>value=%{marker.size}<extra></extra>\", \"hovertext\": [\"Fortnite\"], \"ids\": [\"Fortnite\"], \"legendgroup\": \"Fortnite\", \"marker\": {\"color\": \"#ab63fa\", \"size\": [79162], \"sizemode\": \"area\", \"sizeref\": 565.8975, \"symbol\": \"circle\"}, \"mode\": \"markers\", \"name\": \"Fortnite\", \"orientation\": \"v\", \"showlegend\": true, \"x\": [3], \"xaxis\": \"x\", \"y\": [79162], \"yaxis\": \"y\", \"type\": \"scatter\"}, {\"hovertemplate\": \"<b>%{hovertext}</b><br><br>name=League of Legends<br>date=2020/11/10<br>unused=%{x}<br>value=%{marker.size}<extra></extra>\", \"hovertext\": [\"League of Legends\"], \"ids\": [\"League of Legends\"], \"legendgroup\": \"League of Legends\", \"marker\": {\"color\": \"#FFA15A\", \"size\": [212483], \"sizemode\": \"area\", \"sizeref\": 565.8975, \"symbol\": \"circle\"}, \"mode\": \"markers\", \"name\": \"League of Legends\", \"orientation\": \"v\", \"showlegend\": true, \"x\": [3], \"xaxis\": \"x\", \"y\": [212483], \"yaxis\": \"y\", \"type\": \"scatter\"}, {\"hovertemplate\": \"<b>%{hovertext}</b><br><br>name=Minecraft<br>date=2020/11/10<br>unused=%{x}<br>value=%{marker.size}<extra></extra>\", \"hovertext\": [\"Minecraft\"], \"ids\": [\"Minecraft\"], \"legendgroup\": \"Minecraft\", \"marker\": {\"color\": \"#19d3f3\", \"size\": [75590], \"sizemode\": \"area\", \"sizeref\": 565.8975, \"symbol\": \"circle\"}, \"mode\": \"markers\", \"name\": \"Minecraft\", \"orientation\": \"v\", \"showlegend\": true, \"x\": [3], \"xaxis\": \"x\", \"y\": [75590], \"yaxis\": \"y\", \"type\": \"scatter\"}], \"name\": \"2020/11/10\"}, {\"data\": [{\"hovertemplate\": \"<b>%{hovertext}</b><br><br>name=Assassin's Creed: Valhalla<br>date=2020/11/11<br>unused=%{x}<br>value=%{marker.size}<extra></extra>\", \"hovertext\": [\"Assassin's Creed: Valhalla\"], \"ids\": [\"Assassin's Creed: Valhalla\"], \"legendgroup\": \"Assassin's Creed: Valhalla\", \"marker\": {\"color\": \"#636efa\", \"size\": [174561], \"sizemode\": \"area\", \"sizeref\": 565.8975, \"symbol\": \"circle\"}, \"mode\": \"markers\", \"name\": \"Assassin's Creed: Valhalla\", \"orientation\": \"v\", \"showlegend\": true, \"x\": [4], \"xaxis\": \"x\", \"y\": [174561], \"yaxis\": \"y\", \"type\": \"scatter\"}, {\"hovertemplate\": \"<b>%{hovertext}</b><br><br>name=Call Of Duty: Modern Warfare<br>date=2020/11/11<br>unused=%{x}<br>value=%{marker.size}<extra></extra>\", \"hovertext\": [\"Call Of Duty: Modern Warfare\"], \"ids\": [\"Call Of Duty: Modern Warfare\"], \"legendgroup\": \"Call Of Duty: Modern Warfare\", \"marker\": {\"color\": \"#EF553B\", \"size\": [107612], \"sizemode\": \"area\", \"sizeref\": 565.8975, \"symbol\": \"circle\"}, \"mode\": \"markers\", \"name\": \"Call Of Duty: Modern Warfare\", \"orientation\": \"v\", \"showlegend\": true, \"x\": [4], \"xaxis\": \"x\", \"y\": [107612], \"yaxis\": \"y\", \"type\": \"scatter\"}, {\"hovertemplate\": \"<b>%{hovertext}</b><br><br>name=FIFA 21<br>date=2020/11/11<br>unused=%{x}<br>value=%{marker.size}<extra></extra>\", \"hovertext\": [\"FIFA 21\"], \"ids\": [\"FIFA 21\"], \"legendgroup\": \"FIFA 21\", \"marker\": {\"color\": \"#00cc96\", \"size\": [41554], \"sizemode\": \"area\", \"sizeref\": 565.8975, \"symbol\": \"circle\"}, \"mode\": \"markers\", \"name\": \"FIFA 21\", \"orientation\": \"v\", \"showlegend\": true, \"x\": [4], \"xaxis\": \"x\", \"y\": [41554], \"yaxis\": \"y\", \"type\": \"scatter\"}, {\"hovertemplate\": \"<b>%{hovertext}</b><br><br>name=Fortnite<br>date=2020/11/11<br>unused=%{x}<br>value=%{marker.size}<extra></extra>\", \"hovertext\": [\"Fortnite\"], \"ids\": [\"Fortnite\"], \"legendgroup\": \"Fortnite\", \"marker\": {\"color\": \"#ab63fa\", \"size\": [88512], \"sizemode\": \"area\", \"sizeref\": 565.8975, \"symbol\": \"circle\"}, \"mode\": \"markers\", \"name\": \"Fortnite\", \"orientation\": \"v\", \"showlegend\": true, \"x\": [4], \"xaxis\": \"x\", \"y\": [88512], \"yaxis\": \"y\", \"type\": \"scatter\"}, {\"hovertemplate\": \"<b>%{hovertext}</b><br><br>name=League of Legends<br>date=2020/11/11<br>unused=%{x}<br>value=%{marker.size}<extra></extra>\", \"hovertext\": [\"League of Legends\"], \"ids\": [\"League of Legends\"], \"legendgroup\": \"League of Legends\", \"marker\": {\"color\": \"#FFA15A\", \"size\": [117172], \"sizemode\": \"area\", \"sizeref\": 565.8975, \"symbol\": \"circle\"}, \"mode\": \"markers\", \"name\": \"League of Legends\", \"orientation\": \"v\", \"showlegend\": true, \"x\": [4], \"xaxis\": \"x\", \"y\": [117172], \"yaxis\": \"y\", \"type\": \"scatter\"}, {\"hovertemplate\": \"<b>%{hovertext}</b><br><br>name=Minecraft<br>date=2020/11/11<br>unused=%{x}<br>value=%{marker.size}<extra></extra>\", \"hovertext\": [\"Minecraft\"], \"ids\": [\"Minecraft\"], \"legendgroup\": \"Minecraft\", \"marker\": {\"color\": \"#19d3f3\", \"size\": [119863], \"sizemode\": \"area\", \"sizeref\": 565.8975, \"symbol\": \"circle\"}, \"mode\": \"markers\", \"name\": \"Minecraft\", \"orientation\": \"v\", \"showlegend\": true, \"x\": [4], \"xaxis\": \"x\", \"y\": [119863], \"yaxis\": \"y\", \"type\": \"scatter\"}], \"name\": \"2020/11/11\"}, {\"data\": [{\"hovertemplate\": \"<b>%{hovertext}</b><br><br>name=Assassin's Creed: Valhalla<br>date=2020/11/12<br>unused=%{x}<br>value=%{marker.size}<extra></extra>\", \"hovertext\": [\"Assassin's Creed: Valhalla\"], \"ids\": [\"Assassin's Creed: Valhalla\"], \"legendgroup\": \"Assassin's Creed: Valhalla\", \"marker\": {\"color\": \"#636efa\", \"size\": [44416], \"sizemode\": \"area\", \"sizeref\": 565.8975, \"symbol\": \"circle\"}, \"mode\": \"markers\", \"name\": \"Assassin's Creed: Valhalla\", \"orientation\": \"v\", \"showlegend\": true, \"x\": [5], \"xaxis\": \"x\", \"y\": [44416], \"yaxis\": \"y\", \"type\": \"scatter\"}, {\"hovertemplate\": \"<b>%{hovertext}</b><br><br>name=Call Of Duty: Modern Warfare<br>date=2020/11/12<br>unused=%{x}<br>value=%{marker.size}<extra></extra>\", \"hovertext\": [\"Call Of Duty: Modern Warfare\"], \"ids\": [\"Call Of Duty: Modern Warfare\"], \"legendgroup\": \"Call Of Duty: Modern Warfare\", \"marker\": {\"color\": \"#EF553B\", \"size\": [48111], \"sizemode\": \"area\", \"sizeref\": 565.8975, \"symbol\": \"circle\"}, \"mode\": \"markers\", \"name\": \"Call Of Duty: Modern Warfare\", \"orientation\": \"v\", \"showlegend\": true, \"x\": [5], \"xaxis\": \"x\", \"y\": [48111], \"yaxis\": \"y\", \"type\": \"scatter\"}, {\"hovertemplate\": \"<b>%{hovertext}</b><br><br>name=FIFA 21<br>date=2020/11/12<br>unused=%{x}<br>value=%{marker.size}<extra></extra>\", \"hovertext\": [\"FIFA 21\"], \"ids\": [\"FIFA 21\"], \"legendgroup\": \"FIFA 21\", \"marker\": {\"color\": \"#00cc96\", \"size\": [21143], \"sizemode\": \"area\", \"sizeref\": 565.8975, \"symbol\": \"circle\"}, \"mode\": \"markers\", \"name\": \"FIFA 21\", \"orientation\": \"v\", \"showlegend\": true, \"x\": [5], \"xaxis\": \"x\", \"y\": [21143], \"yaxis\": \"y\", \"type\": \"scatter\"}, {\"hovertemplate\": \"<b>%{hovertext}</b><br><br>name=Fortnite<br>date=2020/11/12<br>unused=%{x}<br>value=%{marker.size}<extra></extra>\", \"hovertext\": [\"Fortnite\"], \"ids\": [\"Fortnite\"], \"legendgroup\": \"Fortnite\", \"marker\": {\"color\": \"#ab63fa\", \"size\": [39911], \"sizemode\": \"area\", \"sizeref\": 565.8975, \"symbol\": \"circle\"}, \"mode\": \"markers\", \"name\": \"Fortnite\", \"orientation\": \"v\", \"showlegend\": true, \"x\": [5], \"xaxis\": \"x\", \"y\": [39911], \"yaxis\": \"y\", \"type\": \"scatter\"}, {\"hovertemplate\": \"<b>%{hovertext}</b><br><br>name=League of Legends<br>date=2020/11/12<br>unused=%{x}<br>value=%{marker.size}<extra></extra>\", \"hovertext\": [\"League of Legends\"], \"ids\": [\"League of Legends\"], \"legendgroup\": \"League of Legends\", \"marker\": {\"color\": \"#FFA15A\", \"size\": [185018], \"sizemode\": \"area\", \"sizeref\": 565.8975, \"symbol\": \"circle\"}, \"mode\": \"markers\", \"name\": \"League of Legends\", \"orientation\": \"v\", \"showlegend\": true, \"x\": [5], \"xaxis\": \"x\", \"y\": [185018], \"yaxis\": \"y\", \"type\": \"scatter\"}, {\"hovertemplate\": \"<b>%{hovertext}</b><br><br>name=Minecraft<br>date=2020/11/12<br>unused=%{x}<br>value=%{marker.size}<extra></extra>\", \"hovertext\": [\"Minecraft\"], \"ids\": [\"Minecraft\"], \"legendgroup\": \"Minecraft\", \"marker\": {\"color\": \"#19d3f3\", \"size\": [44506], \"sizemode\": \"area\", \"sizeref\": 565.8975, \"symbol\": \"circle\"}, \"mode\": \"markers\", \"name\": \"Minecraft\", \"orientation\": \"v\", \"showlegend\": true, \"x\": [5], \"xaxis\": \"x\", \"y\": [44506], \"yaxis\": \"y\", \"type\": \"scatter\"}], \"name\": \"2020/11/12\"}, {\"data\": [{\"hovertemplate\": \"<b>%{hovertext}</b><br><br>name=Assassin's Creed: Valhalla<br>date=2020/11/13<br>unused=%{x}<br>value=%{marker.size}<extra></extra>\", \"hovertext\": [\"Assassin's Creed: Valhalla\"], \"ids\": [\"Assassin's Creed: Valhalla\"], \"legendgroup\": \"Assassin's Creed: Valhalla\", \"marker\": {\"color\": \"#636efa\", \"size\": [61704], \"sizemode\": \"area\", \"sizeref\": 565.8975, \"symbol\": \"circle\"}, \"mode\": \"markers\", \"name\": \"Assassin's Creed: Valhalla\", \"orientation\": \"v\", \"showlegend\": true, \"x\": [6], \"xaxis\": \"x\", \"y\": [61704], \"yaxis\": \"y\", \"type\": \"scatter\"}, {\"hovertemplate\": \"<b>%{hovertext}</b><br><br>name=Call Of Duty: Modern Warfare<br>date=2020/11/13<br>unused=%{x}<br>value=%{marker.size}<extra></extra>\", \"hovertext\": [\"Call Of Duty: Modern Warfare\"], \"ids\": [\"Call Of Duty: Modern Warfare\"], \"legendgroup\": \"Call Of Duty: Modern Warfare\", \"marker\": {\"color\": \"#EF553B\", \"size\": [126663], \"sizemode\": \"area\", \"sizeref\": 565.8975, \"symbol\": \"circle\"}, \"mode\": \"markers\", \"name\": \"Call Of Duty: Modern Warfare\", \"orientation\": \"v\", \"showlegend\": true, \"x\": [6], \"xaxis\": \"x\", \"y\": [126663], \"yaxis\": \"y\", \"type\": \"scatter\"}, {\"hovertemplate\": \"<b>%{hovertext}</b><br><br>name=FIFA 21<br>date=2020/11/13<br>unused=%{x}<br>value=%{marker.size}<extra></extra>\", \"hovertext\": [\"FIFA 21\"], \"ids\": [\"FIFA 21\"], \"legendgroup\": \"FIFA 21\", \"marker\": {\"color\": \"#00cc96\", \"size\": [84577], \"sizemode\": \"area\", \"sizeref\": 565.8975, \"symbol\": \"circle\"}, \"mode\": \"markers\", \"name\": \"FIFA 21\", \"orientation\": \"v\", \"showlegend\": true, \"x\": [6], \"xaxis\": \"x\", \"y\": [84577], \"yaxis\": \"y\", \"type\": \"scatter\"}, {\"hovertemplate\": \"<b>%{hovertext}</b><br><br>name=Fortnite<br>date=2020/11/13<br>unused=%{x}<br>value=%{marker.size}<extra></extra>\", \"hovertext\": [\"Fortnite\"], \"ids\": [\"Fortnite\"], \"legendgroup\": \"Fortnite\", \"marker\": {\"color\": \"#ab63fa\", \"size\": [96908], \"sizemode\": \"area\", \"sizeref\": 565.8975, \"symbol\": \"circle\"}, \"mode\": \"markers\", \"name\": \"Fortnite\", \"orientation\": \"v\", \"showlegend\": true, \"x\": [6], \"xaxis\": \"x\", \"y\": [96908], \"yaxis\": \"y\", \"type\": \"scatter\"}, {\"hovertemplate\": \"<b>%{hovertext}</b><br><br>name=League of Legends<br>date=2020/11/13<br>unused=%{x}<br>value=%{marker.size}<extra></extra>\", \"hovertext\": [\"League of Legends\"], \"ids\": [\"League of Legends\"], \"legendgroup\": \"League of Legends\", \"marker\": {\"color\": \"#FFA15A\", \"size\": [226359], \"sizemode\": \"area\", \"sizeref\": 565.8975, \"symbol\": \"circle\"}, \"mode\": \"markers\", \"name\": \"League of Legends\", \"orientation\": \"v\", \"showlegend\": true, \"x\": [6], \"xaxis\": \"x\", \"y\": [226359], \"yaxis\": \"y\", \"type\": \"scatter\"}, {\"hovertemplate\": \"<b>%{hovertext}</b><br><br>name=Minecraft<br>date=2020/11/13<br>unused=%{x}<br>value=%{marker.size}<extra></extra>\", \"hovertext\": [\"Minecraft\"], \"ids\": [\"Minecraft\"], \"legendgroup\": \"Minecraft\", \"marker\": {\"color\": \"#19d3f3\", \"size\": [121064], \"sizemode\": \"area\", \"sizeref\": 565.8975, \"symbol\": \"circle\"}, \"mode\": \"markers\", \"name\": \"Minecraft\", \"orientation\": \"v\", \"showlegend\": true, \"x\": [6], \"xaxis\": \"x\", \"y\": [121064], \"yaxis\": \"y\", \"type\": \"scatter\"}], \"name\": \"2020/11/13\"}]);\n",
       "                        }).then(function(){\n",
       "                            \n",
       "var gd = document.getElementById('6901ba63-256b-4de6-9138-0bd18c2a5e43');\n",
       "var x = new MutationObserver(function (mutations, observer) {{\n",
       "        var display = window.getComputedStyle(gd).display;\n",
       "        if (!display || display === 'none') {{\n",
       "            console.log([gd, 'removed!']);\n",
       "            Plotly.purge(gd);\n",
       "            observer.disconnect();\n",
       "        }}\n",
       "}});\n",
       "\n",
       "// Listen for the removal of the full notebook cells\n",
       "var notebookContainer = gd.closest('#notebook-container');\n",
       "if (notebookContainer) {{\n",
       "    x.observe(notebookContainer, {childList: true});\n",
       "}}\n",
       "\n",
       "// Listen for the clearing of the current output cell\n",
       "var outputEl = gd.closest('.output');\n",
       "if (outputEl) {{\n",
       "    x.observe(outputEl, {childList: true});\n",
       "}}\n",
       "\n",
       "                        })                };                });            </script>        </div>"
      ]
     },
     "metadata": {},
     "output_type": "display_data"
    }
   ],
   "source": [
    "data = pd.read_csv('/Users/stephen/Desktop/project/eGaming-Analytics/TopGame.csv')\n",
    "\n",
    "\n",
    "px.scatter(data, x='unused',y='value',color='name',size='value',animation_frame='date',animation_group='name',hover_name='name',range_x=[0,5],range_y=[10000,200000]).show()\n",
    "\n"
   ]
  },
  {
   "cell_type": "code",
   "execution_count": 51,
   "metadata": {},
   "outputs": [
    {
     "data": {
      "text/html": [
       "<div>\n",
       "<style scoped>\n",
       "    .dataframe tbody tr th:only-of-type {\n",
       "        vertical-align: middle;\n",
       "    }\n",
       "\n",
       "    .dataframe tbody tr th {\n",
       "        vertical-align: top;\n",
       "    }\n",
       "\n",
       "    .dataframe thead th {\n",
       "        text-align: right;\n",
       "    }\n",
       "</style>\n",
       "<table border=\"1\" class=\"dataframe\">\n",
       "  <thead>\n",
       "    <tr style=\"text-align: right;\">\n",
       "      <th></th>\n",
       "      <th>Games</th>\n",
       "      <th>cs</th>\n",
       "      <th>de</th>\n",
       "      <th>en</th>\n",
       "      <th>es</th>\n",
       "      <th>fr</th>\n",
       "      <th>it</th>\n",
       "      <th>ja</th>\n",
       "      <th>ko</th>\n",
       "      <th>pt</th>\n",
       "      <th>...</th>\n",
       "      <th>bg</th>\n",
       "      <th>pl</th>\n",
       "      <th>th</th>\n",
       "      <th>el</th>\n",
       "      <th>no</th>\n",
       "      <th>sv</th>\n",
       "      <th>id</th>\n",
       "      <th>tl</th>\n",
       "      <th>hu</th>\n",
       "      <th>asl</th>\n",
       "    </tr>\n",
       "  </thead>\n",
       "  <tbody>\n",
       "    <tr>\n",
       "      <th>0</th>\n",
       "      <td>ARK:SurvivalEvolved</td>\n",
       "      <td>1</td>\n",
       "      <td>3</td>\n",
       "      <td>62</td>\n",
       "      <td>8</td>\n",
       "      <td>5</td>\n",
       "      <td>1</td>\n",
       "      <td>2</td>\n",
       "      <td>3</td>\n",
       "      <td>5</td>\n",
       "      <td>...</td>\n",
       "      <td></td>\n",
       "      <td></td>\n",
       "      <td></td>\n",
       "      <td></td>\n",
       "      <td></td>\n",
       "      <td></td>\n",
       "      <td></td>\n",
       "      <td></td>\n",
       "      <td></td>\n",
       "      <td></td>\n",
       "    </tr>\n",
       "    <tr>\n",
       "      <th>1</th>\n",
       "      <td>ASMR</td>\n",
       "      <td></td>\n",
       "      <td></td>\n",
       "      <td>43</td>\n",
       "      <td>9</td>\n",
       "      <td>1</td>\n",
       "      <td></td>\n",
       "      <td>1</td>\n",
       "      <td>1</td>\n",
       "      <td>5</td>\n",
       "      <td>...</td>\n",
       "      <td></td>\n",
       "      <td></td>\n",
       "      <td></td>\n",
       "      <td></td>\n",
       "      <td></td>\n",
       "      <td></td>\n",
       "      <td></td>\n",
       "      <td></td>\n",
       "      <td></td>\n",
       "      <td></td>\n",
       "    </tr>\n",
       "    <tr>\n",
       "      <th>2</th>\n",
       "      <td>AgeofEmpiresII</td>\n",
       "      <td></td>\n",
       "      <td>2</td>\n",
       "      <td>25</td>\n",
       "      <td>25</td>\n",
       "      <td>2</td>\n",
       "      <td></td>\n",
       "      <td>1</td>\n",
       "      <td>1</td>\n",
       "      <td>1</td>\n",
       "      <td>...</td>\n",
       "      <td></td>\n",
       "      <td></td>\n",
       "      <td></td>\n",
       "      <td></td>\n",
       "      <td></td>\n",
       "      <td></td>\n",
       "      <td></td>\n",
       "      <td></td>\n",
       "      <td></td>\n",
       "      <td></td>\n",
       "    </tr>\n",
       "    <tr>\n",
       "      <th>3</th>\n",
       "      <td>AmericanTruckSimulator</td>\n",
       "      <td></td>\n",
       "      <td>2</td>\n",
       "      <td>51</td>\n",
       "      <td>6</td>\n",
       "      <td>1</td>\n",
       "      <td></td>\n",
       "      <td></td>\n",
       "      <td></td>\n",
       "      <td>1</td>\n",
       "      <td>...</td>\n",
       "      <td></td>\n",
       "      <td></td>\n",
       "      <td></td>\n",
       "      <td></td>\n",
       "      <td></td>\n",
       "      <td></td>\n",
       "      <td></td>\n",
       "      <td></td>\n",
       "      <td></td>\n",
       "      <td></td>\n",
       "    </tr>\n",
       "    <tr>\n",
       "      <th>4</th>\n",
       "      <td>AmongUs</td>\n",
       "      <td></td>\n",
       "      <td>3</td>\n",
       "      <td>57</td>\n",
       "      <td>8</td>\n",
       "      <td>1</td>\n",
       "      <td>2</td>\n",
       "      <td></td>\n",
       "      <td>1</td>\n",
       "      <td>22</td>\n",
       "      <td>...</td>\n",
       "      <td></td>\n",
       "      <td></td>\n",
       "      <td></td>\n",
       "      <td></td>\n",
       "      <td></td>\n",
       "      <td></td>\n",
       "      <td></td>\n",
       "      <td></td>\n",
       "      <td></td>\n",
       "      <td></td>\n",
       "    </tr>\n",
       "    <tr>\n",
       "      <th>5</th>\n",
       "      <td>AnimalCrossing:NewHorizons</td>\n",
       "      <td>1</td>\n",
       "      <td></td>\n",
       "      <td>64</td>\n",
       "      <td>5</td>\n",
       "      <td></td>\n",
       "      <td></td>\n",
       "      <td>3</td>\n",
       "      <td>3</td>\n",
       "      <td>1</td>\n",
       "      <td>...</td>\n",
       "      <td></td>\n",
       "      <td></td>\n",
       "      <td></td>\n",
       "      <td></td>\n",
       "      <td></td>\n",
       "      <td></td>\n",
       "      <td></td>\n",
       "      <td></td>\n",
       "      <td></td>\n",
       "      <td></td>\n",
       "    </tr>\n",
       "    <tr>\n",
       "      <th>6</th>\n",
       "      <td>ApexLegends</td>\n",
       "      <td></td>\n",
       "      <td>2</td>\n",
       "      <td>59</td>\n",
       "      <td>9</td>\n",
       "      <td>6</td>\n",
       "      <td></td>\n",
       "      <td>12</td>\n",
       "      <td>2</td>\n",
       "      <td>4</td>\n",
       "      <td>...</td>\n",
       "      <td></td>\n",
       "      <td></td>\n",
       "      <td></td>\n",
       "      <td></td>\n",
       "      <td></td>\n",
       "      <td></td>\n",
       "      <td></td>\n",
       "      <td></td>\n",
       "      <td></td>\n",
       "      <td></td>\n",
       "    </tr>\n",
       "    <tr>\n",
       "      <th>7</th>\n",
       "      <td>Art</td>\n",
       "      <td></td>\n",
       "      <td></td>\n",
       "      <td>67</td>\n",
       "      <td>9</td>\n",
       "      <td></td>\n",
       "      <td></td>\n",
       "      <td>1</td>\n",
       "      <td>12</td>\n",
       "      <td>4</td>\n",
       "      <td>...</td>\n",
       "      <td></td>\n",
       "      <td></td>\n",
       "      <td></td>\n",
       "      <td></td>\n",
       "      <td></td>\n",
       "      <td></td>\n",
       "      <td></td>\n",
       "      <td></td>\n",
       "      <td></td>\n",
       "      <td></td>\n",
       "    </tr>\n",
       "    <tr>\n",
       "      <th>8</th>\n",
       "      <td>Assassin'sCreedValhalla</td>\n",
       "      <td></td>\n",
       "      <td>6</td>\n",
       "      <td>45</td>\n",
       "      <td>12</td>\n",
       "      <td>3</td>\n",
       "      <td></td>\n",
       "      <td>2</td>\n",
       "      <td>10</td>\n",
       "      <td>6</td>\n",
       "      <td>...</td>\n",
       "      <td>1</td>\n",
       "      <td></td>\n",
       "      <td></td>\n",
       "      <td></td>\n",
       "      <td></td>\n",
       "      <td></td>\n",
       "      <td></td>\n",
       "      <td></td>\n",
       "      <td></td>\n",
       "      <td></td>\n",
       "    </tr>\n",
       "    <tr>\n",
       "      <th>9</th>\n",
       "      <td>Astro’sPlayroom</td>\n",
       "      <td></td>\n",
       "      <td></td>\n",
       "      <td>50</td>\n",
       "      <td></td>\n",
       "      <td>1</td>\n",
       "      <td></td>\n",
       "      <td>1</td>\n",
       "      <td></td>\n",
       "      <td></td>\n",
       "      <td>...</td>\n",
       "      <td></td>\n",
       "      <td></td>\n",
       "      <td></td>\n",
       "      <td></td>\n",
       "      <td></td>\n",
       "      <td></td>\n",
       "      <td></td>\n",
       "      <td></td>\n",
       "      <td></td>\n",
       "      <td></td>\n",
       "    </tr>\n",
       "    <tr>\n",
       "      <th>10</th>\n",
       "      <td>BlackDesertOnline</td>\n",
       "      <td></td>\n",
       "      <td>3</td>\n",
       "      <td>35</td>\n",
       "      <td>9</td>\n",
       "      <td></td>\n",
       "      <td></td>\n",
       "      <td>3</td>\n",
       "      <td>11</td>\n",
       "      <td>12</td>\n",
       "      <td>...</td>\n",
       "      <td></td>\n",
       "      <td>1</td>\n",
       "      <td>7</td>\n",
       "      <td></td>\n",
       "      <td></td>\n",
       "      <td></td>\n",
       "      <td></td>\n",
       "      <td></td>\n",
       "      <td></td>\n",
       "      <td></td>\n",
       "    </tr>\n",
       "    <tr>\n",
       "      <th>11</th>\n",
       "      <td>BlazingSails</td>\n",
       "      <td></td>\n",
       "      <td></td>\n",
       "      <td>3</td>\n",
       "      <td>14</td>\n",
       "      <td></td>\n",
       "      <td></td>\n",
       "      <td></td>\n",
       "      <td></td>\n",
       "      <td></td>\n",
       "      <td>...</td>\n",
       "      <td></td>\n",
       "      <td></td>\n",
       "      <td></td>\n",
       "      <td></td>\n",
       "      <td></td>\n",
       "      <td></td>\n",
       "      <td></td>\n",
       "      <td></td>\n",
       "      <td></td>\n",
       "      <td></td>\n",
       "    </tr>\n",
       "    <tr>\n",
       "      <th>12</th>\n",
       "      <td>Brawlhalla</td>\n",
       "      <td></td>\n",
       "      <td>1</td>\n",
       "      <td>38</td>\n",
       "      <td>24</td>\n",
       "      <td></td>\n",
       "      <td>1</td>\n",
       "      <td></td>\n",
       "      <td></td>\n",
       "      <td>13</td>\n",
       "      <td>...</td>\n",
       "      <td></td>\n",
       "      <td></td>\n",
       "      <td></td>\n",
       "      <td></td>\n",
       "      <td></td>\n",
       "      <td></td>\n",
       "      <td></td>\n",
       "      <td></td>\n",
       "      <td></td>\n",
       "      <td></td>\n",
       "    </tr>\n",
       "    <tr>\n",
       "      <th>13</th>\n",
       "      <td>Bugsnax</td>\n",
       "      <td></td>\n",
       "      <td></td>\n",
       "      <td>98</td>\n",
       "      <td></td>\n",
       "      <td></td>\n",
       "      <td></td>\n",
       "      <td></td>\n",
       "      <td></td>\n",
       "      <td></td>\n",
       "      <td>...</td>\n",
       "      <td></td>\n",
       "      <td></td>\n",
       "      <td></td>\n",
       "      <td></td>\n",
       "      <td></td>\n",
       "      <td></td>\n",
       "      <td></td>\n",
       "      <td></td>\n",
       "      <td></td>\n",
       "      <td></td>\n",
       "    </tr>\n",
       "    <tr>\n",
       "      <th>14</th>\n",
       "      <td>CallOfDuty:ModernWarfare</td>\n",
       "      <td></td>\n",
       "      <td>4</td>\n",
       "      <td>60</td>\n",
       "      <td>14</td>\n",
       "      <td>4</td>\n",
       "      <td>1</td>\n",
       "      <td></td>\n",
       "      <td></td>\n",
       "      <td>7</td>\n",
       "      <td>...</td>\n",
       "      <td></td>\n",
       "      <td></td>\n",
       "      <td></td>\n",
       "      <td>1</td>\n",
       "      <td></td>\n",
       "      <td></td>\n",
       "      <td></td>\n",
       "      <td></td>\n",
       "      <td></td>\n",
       "      <td></td>\n",
       "    </tr>\n",
       "    <tr>\n",
       "      <th>15</th>\n",
       "      <td>CallofDuty:BlackOpsColdWar</td>\n",
       "      <td></td>\n",
       "      <td>3</td>\n",
       "      <td>78</td>\n",
       "      <td>7</td>\n",
       "      <td>1</td>\n",
       "      <td>1</td>\n",
       "      <td></td>\n",
       "      <td>1</td>\n",
       "      <td>5</td>\n",
       "      <td>...</td>\n",
       "      <td></td>\n",
       "      <td></td>\n",
       "      <td></td>\n",
       "      <td></td>\n",
       "      <td></td>\n",
       "      <td></td>\n",
       "      <td></td>\n",
       "      <td></td>\n",
       "      <td></td>\n",
       "      <td></td>\n",
       "    </tr>\n",
       "    <tr>\n",
       "      <th>16</th>\n",
       "      <td>CallofDuty:Warzone</td>\n",
       "      <td></td>\n",
       "      <td></td>\n",
       "      <td>83</td>\n",
       "      <td>13</td>\n",
       "      <td>1</td>\n",
       "      <td></td>\n",
       "      <td></td>\n",
       "      <td></td>\n",
       "      <td>2</td>\n",
       "      <td>...</td>\n",
       "      <td></td>\n",
       "      <td></td>\n",
       "      <td></td>\n",
       "      <td></td>\n",
       "      <td></td>\n",
       "      <td></td>\n",
       "      <td></td>\n",
       "      <td></td>\n",
       "      <td></td>\n",
       "      <td></td>\n",
       "    </tr>\n",
       "    <tr>\n",
       "      <th>17</th>\n",
       "      <td>Chess</td>\n",
       "      <td></td>\n",
       "      <td></td>\n",
       "      <td>52</td>\n",
       "      <td>3</td>\n",
       "      <td></td>\n",
       "      <td></td>\n",
       "      <td></td>\n",
       "      <td>2</td>\n",
       "      <td></td>\n",
       "      <td>...</td>\n",
       "      <td></td>\n",
       "      <td></td>\n",
       "      <td></td>\n",
       "      <td></td>\n",
       "      <td></td>\n",
       "      <td></td>\n",
       "      <td></td>\n",
       "      <td></td>\n",
       "      <td></td>\n",
       "      <td></td>\n",
       "    </tr>\n",
       "    <tr>\n",
       "      <th>18</th>\n",
       "      <td>Core</td>\n",
       "      <td></td>\n",
       "      <td></td>\n",
       "      <td>3</td>\n",
       "      <td></td>\n",
       "      <td></td>\n",
       "      <td></td>\n",
       "      <td></td>\n",
       "      <td></td>\n",
       "      <td></td>\n",
       "      <td>...</td>\n",
       "      <td></td>\n",
       "      <td></td>\n",
       "      <td></td>\n",
       "      <td></td>\n",
       "      <td></td>\n",
       "      <td></td>\n",
       "      <td></td>\n",
       "      <td></td>\n",
       "      <td></td>\n",
       "      <td></td>\n",
       "    </tr>\n",
       "    <tr>\n",
       "      <th>19</th>\n",
       "      <td>CorpseParty</td>\n",
       "      <td></td>\n",
       "      <td></td>\n",
       "      <td>2</td>\n",
       "      <td></td>\n",
       "      <td></td>\n",
       "      <td></td>\n",
       "      <td></td>\n",
       "      <td></td>\n",
       "      <td></td>\n",
       "      <td>...</td>\n",
       "      <td></td>\n",
       "      <td></td>\n",
       "      <td></td>\n",
       "      <td></td>\n",
       "      <td></td>\n",
       "      <td></td>\n",
       "      <td></td>\n",
       "      <td></td>\n",
       "      <td></td>\n",
       "      <td></td>\n",
       "    </tr>\n",
       "    <tr>\n",
       "      <th>20</th>\n",
       "      <td>Counter-Strike:GlobalOffensive</td>\n",
       "      <td>1</td>\n",
       "      <td>2</td>\n",
       "      <td>25</td>\n",
       "      <td>18</td>\n",
       "      <td>1</td>\n",
       "      <td></td>\n",
       "      <td></td>\n",
       "      <td></td>\n",
       "      <td>23</td>\n",
       "      <td>...</td>\n",
       "      <td></td>\n",
       "      <td></td>\n",
       "      <td>2</td>\n",
       "      <td></td>\n",
       "      <td>1</td>\n",
       "      <td>1</td>\n",
       "      <td></td>\n",
       "      <td></td>\n",
       "      <td></td>\n",
       "      <td></td>\n",
       "    </tr>\n",
       "    <tr>\n",
       "      <th>21</th>\n",
       "      <td>DayZ</td>\n",
       "      <td></td>\n",
       "      <td>2</td>\n",
       "      <td>73</td>\n",
       "      <td>6</td>\n",
       "      <td></td>\n",
       "      <td>1</td>\n",
       "      <td>1</td>\n",
       "      <td></td>\n",
       "      <td>13</td>\n",
       "      <td>...</td>\n",
       "      <td></td>\n",
       "      <td></td>\n",
       "      <td></td>\n",
       "      <td></td>\n",
       "      <td></td>\n",
       "      <td>1</td>\n",
       "      <td></td>\n",
       "      <td></td>\n",
       "      <td></td>\n",
       "      <td></td>\n",
       "    </tr>\n",
       "    <tr>\n",
       "      <th>22</th>\n",
       "      <td>DeadbyDaylight</td>\n",
       "      <td></td>\n",
       "      <td>1</td>\n",
       "      <td>53</td>\n",
       "      <td>8</td>\n",
       "      <td>3</td>\n",
       "      <td>2</td>\n",
       "      <td>6</td>\n",
       "      <td>9</td>\n",
       "      <td>8</td>\n",
       "      <td>...</td>\n",
       "      <td></td>\n",
       "      <td></td>\n",
       "      <td>1</td>\n",
       "      <td></td>\n",
       "      <td></td>\n",
       "      <td></td>\n",
       "      <td></td>\n",
       "      <td></td>\n",
       "      <td></td>\n",
       "      <td></td>\n",
       "    </tr>\n",
       "    <tr>\n",
       "      <th>23</th>\n",
       "      <td>Demon'sSouls</td>\n",
       "      <td></td>\n",
       "      <td></td>\n",
       "      <td>84</td>\n",
       "      <td>4</td>\n",
       "      <td>2</td>\n",
       "      <td></td>\n",
       "      <td>4</td>\n",
       "      <td>3</td>\n",
       "      <td>2</td>\n",
       "      <td>...</td>\n",
       "      <td></td>\n",
       "      <td></td>\n",
       "      <td></td>\n",
       "      <td></td>\n",
       "      <td></td>\n",
       "      <td></td>\n",
       "      <td></td>\n",
       "      <td></td>\n",
       "      <td></td>\n",
       "      <td></td>\n",
       "    </tr>\n",
       "    <tr>\n",
       "      <th>24</th>\n",
       "      <td>Destiny2</td>\n",
       "      <td></td>\n",
       "      <td></td>\n",
       "      <td>86</td>\n",
       "      <td>3</td>\n",
       "      <td>3</td>\n",
       "      <td></td>\n",
       "      <td></td>\n",
       "      <td>4</td>\n",
       "      <td>1</td>\n",
       "      <td>...</td>\n",
       "      <td></td>\n",
       "      <td></td>\n",
       "      <td></td>\n",
       "      <td></td>\n",
       "      <td></td>\n",
       "      <td></td>\n",
       "      <td></td>\n",
       "      <td></td>\n",
       "      <td></td>\n",
       "      <td></td>\n",
       "    </tr>\n",
       "    <tr>\n",
       "      <th>25</th>\n",
       "      <td>DiabloII</td>\n",
       "      <td></td>\n",
       "      <td>1</td>\n",
       "      <td>78</td>\n",
       "      <td>2</td>\n",
       "      <td>1</td>\n",
       "      <td></td>\n",
       "      <td>1</td>\n",
       "      <td>7</td>\n",
       "      <td>2</td>\n",
       "      <td>...</td>\n",
       "      <td>1</td>\n",
       "      <td>1</td>\n",
       "      <td></td>\n",
       "      <td></td>\n",
       "      <td></td>\n",
       "      <td></td>\n",
       "      <td></td>\n",
       "      <td></td>\n",
       "      <td></td>\n",
       "      <td></td>\n",
       "    </tr>\n",
       "    <tr>\n",
       "      <th>26</th>\n",
       "      <td>Dota2</td>\n",
       "      <td></td>\n",
       "      <td></td>\n",
       "      <td>36</td>\n",
       "      <td>4</td>\n",
       "      <td>1</td>\n",
       "      <td></td>\n",
       "      <td>2</td>\n",
       "      <td>2</td>\n",
       "      <td>13</td>\n",
       "      <td>...</td>\n",
       "      <td></td>\n",
       "      <td></td>\n",
       "      <td>3</td>\n",
       "      <td></td>\n",
       "      <td></td>\n",
       "      <td></td>\n",
       "      <td>1</td>\n",
       "      <td></td>\n",
       "      <td></td>\n",
       "      <td></td>\n",
       "    </tr>\n",
       "    <tr>\n",
       "      <th>27</th>\n",
       "      <td>Dungeons&amp;Dragons</td>\n",
       "      <td></td>\n",
       "      <td></td>\n",
       "      <td>87</td>\n",
       "      <td>5</td>\n",
       "      <td>1</td>\n",
       "      <td></td>\n",
       "      <td></td>\n",
       "      <td></td>\n",
       "      <td>4</td>\n",
       "      <td>...</td>\n",
       "      <td></td>\n",
       "      <td></td>\n",
       "      <td></td>\n",
       "      <td></td>\n",
       "      <td></td>\n",
       "      <td></td>\n",
       "      <td></td>\n",
       "      <td></td>\n",
       "      <td></td>\n",
       "      <td></td>\n",
       "    </tr>\n",
       "    <tr>\n",
       "      <th>28</th>\n",
       "      <td>EscapeFromTarkov</td>\n",
       "      <td>1</td>\n",
       "      <td>4</td>\n",
       "      <td>67</td>\n",
       "      <td>5</td>\n",
       "      <td>3</td>\n",
       "      <td>1</td>\n",
       "      <td>5</td>\n",
       "      <td>3</td>\n",
       "      <td>3</td>\n",
       "      <td>...</td>\n",
       "      <td></td>\n",
       "      <td>1</td>\n",
       "      <td></td>\n",
       "      <td></td>\n",
       "      <td></td>\n",
       "      <td></td>\n",
       "      <td></td>\n",
       "      <td></td>\n",
       "      <td></td>\n",
       "      <td></td>\n",
       "    </tr>\n",
       "    <tr>\n",
       "      <th>29</th>\n",
       "      <td>EternalReturn:BlackSurvival</td>\n",
       "      <td></td>\n",
       "      <td></td>\n",
       "      <td>17</td>\n",
       "      <td>2</td>\n",
       "      <td></td>\n",
       "      <td></td>\n",
       "      <td>2</td>\n",
       "      <td>75</td>\n",
       "      <td>2</td>\n",
       "      <td>...</td>\n",
       "      <td></td>\n",
       "      <td></td>\n",
       "      <td></td>\n",
       "      <td></td>\n",
       "      <td></td>\n",
       "      <td></td>\n",
       "      <td></td>\n",
       "      <td></td>\n",
       "      <td></td>\n",
       "      <td></td>\n",
       "    </tr>\n",
       "    <tr>\n",
       "      <th>30</th>\n",
       "      <td>FIFA21</td>\n",
       "      <td>1</td>\n",
       "      <td>7</td>\n",
       "      <td>24</td>\n",
       "      <td>29</td>\n",
       "      <td>9</td>\n",
       "      <td>5</td>\n",
       "      <td></td>\n",
       "      <td>4</td>\n",
       "      <td>16</td>\n",
       "      <td>...</td>\n",
       "      <td></td>\n",
       "      <td></td>\n",
       "      <td></td>\n",
       "      <td></td>\n",
       "      <td></td>\n",
       "      <td></td>\n",
       "      <td></td>\n",
       "      <td></td>\n",
       "      <td></td>\n",
       "      <td></td>\n",
       "    </tr>\n",
       "    <tr>\n",
       "      <th>31</th>\n",
       "      <td>FINALFANTASYXIVOnline</td>\n",
       "      <td></td>\n",
       "      <td></td>\n",
       "      <td>76</td>\n",
       "      <td>2</td>\n",
       "      <td></td>\n",
       "      <td></td>\n",
       "      <td>11</td>\n",
       "      <td>8</td>\n",
       "      <td>1</td>\n",
       "      <td>...</td>\n",
       "      <td></td>\n",
       "      <td></td>\n",
       "      <td></td>\n",
       "      <td></td>\n",
       "      <td></td>\n",
       "      <td></td>\n",
       "      <td></td>\n",
       "      <td></td>\n",
       "      <td></td>\n",
       "      <td></td>\n",
       "    </tr>\n",
       "    <tr>\n",
       "      <th>32</th>\n",
       "      <td>FallGuys:UltimateKnockout</td>\n",
       "      <td></td>\n",
       "      <td>2</td>\n",
       "      <td>72</td>\n",
       "      <td>16</td>\n",
       "      <td>1</td>\n",
       "      <td></td>\n",
       "      <td>2</td>\n",
       "      <td>1</td>\n",
       "      <td>3</td>\n",
       "      <td>...</td>\n",
       "      <td></td>\n",
       "      <td></td>\n",
       "      <td></td>\n",
       "      <td></td>\n",
       "      <td></td>\n",
       "      <td></td>\n",
       "      <td></td>\n",
       "      <td></td>\n",
       "      <td></td>\n",
       "      <td></td>\n",
       "    </tr>\n",
       "    <tr>\n",
       "      <th>33</th>\n",
       "      <td>Food&amp;Drink</td>\n",
       "      <td></td>\n",
       "      <td>1</td>\n",
       "      <td>34</td>\n",
       "      <td>3</td>\n",
       "      <td></td>\n",
       "      <td>1</td>\n",
       "      <td>2</td>\n",
       "      <td>3</td>\n",
       "      <td></td>\n",
       "      <td>...</td>\n",
       "      <td></td>\n",
       "      <td></td>\n",
       "      <td></td>\n",
       "      <td></td>\n",
       "      <td></td>\n",
       "      <td></td>\n",
       "      <td></td>\n",
       "      <td></td>\n",
       "      <td></td>\n",
       "      <td></td>\n",
       "    </tr>\n",
       "    <tr>\n",
       "      <th>34</th>\n",
       "      <td>Fortnite</td>\n",
       "      <td>1</td>\n",
       "      <td>3</td>\n",
       "      <td>45</td>\n",
       "      <td>28</td>\n",
       "      <td>3</td>\n",
       "      <td></td>\n",
       "      <td></td>\n",
       "      <td></td>\n",
       "      <td>12</td>\n",
       "      <td>...</td>\n",
       "      <td></td>\n",
       "      <td></td>\n",
       "      <td></td>\n",
       "      <td></td>\n",
       "      <td></td>\n",
       "      <td>1</td>\n",
       "      <td></td>\n",
       "      <td></td>\n",
       "      <td></td>\n",
       "      <td></td>\n",
       "    </tr>\n",
       "    <tr>\n",
       "      <th>35</th>\n",
       "      <td>Games+Demos</td>\n",
       "      <td></td>\n",
       "      <td>1</td>\n",
       "      <td>44</td>\n",
       "      <td>2</td>\n",
       "      <td></td>\n",
       "      <td></td>\n",
       "      <td></td>\n",
       "      <td>9</td>\n",
       "      <td>5</td>\n",
       "      <td>...</td>\n",
       "      <td></td>\n",
       "      <td></td>\n",
       "      <td></td>\n",
       "      <td></td>\n",
       "      <td></td>\n",
       "      <td></td>\n",
       "      <td></td>\n",
       "      <td></td>\n",
       "      <td></td>\n",
       "      <td></td>\n",
       "    </tr>\n",
       "    <tr>\n",
       "      <th>36</th>\n",
       "      <td>GarenaFreeFire</td>\n",
       "      <td></td>\n",
       "      <td></td>\n",
       "      <td>1</td>\n",
       "      <td>55</td>\n",
       "      <td></td>\n",
       "      <td></td>\n",
       "      <td></td>\n",
       "      <td></td>\n",
       "      <td>40</td>\n",
       "      <td>...</td>\n",
       "      <td></td>\n",
       "      <td></td>\n",
       "      <td></td>\n",
       "      <td></td>\n",
       "      <td></td>\n",
       "      <td></td>\n",
       "      <td></td>\n",
       "      <td></td>\n",
       "      <td></td>\n",
       "      <td></td>\n",
       "    </tr>\n",
       "    <tr>\n",
       "      <th>37</th>\n",
       "      <td>Garry'sMod</td>\n",
       "      <td></td>\n",
       "      <td></td>\n",
       "      <td>34</td>\n",
       "      <td>6</td>\n",
       "      <td></td>\n",
       "      <td></td>\n",
       "      <td></td>\n",
       "      <td></td>\n",
       "      <td>1</td>\n",
       "      <td>...</td>\n",
       "      <td></td>\n",
       "      <td></td>\n",
       "      <td></td>\n",
       "      <td></td>\n",
       "      <td></td>\n",
       "      <td></td>\n",
       "      <td></td>\n",
       "      <td></td>\n",
       "      <td></td>\n",
       "      <td></td>\n",
       "    </tr>\n",
       "    <tr>\n",
       "      <th>38</th>\n",
       "      <td>GenshinImpact</td>\n",
       "      <td></td>\n",
       "      <td>1</td>\n",
       "      <td>61</td>\n",
       "      <td>11</td>\n",
       "      <td>3</td>\n",
       "      <td></td>\n",
       "      <td>1</td>\n",
       "      <td>4</td>\n",
       "      <td>8</td>\n",
       "      <td>...</td>\n",
       "      <td></td>\n",
       "      <td></td>\n",
       "      <td>3</td>\n",
       "      <td></td>\n",
       "      <td></td>\n",
       "      <td></td>\n",
       "      <td></td>\n",
       "      <td>1</td>\n",
       "      <td></td>\n",
       "      <td></td>\n",
       "    </tr>\n",
       "    <tr>\n",
       "      <th>39</th>\n",
       "      <td>GlitchCon</td>\n",
       "      <td></td>\n",
       "      <td></td>\n",
       "      <td>42</td>\n",
       "      <td>5</td>\n",
       "      <td></td>\n",
       "      <td></td>\n",
       "      <td>1</td>\n",
       "      <td></td>\n",
       "      <td></td>\n",
       "      <td>...</td>\n",
       "      <td></td>\n",
       "      <td></td>\n",
       "      <td></td>\n",
       "      <td></td>\n",
       "      <td></td>\n",
       "      <td></td>\n",
       "      <td></td>\n",
       "      <td></td>\n",
       "      <td></td>\n",
       "      <td></td>\n",
       "    </tr>\n",
       "    <tr>\n",
       "      <th>40</th>\n",
       "      <td>Godfall</td>\n",
       "      <td></td>\n",
       "      <td>2</td>\n",
       "      <td>86</td>\n",
       "      <td>2</td>\n",
       "      <td>3</td>\n",
       "      <td></td>\n",
       "      <td></td>\n",
       "      <td>1</td>\n",
       "      <td>1</td>\n",
       "      <td>...</td>\n",
       "      <td></td>\n",
       "      <td></td>\n",
       "      <td></td>\n",
       "      <td></td>\n",
       "      <td></td>\n",
       "      <td></td>\n",
       "      <td></td>\n",
       "      <td></td>\n",
       "      <td>1</td>\n",
       "      <td></td>\n",
       "    </tr>\n",
       "    <tr>\n",
       "      <th>41</th>\n",
       "      <td>GrandTheftAutoV</td>\n",
       "      <td></td>\n",
       "      <td>2</td>\n",
       "      <td>39</td>\n",
       "      <td>16</td>\n",
       "      <td>4</td>\n",
       "      <td>2</td>\n",
       "      <td></td>\n",
       "      <td></td>\n",
       "      <td>27</td>\n",
       "      <td>...</td>\n",
       "      <td></td>\n",
       "      <td>1</td>\n",
       "      <td>1</td>\n",
       "      <td></td>\n",
       "      <td></td>\n",
       "      <td></td>\n",
       "      <td></td>\n",
       "      <td></td>\n",
       "      <td></td>\n",
       "      <td></td>\n",
       "    </tr>\n",
       "    <tr>\n",
       "      <th>42</th>\n",
       "      <td>Hearthstone</td>\n",
       "      <td></td>\n",
       "      <td>1</td>\n",
       "      <td>46</td>\n",
       "      <td>5</td>\n",
       "      <td>5</td>\n",
       "      <td></td>\n",
       "      <td>8</td>\n",
       "      <td>9</td>\n",
       "      <td>2</td>\n",
       "      <td>...</td>\n",
       "      <td></td>\n",
       "      <td></td>\n",
       "      <td></td>\n",
       "      <td>1</td>\n",
       "      <td></td>\n",
       "      <td></td>\n",
       "      <td></td>\n",
       "      <td></td>\n",
       "      <td></td>\n",
       "      <td>1</td>\n",
       "    </tr>\n",
       "    <tr>\n",
       "      <th>43</th>\n",
       "      <td>HeroesofMightandMagicIII:TheRestorationofErathia</td>\n",
       "      <td></td>\n",
       "      <td></td>\n",
       "      <td>1</td>\n",
       "      <td></td>\n",
       "      <td></td>\n",
       "      <td></td>\n",
       "      <td></td>\n",
       "      <td></td>\n",
       "      <td></td>\n",
       "      <td>...</td>\n",
       "      <td></td>\n",
       "      <td></td>\n",
       "      <td></td>\n",
       "      <td></td>\n",
       "      <td></td>\n",
       "      <td></td>\n",
       "      <td></td>\n",
       "      <td></td>\n",
       "      <td></td>\n",
       "      <td></td>\n",
       "    </tr>\n",
       "    <tr>\n",
       "      <th>44</th>\n",
       "      <td>HeroesoftheStorm</td>\n",
       "      <td>1</td>\n",
       "      <td></td>\n",
       "      <td>65</td>\n",
       "      <td>8</td>\n",
       "      <td>1</td>\n",
       "      <td></td>\n",
       "      <td></td>\n",
       "      <td>12</td>\n",
       "      <td>2</td>\n",
       "      <td>...</td>\n",
       "      <td></td>\n",
       "      <td></td>\n",
       "      <td></td>\n",
       "      <td></td>\n",
       "      <td></td>\n",
       "      <td></td>\n",
       "      <td></td>\n",
       "      <td></td>\n",
       "      <td></td>\n",
       "      <td></td>\n",
       "    </tr>\n",
       "    <tr>\n",
       "      <th>45</th>\n",
       "      <td>JackboxPartyPacks</td>\n",
       "      <td></td>\n",
       "      <td></td>\n",
       "      <td>93</td>\n",
       "      <td></td>\n",
       "      <td>1</td>\n",
       "      <td></td>\n",
       "      <td></td>\n",
       "      <td></td>\n",
       "      <td></td>\n",
       "      <td>...</td>\n",
       "      <td></td>\n",
       "      <td></td>\n",
       "      <td></td>\n",
       "      <td></td>\n",
       "      <td></td>\n",
       "      <td></td>\n",
       "      <td></td>\n",
       "      <td></td>\n",
       "      <td></td>\n",
       "      <td></td>\n",
       "    </tr>\n",
       "    <tr>\n",
       "      <th>46</th>\n",
       "      <td>JustChatting</td>\n",
       "      <td></td>\n",
       "      <td></td>\n",
       "      <td>46</td>\n",
       "      <td>22</td>\n",
       "      <td>1</td>\n",
       "      <td></td>\n",
       "      <td></td>\n",
       "      <td>10</td>\n",
       "      <td>8</td>\n",
       "      <td>...</td>\n",
       "      <td></td>\n",
       "      <td>1</td>\n",
       "      <td>1</td>\n",
       "      <td></td>\n",
       "      <td></td>\n",
       "      <td></td>\n",
       "      <td></td>\n",
       "      <td></td>\n",
       "      <td></td>\n",
       "      <td></td>\n",
       "    </tr>\n",
       "    <tr>\n",
       "      <th>47</th>\n",
       "      <td>Krunker</td>\n",
       "      <td></td>\n",
       "      <td></td>\n",
       "      <td>50</td>\n",
       "      <td>3</td>\n",
       "      <td></td>\n",
       "      <td></td>\n",
       "      <td></td>\n",
       "      <td></td>\n",
       "      <td></td>\n",
       "      <td>...</td>\n",
       "      <td></td>\n",
       "      <td></td>\n",
       "      <td></td>\n",
       "      <td></td>\n",
       "      <td></td>\n",
       "      <td></td>\n",
       "      <td></td>\n",
       "      <td></td>\n",
       "      <td></td>\n",
       "      <td></td>\n",
       "    </tr>\n",
       "  </tbody>\n",
       "</table>\n",
       "<p>48 rows × 28 columns</p>\n",
       "</div>"
      ],
      "text/plain": [
       "                                               Games cs de  en  es fr it  ja  \\\n",
       "0                                ARK:SurvivalEvolved  1  3  62   8  5  1   2   \n",
       "1                                               ASMR        43   9  1      1   \n",
       "2                                     AgeofEmpiresII     2  25  25  2      1   \n",
       "3                             AmericanTruckSimulator     2  51   6  1          \n",
       "4                                            AmongUs     3  57   8  1  2       \n",
       "5                         AnimalCrossing:NewHorizons  1     64   5         3   \n",
       "6                                        ApexLegends     2  59   9  6     12   \n",
       "7                                                Art        67   9         1   \n",
       "8                            Assassin'sCreedValhalla     6  45  12  3      2   \n",
       "9                                    Astro’sPlayroom        50      1      1   \n",
       "10                                 BlackDesertOnline     3  35   9         3   \n",
       "11                                      BlazingSails         3  14             \n",
       "12                                        Brawlhalla     1  38  24     1       \n",
       "13                                           Bugsnax        98                 \n",
       "14                          CallOfDuty:ModernWarfare     4  60  14  4  1       \n",
       "15                        CallofDuty:BlackOpsColdWar     3  78   7  1  1       \n",
       "16                                CallofDuty:Warzone        83  13  1          \n",
       "17                                             Chess        52   3             \n",
       "18                                              Core         3                 \n",
       "19                                       CorpseParty         2                 \n",
       "20                    Counter-Strike:GlobalOffensive  1  2  25  18  1          \n",
       "21                                              DayZ     2  73   6     1   1   \n",
       "22                                    DeadbyDaylight     1  53   8  3  2   6   \n",
       "23                                      Demon'sSouls        84   4  2      4   \n",
       "24                                          Destiny2        86   3  3          \n",
       "25                                          DiabloII     1  78   2  1      1   \n",
       "26                                             Dota2        36   4  1      2   \n",
       "27                                  Dungeons&Dragons        87   5  1          \n",
       "28                                  EscapeFromTarkov  1  4  67   5  3  1   5   \n",
       "29                       EternalReturn:BlackSurvival        17   2         2   \n",
       "30                                            FIFA21  1  7  24  29  9  5       \n",
       "31                             FINALFANTASYXIVOnline        76   2        11   \n",
       "32                         FallGuys:UltimateKnockout     2  72  16  1      2   \n",
       "33                                        Food&Drink     1  34   3     1   2   \n",
       "34                                          Fortnite  1  3  45  28  3          \n",
       "35                                       Games+Demos     1  44   2             \n",
       "36                                    GarenaFreeFire         1  55             \n",
       "37                                        Garry'sMod        34   6             \n",
       "38                                     GenshinImpact     1  61  11  3      1   \n",
       "39                                         GlitchCon        42   5         1   \n",
       "40                                           Godfall     2  86   2  3          \n",
       "41                                   GrandTheftAutoV     2  39  16  4  2       \n",
       "42                                       Hearthstone     1  46   5  5      8   \n",
       "43  HeroesofMightandMagicIII:TheRestorationofErathia         1                 \n",
       "44                                  HeroesoftheStorm  1     65   8  1          \n",
       "45                                 JackboxPartyPacks        93      1          \n",
       "46                                      JustChatting        46  22  1          \n",
       "47                                           Krunker        50   3             \n",
       "\n",
       "    ko  pt  ... bg pl th el no sv id tl hu asl  \n",
       "0    3   5  ...                                 \n",
       "1    1   5  ...                                 \n",
       "2    1   1  ...                                 \n",
       "3        1  ...                                 \n",
       "4    1  22  ...                                 \n",
       "5    3   1  ...                                 \n",
       "6    2   4  ...                                 \n",
       "7   12   4  ...                                 \n",
       "8   10   6  ...  1                              \n",
       "9           ...                                 \n",
       "10  11  12  ...     1  7                        \n",
       "11          ...                                 \n",
       "12      13  ...                                 \n",
       "13          ...                                 \n",
       "14       7  ...           1                     \n",
       "15   1   5  ...                                 \n",
       "16       2  ...                                 \n",
       "17   2      ...                                 \n",
       "18          ...                                 \n",
       "19          ...                                 \n",
       "20      23  ...        2     1  1               \n",
       "21      13  ...                 1               \n",
       "22   9   8  ...        1                        \n",
       "23   3   2  ...                                 \n",
       "24   4   1  ...                                 \n",
       "25   7   2  ...  1  1                           \n",
       "26   2  13  ...        3           1            \n",
       "27       4  ...                                 \n",
       "28   3   3  ...     1                           \n",
       "29  75   2  ...                                 \n",
       "30   4  16  ...                                 \n",
       "31   8   1  ...                                 \n",
       "32   1   3  ...                                 \n",
       "33   3      ...                                 \n",
       "34      12  ...                 1               \n",
       "35   9   5  ...                                 \n",
       "36      40  ...                                 \n",
       "37       1  ...                                 \n",
       "38   4   8  ...        3              1         \n",
       "39          ...                                 \n",
       "40   1   1  ...                          1      \n",
       "41      27  ...     1  1                        \n",
       "42   9   2  ...           1                  1  \n",
       "43          ...                                 \n",
       "44  12   2  ...                                 \n",
       "45          ...                                 \n",
       "46  10   8  ...     1  1                        \n",
       "47          ...                                 \n",
       "\n",
       "[48 rows x 28 columns]"
      ]
     },
     "execution_count": 51,
     "metadata": {},
     "output_type": "execute_result"
    }
   ],
   "source": [
    "### This function calculate sum of viewer of each game\n",
    "import numpy as np \n",
    "import pandas as pd\n",
    "import os\n",
    "\n",
    "# This function calculate sum of viewer for each game\n",
    "def get_GameViwer(path):\n",
    "    # @path: directory of gamedata folder\n",
    "    \n",
    "    #read data and add sum Game viewer at the end\n",
    "    read_file = find_csv_filenames(path)\n",
    "    file_name = read_file[0]\n",
    "    # get time stamp\n",
    "    time_stamp = file_name[9:-4]\n",
    "    path_to_game = os.path.join(path, \"game_streams\"+time_stamp)\n",
    "    \n",
    "    # open game_stream_folder\n",
    "    game_list = find_csv_filenames(path_to_game)\n",
    "    \n",
    "    \n",
    "    lang_data = pd.DataFrame(columns=['Games'])\n",
    "    lang_data[\"Games\"] = sorted(game_list)\n",
    "    \n",
    "    #create dataframe\n",
    "\n",
    "    for i,game in enumerate(sorted(game_list)):\n",
    "        game_data = pd.read_csv((os.path.join(path_to_game, game)))\n",
    "        group_dt = game_data.groupby('language').agg(np.size).reset_index()\n",
    "        \n",
    "        if i ==48:\n",
    "            break\n",
    "        for j, lan in enumerate(group_dt['language']):\n",
    "            if lan not in lang_data:\n",
    "                lang_data[lan] = ''\n",
    "                \n",
    "            lang_data.at[i,lan]=group_dt['viewer_count'][j]\n",
    "            \n",
    "        lang_data= lang_data.iloc[0:48,:]    \n",
    "\n",
    "    return lang_data\n",
    "\n",
    "# return a list of sorted csv file name\n",
    "def find_csv_filenames(path_to_dir, suffix=\".csv\"):\n",
    "\n",
    "    filenames = os.listdir(path_to_dir)\n",
    "    return [filename for filename in filenames if filename.endswith(suffix )]\n",
    "\n",
    "result = get_GameViwer(\"/Users/stephen/Desktop/GameData/aaaaaaa\")\n",
    "\n",
    "# rename the game to strip prefix and suffix\n",
    "for i ,data in enumerate(result['Games']):\n",
    "    result['Games'][i] = data[5:-15]\n",
    "    \n",
    "# print the result\n",
    "result"
   ]
  },
  {
   "cell_type": "markdown",
   "metadata": {},
   "source": [
    "## Install dependency of map\n",
    "`pip install echarts-countries-pypkg`\n",
    "\n",
    "### Extract FIFA21 GameData\n",
    "- Group language category and numbers\n",
    "- Visualize it on a world map"
   ]
  },
  {
   "cell_type": "code",
   "execution_count": 37,
   "metadata": {},
   "outputs": [
    {
     "data": {
      "text/html": [
       "<div>\n",
       "<style scoped>\n",
       "    .dataframe tbody tr th:only-of-type {\n",
       "        vertical-align: middle;\n",
       "    }\n",
       "\n",
       "    .dataframe tbody tr th {\n",
       "        vertical-align: top;\n",
       "    }\n",
       "\n",
       "    .dataframe thead th {\n",
       "        text-align: right;\n",
       "    }\n",
       "</style>\n",
       "<table border=\"1\" class=\"dataframe\">\n",
       "  <thead>\n",
       "    <tr style=\"text-align: right;\">\n",
       "      <th></th>\n",
       "      <th>Language Code</th>\n",
       "      <th>Number</th>\n",
       "    </tr>\n",
       "  </thead>\n",
       "  <tbody>\n",
       "    <tr>\n",
       "      <th>0</th>\n",
       "      <td>ar</td>\n",
       "      <td>3</td>\n",
       "    </tr>\n",
       "    <tr>\n",
       "      <th>1</th>\n",
       "      <td>cs</td>\n",
       "      <td>1</td>\n",
       "    </tr>\n",
       "    <tr>\n",
       "      <th>2</th>\n",
       "      <td>de</td>\n",
       "      <td>7</td>\n",
       "    </tr>\n",
       "    <tr>\n",
       "      <th>3</th>\n",
       "      <td>en</td>\n",
       "      <td>24</td>\n",
       "    </tr>\n",
       "    <tr>\n",
       "      <th>4</th>\n",
       "      <td>es</td>\n",
       "      <td>29</td>\n",
       "    </tr>\n",
       "    <tr>\n",
       "      <th>5</th>\n",
       "      <td>fr</td>\n",
       "      <td>9</td>\n",
       "    </tr>\n",
       "    <tr>\n",
       "      <th>6</th>\n",
       "      <td>it</td>\n",
       "      <td>5</td>\n",
       "    </tr>\n",
       "    <tr>\n",
       "      <th>7</th>\n",
       "      <td>ko</td>\n",
       "      <td>4</td>\n",
       "    </tr>\n",
       "    <tr>\n",
       "      <th>8</th>\n",
       "      <td>pt</td>\n",
       "      <td>16</td>\n",
       "    </tr>\n",
       "    <tr>\n",
       "      <th>9</th>\n",
       "      <td>ru</td>\n",
       "      <td>2</td>\n",
       "    </tr>\n",
       "  </tbody>\n",
       "</table>\n",
       "</div>"
      ],
      "text/plain": [
       "  Language Code  Number\n",
       "0            ar       3\n",
       "1            cs       1\n",
       "2            de       7\n",
       "3            en      24\n",
       "4            es      29\n",
       "5            fr       9\n",
       "6            it       5\n",
       "7            ko       4\n",
       "8            pt      16\n",
       "9            ru       2"
      ]
     },
     "execution_count": 37,
     "metadata": {},
     "output_type": "execute_result"
    }
   ],
   "source": [
    "import pandas as pd\n",
    "import numpy as np\n",
    "# load data\n",
    "game_path = '/Users/stephen/Desktop/GameData/aaaaaaa/game_streams_1605418868/game_FIFA21_1605418868.csv'\n",
    "df = pd.read_csv(game_path)\n",
    "df = df.groupby('language').agg(np.size).reset_index()\n",
    "df = df[['language','id']]\n",
    "df = df.rename(columns={\"language\": \"Language Code\", \"id\": \"Number\"})\n",
    "df\n",
    "\n",
    "\n"
   ]
  },
  {
   "cell_type": "code",
   "execution_count": 38,
   "metadata": {},
   "outputs": [
    {
     "data": {
      "text/html": [
       "\n",
       "<script>\n",
       "    require.config({\n",
       "        paths: {\n",
       "            'echarts':'https://assets.pyecharts.org/assets/echarts.min', 'world':'https://assets.pyecharts.org/assets/maps/world'\n",
       "        }\n",
       "    });\n",
       "</script>\n",
       "\n",
       "        <div id=\"719713c47e34486c82afc07bab4636c1\" style=\"width:900px; height:500px;\"></div>\n",
       "\n",
       "<script>\n",
       "        require(['echarts', 'world'], function(echarts) {\n",
       "                var chart_719713c47e34486c82afc07bab4636c1 = echarts.init(\n",
       "                    document.getElementById('719713c47e34486c82afc07bab4636c1'), 'white', {renderer: 'canvas'});\n",
       "                var option_719713c47e34486c82afc07bab4636c1 = {\n",
       "    \"animation\": true,\n",
       "    \"animationThreshold\": 2000,\n",
       "    \"animationDuration\": 1000,\n",
       "    \"animationEasing\": \"cubicOut\",\n",
       "    \"animationDelay\": 0,\n",
       "    \"animationDurationUpdate\": 300,\n",
       "    \"animationEasingUpdate\": \"cubicOut\",\n",
       "    \"animationDelayUpdate\": 0,\n",
       "    \"color\": [\n",
       "        \"#c23531\",\n",
       "        \"#2f4554\",\n",
       "        \"#61a0a8\",\n",
       "        \"#d48265\",\n",
       "        \"#749f83\",\n",
       "        \"#ca8622\",\n",
       "        \"#bda29a\",\n",
       "        \"#6e7074\",\n",
       "        \"#546570\",\n",
       "        \"#c4ccd3\",\n",
       "        \"#f05b72\",\n",
       "        \"#ef5b9c\",\n",
       "        \"#f47920\",\n",
       "        \"#905a3d\",\n",
       "        \"#fab27b\",\n",
       "        \"#2a5caa\",\n",
       "        \"#444693\",\n",
       "        \"#726930\",\n",
       "        \"#b2d235\",\n",
       "        \"#6d8346\",\n",
       "        \"#ac6767\",\n",
       "        \"#1d953f\",\n",
       "        \"#6950a1\",\n",
       "        \"#918597\"\n",
       "    ],\n",
       "    \"series\": [\n",
       "        {\n",
       "            \"type\": \"map\",\n",
       "            \"name\": \"FIFA21 Distribution\",\n",
       "            \"label\": {\n",
       "                \"show\": false,\n",
       "                \"position\": \"top\",\n",
       "                \"margin\": 8\n",
       "            },\n",
       "            \"mapType\": \"world\",\n",
       "            \"data\": [\n",
       "                {\n",
       "                    \"name\": \"Iran\",\n",
       "                    \"value\": 3\n",
       "                },\n",
       "                {\n",
       "                    \"name\": \"Czech Republic\",\n",
       "                    \"value\": 1\n",
       "                },\n",
       "                {\n",
       "                    \"name\": \"Germany\",\n",
       "                    \"value\": 7\n",
       "                },\n",
       "                {\n",
       "                    \"name\": \"United States\",\n",
       "                    \"value\": 24\n",
       "                },\n",
       "                {\n",
       "                    \"name\": \"Spain\",\n",
       "                    \"value\": 29\n",
       "                },\n",
       "                {\n",
       "                    \"name\": \"France\",\n",
       "                    \"value\": 9\n",
       "                },\n",
       "                {\n",
       "                    \"name\": \"Italy\",\n",
       "                    \"value\": 5\n",
       "                },\n",
       "                {\n",
       "                    \"name\": \"Korea\",\n",
       "                    \"value\": 4\n",
       "                },\n",
       "                {\n",
       "                    \"name\": \"Brazil\",\n",
       "                    \"value\": 16\n",
       "                },\n",
       "                {\n",
       "                    \"name\": \"Russia\",\n",
       "                    \"value\": 2\n",
       "                }\n",
       "            ],\n",
       "            \"roam\": true,\n",
       "            \"aspectScale\": 0.75,\n",
       "            \"nameProperty\": \"name\",\n",
       "            \"selectedMode\": false,\n",
       "            \"zoom\": 1,\n",
       "            \"mapValueCalculation\": \"sum\",\n",
       "            \"showLegendSymbol\": true,\n",
       "            \"emphasis\": {},\n",
       "            \"rippleEffect\": {\n",
       "                \"show\": true,\n",
       "                \"brushType\": \"stroke\",\n",
       "                \"scale\": 2.5,\n",
       "                \"period\": 4\n",
       "            }\n",
       "        }\n",
       "    ],\n",
       "    \"legend\": [\n",
       "        {\n",
       "            \"data\": [\n",
       "                \"FIFA21 Distribution\"\n",
       "            ],\n",
       "            \"selected\": {\n",
       "                \"FIFA21 Distribution\": true\n",
       "            },\n",
       "            \"show\": true,\n",
       "            \"padding\": 5,\n",
       "            \"itemGap\": 10,\n",
       "            \"itemWidth\": 25,\n",
       "            \"itemHeight\": 14\n",
       "        }\n",
       "    ],\n",
       "    \"tooltip\": {\n",
       "        \"show\": true,\n",
       "        \"trigger\": \"item\",\n",
       "        \"triggerOn\": \"mousemove|click\",\n",
       "        \"axisPointer\": {\n",
       "            \"type\": \"line\"\n",
       "        },\n",
       "        \"showContent\": true,\n",
       "        \"alwaysShowContent\": false,\n",
       "        \"showDelay\": 0,\n",
       "        \"hideDelay\": 100,\n",
       "        \"textStyle\": {\n",
       "            \"fontSize\": 14\n",
       "        },\n",
       "        \"borderWidth\": 0,\n",
       "        \"padding\": 5\n",
       "    },\n",
       "    \"title\": [\n",
       "        {\n",
       "            \"text\": \"World Map\",\n",
       "            \"padding\": 5,\n",
       "            \"itemGap\": 10\n",
       "        }\n",
       "    ],\n",
       "    \"visualMap\": {\n",
       "        \"show\": true,\n",
       "        \"type\": \"piecewise\",\n",
       "        \"min\": 0,\n",
       "        \"max\": 30,\n",
       "        \"inRange\": {\n",
       "            \"color\": [\n",
       "                \"#50a3ba\",\n",
       "                \"#eac763\",\n",
       "                \"#d94e5d\"\n",
       "            ]\n",
       "        },\n",
       "        \"calculable\": true,\n",
       "        \"inverse\": false,\n",
       "        \"splitNumber\": 5,\n",
       "        \"orient\": \"vertical\",\n",
       "        \"showLabel\": true,\n",
       "        \"itemWidth\": 20,\n",
       "        \"itemHeight\": 14,\n",
       "        \"borderWidth\": 0\n",
       "    }\n",
       "};\n",
       "                chart_719713c47e34486c82afc07bab4636c1.setOption(option_719713c47e34486c82afc07bab4636c1);\n",
       "        });\n",
       "    </script>\n"
      ],
      "text/plain": [
       "<pyecharts.render.display.HTML at 0x7febf1f06400>"
      ]
     },
     "execution_count": 38,
     "metadata": {},
     "output_type": "execute_result"
    }
   ],
   "source": [
    "from pyecharts.charts import Map  # Import library\n",
    "from pyecharts import options as opts\n",
    "\n",
    "country = ['Iran', 'Czech Republic', 'Germany', 'United States', 'Spain', 'France', 'Italy', 'Korea', 'Brazil','Russia']\n",
    "data_list = df['Number'].values.tolist()\n",
    "data_world = [(value, data_list[i]) for i, value in enumerate(country)]\n",
    "world = (\n",
    "    Map()\n",
    "    .add('FIFA21 Distribution', # Map name\n",
    "        data_world, # data\n",
    "        'world') # map type\n",
    "    .set_global_opts(\n",
    "        title_opts=opts.TitleOpts(title='World Map'),\n",
    "        visualmap_opts=opts.VisualMapOpts(\n",
    "            max_=30,\n",
    "            min_=0,\n",
    "            is_piecewise=True)  # Category\n",
    "    )\n",
    "    .set_series_opts(label_opts=opts.LabelOpts(is_show=False))\n",
    "    .render_notebook()\n",
    ")\n",
    "\n",
    "world"
   ]
  },
  {
   "cell_type": "code",
   "execution_count": 34,
   "metadata": {},
   "outputs": [
    {
     "data": {
      "text/html": [
       "<div>\n",
       "<style scoped>\n",
       "    .dataframe tbody tr th:only-of-type {\n",
       "        vertical-align: middle;\n",
       "    }\n",
       "\n",
       "    .dataframe tbody tr th {\n",
       "        vertical-align: top;\n",
       "    }\n",
       "\n",
       "    .dataframe thead th {\n",
       "        text-align: right;\n",
       "    }\n",
       "</style>\n",
       "<table border=\"1\" class=\"dataframe\">\n",
       "  <thead>\n",
       "    <tr style=\"text-align: right;\">\n",
       "      <th></th>\n",
       "      <th>Language Code</th>\n",
       "      <th>Number</th>\n",
       "    </tr>\n",
       "  </thead>\n",
       "  <tbody>\n",
       "    <tr>\n",
       "      <th>0</th>\n",
       "      <td>de</td>\n",
       "      <td>1</td>\n",
       "    </tr>\n",
       "    <tr>\n",
       "      <th>1</th>\n",
       "      <td>el</td>\n",
       "      <td>1</td>\n",
       "    </tr>\n",
       "    <tr>\n",
       "      <th>2</th>\n",
       "      <td>en</td>\n",
       "      <td>31</td>\n",
       "    </tr>\n",
       "    <tr>\n",
       "      <th>3</th>\n",
       "      <td>es</td>\n",
       "      <td>11</td>\n",
       "    </tr>\n",
       "    <tr>\n",
       "      <th>4</th>\n",
       "      <td>ja</td>\n",
       "      <td>6</td>\n",
       "    </tr>\n",
       "    <tr>\n",
       "      <th>5</th>\n",
       "      <td>ko</td>\n",
       "      <td>17</td>\n",
       "    </tr>\n",
       "    <tr>\n",
       "      <th>6</th>\n",
       "      <td>pt</td>\n",
       "      <td>18</td>\n",
       "    </tr>\n",
       "    <tr>\n",
       "      <th>7</th>\n",
       "      <td>ru</td>\n",
       "      <td>2</td>\n",
       "    </tr>\n",
       "    <tr>\n",
       "      <th>8</th>\n",
       "      <td>tr</td>\n",
       "      <td>4</td>\n",
       "    </tr>\n",
       "    <tr>\n",
       "      <th>9</th>\n",
       "      <td>zh</td>\n",
       "      <td>8</td>\n",
       "    </tr>\n",
       "  </tbody>\n",
       "</table>\n",
       "</div>"
      ],
      "text/plain": [
       "  Language Code  Number\n",
       "0            de       1\n",
       "1            el       1\n",
       "2            en      31\n",
       "3            es      11\n",
       "4            ja       6\n",
       "5            ko      17\n",
       "6            pt      18\n",
       "7            ru       2\n",
       "8            tr       4\n",
       "9            zh       8"
      ]
     },
     "execution_count": 34,
     "metadata": {},
     "output_type": "execute_result"
    }
   ],
   "source": [
    "game_path = '/Users/stephen/Desktop/GameData/aaaaaaa/game_streams_1605418868/game_LeagueofLegends_1605418868.csv'\n",
    "df2 = pd.read_csv(game_path)\n",
    "df2 = df2.groupby('language').agg(np.size).reset_index()\n",
    "df2 = df2[['language','id']]\n",
    "df2 = df2.rename(columns={\"language\": \"Language Code\", \"id\": \"Number\"});df2"
   ]
  },
  {
   "cell_type": "code",
   "execution_count": 39,
   "metadata": {},
   "outputs": [
    {
     "data": {
      "text/html": [
       "\n",
       "<script>\n",
       "    require.config({\n",
       "        paths: {\n",
       "            'echarts':'https://assets.pyecharts.org/assets/echarts.min', 'world':'https://assets.pyecharts.org/assets/maps/world'\n",
       "        }\n",
       "    });\n",
       "</script>\n",
       "\n",
       "        <div id=\"2c3dee45e643453c94ffae42f6e11365\" style=\"width:900px; height:500px;\"></div>\n",
       "\n",
       "<script>\n",
       "        require(['echarts', 'world'], function(echarts) {\n",
       "                var chart_2c3dee45e643453c94ffae42f6e11365 = echarts.init(\n",
       "                    document.getElementById('2c3dee45e643453c94ffae42f6e11365'), 'white', {renderer: 'canvas'});\n",
       "                var option_2c3dee45e643453c94ffae42f6e11365 = {\n",
       "    \"animation\": true,\n",
       "    \"animationThreshold\": 2000,\n",
       "    \"animationDuration\": 1000,\n",
       "    \"animationEasing\": \"cubicOut\",\n",
       "    \"animationDelay\": 0,\n",
       "    \"animationDurationUpdate\": 300,\n",
       "    \"animationEasingUpdate\": \"cubicOut\",\n",
       "    \"animationDelayUpdate\": 0,\n",
       "    \"color\": [\n",
       "        \"#c23531\",\n",
       "        \"#2f4554\",\n",
       "        \"#61a0a8\",\n",
       "        \"#d48265\",\n",
       "        \"#749f83\",\n",
       "        \"#ca8622\",\n",
       "        \"#bda29a\",\n",
       "        \"#6e7074\",\n",
       "        \"#546570\",\n",
       "        \"#c4ccd3\",\n",
       "        \"#f05b72\",\n",
       "        \"#ef5b9c\",\n",
       "        \"#f47920\",\n",
       "        \"#905a3d\",\n",
       "        \"#fab27b\",\n",
       "        \"#2a5caa\",\n",
       "        \"#444693\",\n",
       "        \"#726930\",\n",
       "        \"#b2d235\",\n",
       "        \"#6d8346\",\n",
       "        \"#ac6767\",\n",
       "        \"#1d953f\",\n",
       "        \"#6950a1\",\n",
       "        \"#918597\"\n",
       "    ],\n",
       "    \"series\": [\n",
       "        {\n",
       "            \"type\": \"map\",\n",
       "            \"name\": \"League of Legend Distribution\",\n",
       "            \"label\": {\n",
       "                \"show\": false,\n",
       "                \"position\": \"top\",\n",
       "                \"margin\": 8\n",
       "            },\n",
       "            \"mapType\": \"world\",\n",
       "            \"data\": [\n",
       "                {\n",
       "                    \"name\": \"Germany\",\n",
       "                    \"value\": 1\n",
       "                },\n",
       "                {\n",
       "                    \"name\": \"Grace\",\n",
       "                    \"value\": 1\n",
       "                },\n",
       "                {\n",
       "                    \"name\": \"United States\",\n",
       "                    \"value\": 31\n",
       "                },\n",
       "                {\n",
       "                    \"name\": \"Spain\",\n",
       "                    \"value\": 11\n",
       "                },\n",
       "                {\n",
       "                    \"name\": \"Japan\",\n",
       "                    \"value\": 6\n",
       "                },\n",
       "                {\n",
       "                    \"name\": \"Korea\",\n",
       "                    \"value\": 17\n",
       "                },\n",
       "                {\n",
       "                    \"name\": \"Brazil\",\n",
       "                    \"value\": 18\n",
       "                },\n",
       "                {\n",
       "                    \"name\": \"Russia\",\n",
       "                    \"value\": 2\n",
       "                },\n",
       "                {\n",
       "                    \"name\": \"Turkey\",\n",
       "                    \"value\": 4\n",
       "                },\n",
       "                {\n",
       "                    \"name\": \"China\",\n",
       "                    \"value\": 8\n",
       "                }\n",
       "            ],\n",
       "            \"roam\": true,\n",
       "            \"aspectScale\": 0.75,\n",
       "            \"nameProperty\": \"name\",\n",
       "            \"selectedMode\": false,\n",
       "            \"zoom\": 1,\n",
       "            \"mapValueCalculation\": \"sum\",\n",
       "            \"showLegendSymbol\": true,\n",
       "            \"emphasis\": {},\n",
       "            \"rippleEffect\": {\n",
       "                \"show\": true,\n",
       "                \"brushType\": \"stroke\",\n",
       "                \"scale\": 2.5,\n",
       "                \"period\": 4\n",
       "            }\n",
       "        }\n",
       "    ],\n",
       "    \"legend\": [\n",
       "        {\n",
       "            \"data\": [\n",
       "                \"League of Legend Distribution\"\n",
       "            ],\n",
       "            \"selected\": {\n",
       "                \"League of Legend Distribution\": true\n",
       "            },\n",
       "            \"show\": true,\n",
       "            \"padding\": 5,\n",
       "            \"itemGap\": 10,\n",
       "            \"itemWidth\": 25,\n",
       "            \"itemHeight\": 14\n",
       "        }\n",
       "    ],\n",
       "    \"tooltip\": {\n",
       "        \"show\": true,\n",
       "        \"trigger\": \"item\",\n",
       "        \"triggerOn\": \"mousemove|click\",\n",
       "        \"axisPointer\": {\n",
       "            \"type\": \"line\"\n",
       "        },\n",
       "        \"showContent\": true,\n",
       "        \"alwaysShowContent\": false,\n",
       "        \"showDelay\": 0,\n",
       "        \"hideDelay\": 100,\n",
       "        \"textStyle\": {\n",
       "            \"fontSize\": 14\n",
       "        },\n",
       "        \"borderWidth\": 0,\n",
       "        \"padding\": 5\n",
       "    },\n",
       "    \"title\": [\n",
       "        {\n",
       "            \"text\": \"World Map\",\n",
       "            \"padding\": 5,\n",
       "            \"itemGap\": 10\n",
       "        }\n",
       "    ],\n",
       "    \"visualMap\": {\n",
       "        \"show\": true,\n",
       "        \"type\": \"piecewise\",\n",
       "        \"min\": 0,\n",
       "        \"max\": 35,\n",
       "        \"inRange\": {\n",
       "            \"color\": [\n",
       "                \"#50a3ba\",\n",
       "                \"#eac763\",\n",
       "                \"#d94e5d\"\n",
       "            ]\n",
       "        },\n",
       "        \"calculable\": true,\n",
       "        \"inverse\": false,\n",
       "        \"splitNumber\": 5,\n",
       "        \"orient\": \"vertical\",\n",
       "        \"showLabel\": true,\n",
       "        \"itemWidth\": 20,\n",
       "        \"itemHeight\": 14,\n",
       "        \"borderWidth\": 0\n",
       "    }\n",
       "};\n",
       "                chart_2c3dee45e643453c94ffae42f6e11365.setOption(option_2c3dee45e643453c94ffae42f6e11365);\n",
       "        });\n",
       "    </script>\n"
      ],
      "text/plain": [
       "<pyecharts.render.display.HTML at 0x7febf29b62e0>"
      ]
     },
     "execution_count": 39,
     "metadata": {},
     "output_type": "execute_result"
    }
   ],
   "source": [
    "country = ['Germany', 'Grace', 'United States', 'Spain', 'Japan', 'Korea', 'Brazil', 'Russia', 'Turkey','China']\n",
    "data_list = df2['Number'].values.tolist()\n",
    "data_world = [(value, data_list[i]) for i, value in enumerate(country)]\n",
    "world = (\n",
    "    Map()\n",
    "    .add('League of Legend Distribution', # Map name\n",
    "        data_world, # data\n",
    "        'world') # map type\n",
    "    .set_global_opts(\n",
    "        title_opts=opts.TitleOpts(title='World Map'),\n",
    "        visualmap_opts=opts.VisualMapOpts(\n",
    "            max_=35,\n",
    "            min_=0,\n",
    "            is_piecewise=True)  # Category\n",
    "    )\n",
    "    .set_series_opts(label_opts=opts.LabelOpts(is_show=False))\n",
    "    .render_notebook()\n",
    ")\n",
    "\n",
    "world"
   ]
  },
  {
   "cell_type": "code",
   "execution_count": null,
   "metadata": {},
   "outputs": [],
   "source": []
  }
 ],
 "metadata": {
  "kernelspec": {
   "display_name": "Python 3",
   "language": "python",
   "name": "python3"
  },
  "language_info": {
   "codemirror_mode": {
    "name": "ipython",
    "version": 3
   },
   "file_extension": ".py",
   "mimetype": "text/x-python",
   "name": "python",
   "nbconvert_exporter": "python",
   "pygments_lexer": "ipython3",
   "version": "3.8.3"
  }
 },
 "nbformat": 4,
 "nbformat_minor": 4
}
